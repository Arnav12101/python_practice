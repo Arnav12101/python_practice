{
 "cells": [
  {
   "cell_type": "markdown",
   "id": "b4414f58",
   "metadata": {},
   "source": [
    "# if, elif, else statements "
   ]
  },
  {
   "cell_type": "code",
   "execution_count": null,
   "id": "c8e12d34",
   "metadata": {},
   "outputs": [],
   "source": [
    "Syntax - \n",
    "if some_condition:\n",
    "    # execute some code\n",
    "else:\n",
    "    # do something else"
   ]
  },
  {
   "cell_type": "code",
   "execution_count": null,
   "id": "e817bce9",
   "metadata": {},
   "outputs": [],
   "source": [
    "Syntax - \n",
    "if some_condition:\n",
    "    # execute some code\n",
    "elif:\n",
    "    # do something different\n",
    "else:\n",
    "    # do something else\n"
   ]
  },
  {
   "cell_type": "code",
   "execution_count": 3,
   "id": "f75c6f0a",
   "metadata": {},
   "outputs": [
    {
     "name": "stdout",
     "output_type": "stream",
     "text": [
      "hello\n"
     ]
    }
   ],
   "source": [
    "if True:\n",
    "    print('hello')"
   ]
  },
  {
   "cell_type": "code",
   "execution_count": 6,
   "id": "39e9c47b",
   "metadata": {},
   "outputs": [
    {
     "name": "stdout",
     "output_type": "stream",
     "text": [
      "no feed\n"
     ]
    }
   ],
   "source": [
    "hungry = False\n",
    "if hungry:\n",
    "    print('feed')    \n",
    "else: \n",
    "    print('no feed')\n",
    "        "
   ]
  },
  {
   "cell_type": "code",
   "execution_count": 7,
   "id": "891d1cb4",
   "metadata": {},
   "outputs": [
    {
     "name": "stdout",
     "output_type": "stream",
     "text": [
      "money is cool\n"
     ]
    }
   ],
   "source": [
    "loc = 'Bank'\n",
    "\n",
    "if loc == 'Auto Shop':\n",
    "    print('Cars are cool')\n",
    "elif loc == 'Bank':\n",
    "    print('money is cool')\n",
    "else:\n",
    "    print(\"I don't know much\")"
   ]
  },
  {
   "cell_type": "code",
   "execution_count": 8,
   "id": "1b702d0e",
   "metadata": {},
   "outputs": [
    {
     "name": "stdout",
     "output_type": "stream",
     "text": [
      "who u\n"
     ]
    }
   ],
   "source": [
    "name = 'sammy'\n",
    "\n",
    "if name == 'frankie':\n",
    "    print('hello frankie')\n",
    "else:\n",
    "    print('who u')"
   ]
  },
  {
   "cell_type": "markdown",
   "id": "f9cef2f2",
   "metadata": {},
   "source": [
    "# FOR LOOPS"
   ]
  },
  {
   "cell_type": "code",
   "execution_count": 9,
   "id": "6599f23d",
   "metadata": {},
   "outputs": [
    {
     "name": "stdout",
     "output_type": "stream",
     "text": [
      "1\n",
      "2\n",
      "3\n",
      "4\n",
      "5\n",
      "6\n"
     ]
    }
   ],
   "source": [
    "#Syntax \n",
    "\n",
    "my_iterable = [1,2,3,4,5,6]\n",
    "for item in my_iterable:\n",
    "    print(item)"
   ]
  },
  {
   "cell_type": "code",
   "execution_count": 10,
   "id": "6d453074",
   "metadata": {},
   "outputs": [],
   "source": [
    "mylist = [1,2,3,4,5,6,7,8,9,10]"
   ]
  },
  {
   "cell_type": "code",
   "execution_count": 14,
   "id": "f76cf277",
   "metadata": {},
   "outputs": [
    {
     "name": "stdout",
     "output_type": "stream",
     "text": [
      "1\n",
      "2\n",
      "3\n",
      "4\n",
      "5\n",
      "6\n",
      "7\n",
      "8\n",
      "9\n",
      "10\n"
     ]
    }
   ],
   "source": [
    "for num in mylist:\n",
    "    print(num)"
   ]
  },
  {
   "cell_type": "code",
   "execution_count": 21,
   "id": "b34ae0e6",
   "metadata": {},
   "outputs": [
    {
     "name": "stdout",
     "output_type": "stream",
     "text": [
      "odd num 1\n",
      "even num 2\n",
      "odd num 3\n",
      "even num 4\n",
      "odd num 5\n",
      "even num 6\n",
      "odd num 7\n",
      "even num 8\n",
      "odd num 9\n",
      "even num 10\n"
     ]
    }
   ],
   "source": [
    "for num in mylist:\n",
    "    if(num%2 == 0):\n",
    "        print(f'even num {num}')\n",
    "    else:\n",
    "        print(f'odd num {num}')"
   ]
  },
  {
   "cell_type": "code",
   "execution_count": 24,
   "id": "20f880cc",
   "metadata": {},
   "outputs": [
    {
     "name": "stdout",
     "output_type": "stream",
     "text": [
      "1\n",
      "3\n",
      "6\n",
      "10\n",
      "15\n",
      "21\n",
      "28\n",
      "36\n",
      "45\n",
      "55\n",
      "final result 55\n"
     ]
    }
   ],
   "source": [
    "list_sum = 0\n",
    "for num in mylist:\n",
    "    list_sum = list_sum + num\n",
    "    print(list_sum)\n",
    "print(f'final result {list_sum}')"
   ]
  },
  {
   "cell_type": "code",
   "execution_count": 26,
   "id": "8f2d74af",
   "metadata": {},
   "outputs": [
    {
     "name": "stdout",
     "output_type": "stream",
     "text": [
      "s\n",
      "a\n",
      "m\n",
      "u\n",
      "e\n",
      "l\n"
     ]
    }
   ],
   "source": [
    "name = 'samuel'\n",
    "for letter in name:\n",
    "    print(letter)"
   ]
  },
  {
   "cell_type": "code",
   "execution_count": 27,
   "id": "b0729b94",
   "metadata": {},
   "outputs": [
    {
     "name": "stdout",
     "output_type": "stream",
     "text": [
      "(1, 2)\n",
      "(3, 4)\n",
      "(5, 6)\n",
      "(7, 8)\n"
     ]
    }
   ],
   "source": [
    "mylist = [(1,2),(3,4),(5,6),(7,8)]\n",
    "for item in mylist:\n",
    "    print(item)"
   ]
  },
  {
   "cell_type": "code",
   "execution_count": 32,
   "id": "b0a7dac1",
   "metadata": {},
   "outputs": [
    {
     "name": "stdout",
     "output_type": "stream",
     "text": [
      "k 1\n",
      "k 2\n",
      "k 3\n"
     ]
    }
   ],
   "source": [
    "d = {'k1':1, 'k2':2, 'k3':3}\n",
    "for item, value in d:\n",
    "    print(item, value)"
   ]
  },
  {
   "cell_type": "markdown",
   "id": "f3f8319d",
   "metadata": {},
   "source": [
    "# WHILE LOOPS"
   ]
  },
  {
   "cell_type": "code",
   "execution_count": null,
   "id": "7e8ba613",
   "metadata": {},
   "outputs": [],
   "source": [
    "#while loops will continue to execute a block of code while some condition remains true\n",
    "\n",
    "while some_boolean_condition:\n",
    "    #do something"
   ]
  },
  {
   "cell_type": "code",
   "execution_count": 38,
   "id": "b0a4ab66",
   "metadata": {},
   "outputs": [
    {
     "name": "stdout",
     "output_type": "stream",
     "text": [
      "1\n",
      "2\n",
      "3\n",
      "4\n",
      "5\n",
      "6\n",
      "7\n",
      "8\n",
      "9\n",
      "i is not less than 10\n"
     ]
    }
   ],
   "source": [
    "i=1\n",
    "while(i<10):\n",
    "    print(i)\n",
    "    i += 1\n",
    "else:\n",
    "    print('i is not less than 10')"
   ]
  },
  {
   "cell_type": "markdown",
   "id": "868e4547",
   "metadata": {},
   "source": [
    "## Break, Continue, Pass"
   ]
  },
  {
   "cell_type": "code",
   "execution_count": 39,
   "id": "982584b9",
   "metadata": {},
   "outputs": [],
   "source": [
    "# Break: breaks out of the current closest enclosing loop\n",
    "# Continue: Goes to the top of the closest enclosing loop\n",
    "# pass: Does nothing at all"
   ]
  },
  {
   "cell_type": "code",
   "execution_count": 42,
   "id": "9eccfb01",
   "metadata": {},
   "outputs": [],
   "source": [
    "x = [1,2,3,4]\n",
    "for item in x:\n",
    "    pass"
   ]
  },
  {
   "cell_type": "code",
   "execution_count": 43,
   "id": "487b9766",
   "metadata": {},
   "outputs": [],
   "source": [
    "mystring = 'sammy'"
   ]
  },
  {
   "cell_type": "code",
   "execution_count": 47,
   "id": "1147a254",
   "metadata": {},
   "outputs": [
    {
     "name": "stdout",
     "output_type": "stream",
     "text": [
      "s\n",
      "m\n",
      "m\n",
      "y\n"
     ]
    }
   ],
   "source": [
    "for letter in mystring:\n",
    "    if letter == 'a':\n",
    "        continue #the cursor will go back to the top of loop after the condition is met\n",
    "    print(letter)"
   ]
  },
  {
   "cell_type": "code",
   "execution_count": 49,
   "id": "378be525",
   "metadata": {},
   "outputs": [
    {
     "name": "stdout",
     "output_type": "stream",
     "text": [
      "s\n",
      "a\n"
     ]
    }
   ],
   "source": [
    "for letter in mystring:\n",
    "    if letter == 'm':\n",
    "        break #exits the loop when condition is met\n",
    "    print(f'{letter}')"
   ]
  },
  {
   "cell_type": "markdown",
   "id": "0d1de01a",
   "metadata": {},
   "source": [
    "#  Useful operators"
   ]
  },
  {
   "cell_type": "code",
   "execution_count": 50,
   "id": "9d476fb6",
   "metadata": {},
   "outputs": [
    {
     "name": "stdout",
     "output_type": "stream",
     "text": [
      "0\n",
      "1\n",
      "2\n",
      "3\n",
      "4\n",
      "5\n",
      "6\n",
      "7\n",
      "8\n",
      "9\n"
     ]
    }
   ],
   "source": [
    "for num in range(10):\n",
    "    print(num)"
   ]
  },
  {
   "cell_type": "code",
   "execution_count": 56,
   "id": "47e79d28",
   "metadata": {},
   "outputs": [
    {
     "name": "stdout",
     "output_type": "stream",
     "text": [
      "3\n",
      "4\n",
      "5\n",
      "6\n",
      "7\n",
      "8\n",
      "9\n"
     ]
    }
   ],
   "source": [
    "for num in range(3,10):\n",
    "    print(num)"
   ]
  },
  {
   "cell_type": "code",
   "execution_count": 53,
   "id": "4ff49665",
   "metadata": {},
   "outputs": [
    {
     "name": "stdout",
     "output_type": "stream",
     "text": [
      "0\n",
      "2\n",
      "4\n",
      "6\n",
      "8\n",
      "10\n"
     ]
    }
   ],
   "source": [
    "for num in range(0,11,2):\n",
    "    print(num)"
   ]
  },
  {
   "cell_type": "code",
   "execution_count": 55,
   "id": "74f9528b",
   "metadata": {},
   "outputs": [
    {
     "name": "stdout",
     "output_type": "stream",
     "text": [
      "(0, 'a')\n",
      "(1, 'b')\n",
      "(2, 'c')\n",
      "(3, 'd')\n",
      "(4, 'e')\n"
     ]
    }
   ],
   "source": [
    "word = 'abcde'\n",
    "for letter in enumerate(word):\n",
    "    print(letter)"
   ]
  },
  {
   "cell_type": "code",
   "execution_count": 58,
   "id": "a80cbde2",
   "metadata": {},
   "outputs": [
    {
     "name": "stdout",
     "output_type": "stream",
     "text": [
      "(1, 'a')\n",
      "(2, 'b')\n",
      "(3, 'c')\n"
     ]
    }
   ],
   "source": [
    "list1 = [1,2,3]\n",
    "list2 = ['a','b','c']\n",
    "\n",
    "for item in zip(list1, list2):\n",
    "    print(item)"
   ]
  },
  {
   "cell_type": "code",
   "execution_count": 59,
   "id": "8ef8d2e3",
   "metadata": {},
   "outputs": [],
   "source": [
    "from random import shuffle"
   ]
  },
  {
   "cell_type": "code",
   "execution_count": 60,
   "id": "5d04fd6f",
   "metadata": {},
   "outputs": [
    {
     "name": "stdout",
     "output_type": "stream",
     "text": [
      "[5, 6, 3, 9, 1, 7, 2, 10, 8, 4]\n"
     ]
    }
   ],
   "source": [
    "mylist = [1,2,3,4,5,6,7,8,9,10]\n",
    "shuffle(mylist)\n",
    "print(mylist)"
   ]
  },
  {
   "cell_type": "code",
   "execution_count": 61,
   "id": "de278d50",
   "metadata": {},
   "outputs": [
    {
     "name": "stdout",
     "output_type": "stream",
     "text": [
      "Enter a number10\n",
      "10\n"
     ]
    }
   ],
   "source": [
    "num = input('Enter a number')\n",
    "print(num)"
   ]
  },
  {
   "cell_type": "code",
   "execution_count": 63,
   "id": "4aea1186",
   "metadata": {},
   "outputs": [
    {
     "name": "stdout",
     "output_type": "stream",
     "text": [
      "['t', 'h', 'i', 's', ' ', 'i', 's', ' ', 's', 'o', 'm', 'e', ' ', 's', 't', 'r', 'i', 'n', 'g']\n"
     ]
    }
   ],
   "source": [
    "mystring = 'this is some string'\n",
    "mylist = [letter for letter in mystring]\n",
    "print(mylist)"
   ]
  },
  {
   "cell_type": "code",
   "execution_count": null,
   "id": "5938f310",
   "metadata": {},
   "outputs": [],
   "source": []
  }
 ],
 "metadata": {
  "kernelspec": {
   "display_name": "Python 3 (ipykernel)",
   "language": "python",
   "name": "python3"
  },
  "language_info": {
   "codemirror_mode": {
    "name": "ipython",
    "version": 3
   },
   "file_extension": ".py",
   "mimetype": "text/x-python",
   "name": "python",
   "nbconvert_exporter": "python",
   "pygments_lexer": "ipython3",
   "version": "3.11.5"
  }
 },
 "nbformat": 4,
 "nbformat_minor": 5
}
