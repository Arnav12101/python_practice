{
 "cells": [
  {
   "cell_type": "code",
   "execution_count": 1,
   "id": "0ac2c33d",
   "metadata": {},
   "outputs": [],
   "source": [
    "#Regular expressions (regex) allow us to search for general patterns in text data\n",
    "# for exmaple, a simple email format can be \n",
    "# user@email.com\n",
    "#we know, in this case we're looking for a pattern \"text\" + \"@\" + \"text\" + \".com\""
   ]
  },
  {
   "cell_type": "code",
   "execution_count": 2,
   "id": "ee51687d",
   "metadata": {},
   "outputs": [],
   "source": [
    "# The re library allows us to create specialized pattern string and then search for matches within text"
   ]
  },
  {
   "cell_type": "code",
   "execution_count": 3,
   "id": "2ff99141",
   "metadata": {},
   "outputs": [],
   "source": [
    "# The primary skill set for regex is understanding the special syntax for these pattern strings"
   ]
  },
  {
   "cell_type": "code",
   "execution_count": 5,
   "id": "78aa4717",
   "metadata": {},
   "outputs": [],
   "source": [
    "# phone number -> (555)-555-5555\n",
    "#Regex pattern -> r\"(\\d\\d\\d)-\\d\\d\\d-\\d\\d\\d\\d\n",
    "#Regex pattern -> r\"(\\d{3})-\\d{3}-\\d{4}\""
   ]
  },
  {
   "cell_type": "code",
   "execution_count": 6,
   "id": "fc394f8a",
   "metadata": {},
   "outputs": [],
   "source": [
    "text = \"The agent's phone number is 408-555-1234. Call Soon!\""
   ]
  },
  {
   "cell_type": "code",
   "execution_count": 7,
   "id": "3d821f36",
   "metadata": {},
   "outputs": [
    {
     "data": {
      "text/plain": [
       "True"
      ]
     },
     "execution_count": 7,
     "metadata": {},
     "output_type": "execute_result"
    }
   ],
   "source": [
    "'phone' in text"
   ]
  },
  {
   "cell_type": "code",
   "execution_count": 8,
   "id": "a204100f",
   "metadata": {},
   "outputs": [],
   "source": [
    "import re"
   ]
  },
  {
   "cell_type": "code",
   "execution_count": 9,
   "id": "43285862",
   "metadata": {},
   "outputs": [],
   "source": [
    "pattern = 'phone'"
   ]
  },
  {
   "cell_type": "code",
   "execution_count": 10,
   "id": "e1b764b7",
   "metadata": {},
   "outputs": [
    {
     "data": {
      "text/plain": [
       "<re.Match object; span=(12, 17), match='phone'>"
      ]
     },
     "execution_count": 10,
     "metadata": {},
     "output_type": "execute_result"
    }
   ],
   "source": [
    "re.search(pattern, text)"
   ]
  },
  {
   "cell_type": "code",
   "execution_count": 16,
   "id": "ad56743c",
   "metadata": {},
   "outputs": [],
   "source": [
    "pattern = 'NOT IN TEXT'"
   ]
  },
  {
   "cell_type": "code",
   "execution_count": 21,
   "id": "3af8fc29",
   "metadata": {},
   "outputs": [],
   "source": [
    "match = re.search(pattern, text)"
   ]
  },
  {
   "cell_type": "code",
   "execution_count": 22,
   "id": "e98d703e",
   "metadata": {},
   "outputs": [],
   "source": [
    "pattern = 'phone'"
   ]
  },
  {
   "cell_type": "code",
   "execution_count": 23,
   "id": "3d034cc1",
   "metadata": {},
   "outputs": [
    {
     "data": {
      "text/plain": [
       "<re.Match object; span=(12, 17), match='phone'>"
      ]
     },
     "execution_count": 23,
     "metadata": {},
     "output_type": "execute_result"
    }
   ],
   "source": [
    "re.search(pattern ,text)"
   ]
  },
  {
   "cell_type": "code",
   "execution_count": 24,
   "id": "ba8de2db",
   "metadata": {},
   "outputs": [
    {
     "data": {
      "text/plain": [
       "(12, 17)"
      ]
     },
     "execution_count": 24,
     "metadata": {},
     "output_type": "execute_result"
    }
   ],
   "source": [
    "match.span()"
   ]
  },
  {
   "cell_type": "code",
   "execution_count": 25,
   "id": "46b1e347",
   "metadata": {},
   "outputs": [
    {
     "data": {
      "text/plain": [
       "12"
      ]
     },
     "execution_count": 25,
     "metadata": {},
     "output_type": "execute_result"
    }
   ],
   "source": [
    "match.start() #start index"
   ]
  },
  {
   "cell_type": "code",
   "execution_count": 26,
   "id": "803214b4",
   "metadata": {},
   "outputs": [
    {
     "data": {
      "text/plain": [
       "17"
      ]
     },
     "execution_count": 26,
     "metadata": {},
     "output_type": "execute_result"
    }
   ],
   "source": [
    "match.end()#end index"
   ]
  },
  {
   "cell_type": "code",
   "execution_count": 27,
   "id": "7388ce8f",
   "metadata": {},
   "outputs": [],
   "source": [
    "text = 'my phone once, my phone twice'"
   ]
  },
  {
   "cell_type": "code",
   "execution_count": 28,
   "id": "307ce96a",
   "metadata": {},
   "outputs": [],
   "source": [
    "match = re.search('phone', text)"
   ]
  },
  {
   "cell_type": "code",
   "execution_count": 29,
   "id": "00c0edfd",
   "metadata": {},
   "outputs": [
    {
     "data": {
      "text/plain": [
       "<re.Match object; span=(3, 8), match='phone'>"
      ]
     },
     "execution_count": 29,
     "metadata": {},
     "output_type": "execute_result"
    }
   ],
   "source": [
    "match"
   ]
  },
  {
   "cell_type": "code",
   "execution_count": 30,
   "id": "0dba12e8",
   "metadata": {},
   "outputs": [],
   "source": [
    "matches = re.findall('phone', text)"
   ]
  },
  {
   "cell_type": "code",
   "execution_count": 31,
   "id": "0450a059",
   "metadata": {},
   "outputs": [
    {
     "data": {
      "text/plain": [
       "['phone', 'phone']"
      ]
     },
     "execution_count": 31,
     "metadata": {},
     "output_type": "execute_result"
    }
   ],
   "source": [
    "matches"
   ]
  },
  {
   "cell_type": "code",
   "execution_count": 32,
   "id": "9d65b43c",
   "metadata": {},
   "outputs": [
    {
     "data": {
      "text/plain": [
       "2"
      ]
     },
     "execution_count": 32,
     "metadata": {},
     "output_type": "execute_result"
    }
   ],
   "source": [
    "len(matches)"
   ]
  },
  {
   "cell_type": "code",
   "execution_count": 37,
   "id": "47d0f8ea",
   "metadata": {},
   "outputs": [
    {
     "name": "stdout",
     "output_type": "stream",
     "text": [
      "<re.Match object; span=(3, 8), match='phone'>\n",
      "<re.Match object; span=(18, 23), match='phone'>\n"
     ]
    }
   ],
   "source": [
    "for match in re.finditer('phone', text):\n",
    "#     print(match)\n",
    "#     print(match.group()"
   ]
  },
  {
   "cell_type": "markdown",
   "id": "814d4676",
   "metadata": {},
   "source": [
    "## Character  | Description    |Example_pattern_code   |Example_Match\n",
    "    \\d            |A digit          |file_\\d\\d                      |file_25\n",
    "    \\w            |Alphanumeric     |\\w-\\w\\w\\w                      |A-b_1\n",
    "    \\s            |White Space      |a\\sb\\sc                        |a b c\n",
    "    \\D            |A non digit      |\\D\\D\\D                         |ABC\n",
    "    \\W            |Non-Alphanumeric |\\W\\W\\W\\W\\W\\W                   |*-+=)\n",
    "    \\S            |Non-Whitespace   |\\s\\s\\s\\s                       |Yoyo"
   ]
  },
  {
   "cell_type": "code",
   "execution_count": 45,
   "id": "86ac93b2",
   "metadata": {},
   "outputs": [],
   "source": [
    "text = 'My phone number is 408-555-7777'"
   ]
  },
  {
   "cell_type": "code",
   "execution_count": 46,
   "id": "c0fdfff7",
   "metadata": {},
   "outputs": [],
   "source": [
    "phone = re.search(r'\\d\\d\\d-\\d\\d\\d-\\d\\d\\d\\d', text)"
   ]
  },
  {
   "cell_type": "code",
   "execution_count": 47,
   "id": "ec096eea",
   "metadata": {},
   "outputs": [
    {
     "data": {
      "text/plain": [
       "<re.Match object; span=(19, 31), match='408-555-7777'>"
      ]
     },
     "execution_count": 47,
     "metadata": {},
     "output_type": "execute_result"
    }
   ],
   "source": [
    "phone"
   ]
  },
  {
   "cell_type": "code",
   "execution_count": 48,
   "id": "31d082bb",
   "metadata": {},
   "outputs": [
    {
     "data": {
      "text/plain": [
       "'408-555-7777'"
      ]
     },
     "execution_count": 48,
     "metadata": {},
     "output_type": "execute_result"
    }
   ],
   "source": [
    "phone.group()"
   ]
  },
  {
   "cell_type": "markdown",
   "id": "fe49c97d",
   "metadata": {},
   "source": [
    "# Quantifiers"
   ]
  },
  {
   "cell_type": "markdown",
   "id": "b213168f",
   "metadata": {},
   "source": [
    "# Character  | Description                |Example_pattern_code              |Example_Match\n",
    "    +         occurs one or more times          Version \\w-\\w+                  Version A-b1_1\n",
    "    {3}       occurs exactly 3 times               \\w-\\w\\w\\w                      abc\n",
    "    {2,4}     occurs 2 to 4 times                  a\\sb\\sc                        123\n",
    "    {3,}      occurs 3 or more                     \\D\\D\\D                         anycharacters\n",
    "    *         occurs zero or more times            \\W\\W\\W\\W\\W\\W                   AAACC\n",
    "    ?         once or non                          \\s\\s\\s\\s                       plural"
   ]
  },
  {
   "cell_type": "code",
   "execution_count": 52,
   "id": "e113cce7",
   "metadata": {},
   "outputs": [],
   "source": [
    "phone = re.search(r'\\d{3}-\\d{3}-\\d{4}', text)"
   ]
  },
  {
   "cell_type": "code",
   "execution_count": 53,
   "id": "4d7041eb",
   "metadata": {},
   "outputs": [
    {
     "data": {
      "text/plain": [
       "'408-555-7777'"
      ]
     },
     "execution_count": 53,
     "metadata": {},
     "output_type": "execute_result"
    }
   ],
   "source": [
    "phone.group()"
   ]
  },
  {
   "cell_type": "code",
   "execution_count": 54,
   "id": "00cf9692",
   "metadata": {},
   "outputs": [
    {
     "data": {
      "text/plain": [
       "<re.Match object; span=(19, 31), match='408-555-7777'>"
      ]
     },
     "execution_count": 54,
     "metadata": {},
     "output_type": "execute_result"
    }
   ],
   "source": [
    "phone"
   ]
  },
  {
   "cell_type": "code",
   "execution_count": null,
   "id": "928b7517",
   "metadata": {},
   "outputs": [],
   "source": []
  }
 ],
 "metadata": {
  "kernelspec": {
   "display_name": "Python 3 (ipykernel)",
   "language": "python",
   "name": "python3"
  },
  "language_info": {
   "codemirror_mode": {
    "name": "ipython",
    "version": 3
   },
   "file_extension": ".py",
   "mimetype": "text/x-python",
   "name": "python",
   "nbconvert_exporter": "python",
   "pygments_lexer": "ipython3",
   "version": "3.11.5"
  }
 },
 "nbformat": 4,
 "nbformat_minor": 5
}
