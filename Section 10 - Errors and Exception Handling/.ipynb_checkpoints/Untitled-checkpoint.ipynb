{
 "cells": [
  {
   "cell_type": "code",
   "execution_count": 1,
   "id": "930433ce",
   "metadata": {},
   "outputs": [],
   "source": [
    "# Errors are bound to happend in your code!\n",
    "# Especially when someone else ends up using it in an unexpected way\n",
    "# We can use error handling to attempt to plan for possible error"
   ]
  },
  {
   "cell_type": "code",
   "execution_count": 2,
   "id": "836b53f7",
   "metadata": {},
   "outputs": [],
   "source": [
    "# For example, a user may try to write to a file that was only opened in mode = 'r'\n",
    "# Currently, if there is any type of error in your code, the entire script will stop\n",
    "# We can use error handling to let the script continue with other code, even if there is an error"
   ]
  },
  {
   "cell_type": "code",
   "execution_count": 3,
   "id": "22436975",
   "metadata": {},
   "outputs": [],
   "source": [
    "# We use 3 keywords for this: \n",
    "# 1. try: This is the block of code to be attempted (may lead to an error)\n",
    "# 2. except: Block of code will execute in case there is an error in try block\n",
    "# 3. finally: A final block of code to be executed, regardless of an error"
   ]
  },
  {
   "cell_type": "code",
   "execution_count": 4,
   "id": "26b2e4e2",
   "metadata": {},
   "outputs": [],
   "source": [
    "def add(n1, n2):\n",
    "    print(n1+n2)"
   ]
  },
  {
   "cell_type": "code",
   "execution_count": 5,
   "id": "6ad0f91f",
   "metadata": {},
   "outputs": [
    {
     "name": "stdout",
     "output_type": "stream",
     "text": [
      "3\n"
     ]
    }
   ],
   "source": [
    "add(1,2)"
   ]
  },
  {
   "cell_type": "code",
   "execution_count": 6,
   "id": "f6e992da",
   "metadata": {},
   "outputs": [],
   "source": [
    "number_1 = 10"
   ]
  },
  {
   "cell_type": "code",
   "execution_count": 7,
   "id": "a88ca403",
   "metadata": {},
   "outputs": [
    {
     "name": "stdout",
     "output_type": "stream",
     "text": [
      "please provide a number10\n"
     ]
    }
   ],
   "source": [
    "number_2 = input('please provide a number')"
   ]
  },
  {
   "cell_type": "code",
   "execution_count": 8,
   "id": "a15864db",
   "metadata": {},
   "outputs": [
    {
     "name": "stdout",
     "output_type": "stream",
     "text": [
      "You cannot add a String to an Integer\n",
      "This will be printed regardless\n"
     ]
    }
   ],
   "source": [
    "try:\n",
    "    add(number_1, number_2)\n",
    "except:\n",
    "    print('You cannot add a String to an Integer')\n",
    "finally:\n",
    "    print('This will be printed regardless')"
   ]
  },
  {
   "cell_type": "code",
   "execution_count": 9,
   "id": "9d0c3cc4",
   "metadata": {},
   "outputs": [
    {
     "name": "stdout",
     "output_type": "stream",
     "text": [
      "All other exceptions\n",
      "I always run\n"
     ]
    }
   ],
   "source": [
    "try:\n",
    "    f = open('testfile','r')\n",
    "    f.write('write a test line')\n",
    "\n",
    "except TypeError:\n",
    "    print('There was an type error')\n",
    "except:\n",
    "    print('All other exceptions')\n",
    "finally:\n",
    "    print('I always run')"
   ]
  },
  {
   "cell_type": "code",
   "execution_count": 10,
   "id": "43a17614",
   "metadata": {},
   "outputs": [],
   "source": [
    "def ask_for_int():\n",
    "    while True:\n",
    "        try:\n",
    "            result = int(input('Please provide a number:'))\n",
    "        except:\n",
    "            print('Whoops, thats not a number')\n",
    "            continue\n",
    "        else:\n",
    "            print('Yes thank you')\n",
    "            break\n",
    "        finally:\n",
    "            print('End of try/ except/ finally block')\n",
    "            print('I always run at the end')"
   ]
  },
  {
   "cell_type": "code",
   "execution_count": 11,
   "id": "f26510b5",
   "metadata": {},
   "outputs": [
    {
     "name": "stdout",
     "output_type": "stream",
     "text": [
      "Please provide a number:20\n",
      "Yes thank you\n",
      "End of try/ except/ finally block\n",
      "I always run at the end\n"
     ]
    }
   ],
   "source": [
    "ask_for_int()"
   ]
  },
  {
   "cell_type": "markdown",
   "id": "3fee7cea",
   "metadata": {},
   "source": [
    "# Errors and Exception homework"
   ]
  },
  {
   "cell_type": "code",
   "execution_count": 12,
   "id": "194e8012",
   "metadata": {},
   "outputs": [
    {
     "name": "stdout",
     "output_type": "stream",
     "text": [
      "You cannot find an exponent of a string\n",
      "This is a finally block\n"
     ]
    }
   ],
   "source": [
    "\n",
    "try:\n",
    "    for i in ['a','b','c']:\n",
    "        print(i ** 2)\n",
    "except:\n",
    "    print('You cannot find an exponent of a string')\n",
    "finally:\n",
    "    print('This is a finally block')"
   ]
  },
  {
   "cell_type": "code",
   "execution_count": 13,
   "id": "d5baae5f",
   "metadata": {},
   "outputs": [
    {
     "name": "stdout",
     "output_type": "stream",
     "text": [
      "You cannot divide a number by 0\n",
      "All done\n"
     ]
    }
   ],
   "source": [
    "try:\n",
    "    x = 5\n",
    "    y = 0\n",
    "    z = x/y\n",
    "    \n",
    "except:\n",
    "    print('You cannot divide a number by 0')\n",
    "finally:\n",
    "    print('All done')"
   ]
  },
  {
   "cell_type": "code",
   "execution_count": 16,
   "id": "c5bd8d06",
   "metadata": {},
   "outputs": [],
   "source": [
    "def ask():\n",
    "    while True:\n",
    "        try:\n",
    "            res = int(input(\"Please enter a number\"))\n",
    "        except:\n",
    "            print('Please enter a number')\n",
    "            continue\n",
    "        else:\n",
    "            break\n",
    "    sq = res ** 2\n",
    "    print(f'You squared number is {sq}')"
   ]
  },
  {
   "cell_type": "code",
   "execution_count": 17,
   "id": "42e95040",
   "metadata": {},
   "outputs": [
    {
     "name": "stdout",
     "output_type": "stream",
     "text": [
      "Please enter a number10\n",
      "You squared number is 100\n"
     ]
    }
   ],
   "source": [
    "ask()"
   ]
  },
  {
   "cell_type": "code",
   "execution_count": 18,
   "id": "ecf718f0",
   "metadata": {},
   "outputs": [],
   "source": [
    "#Unit testing\n",
    "# As you begin to expand to larger multi file projects it becomes important to have tests in place\n",
    "# This way you can make changes or update your code, you can run your test files to make sure previous code still runs as expected"
   ]
  },
  {
   "cell_type": "code",
   "execution_count": 19,
   "id": "499c1c57",
   "metadata": {},
   "outputs": [],
   "source": [
    "# There are several testing tools, we will focus on two"
   ]
  },
  {
   "cell_type": "code",
   "execution_count": 20,
   "id": "dfbe70b9",
   "metadata": {},
   "outputs": [],
   "source": [
    "# pylint: This is a library that looks at your code and reports back possible issues\n",
    "# unittest: This built-in library which allow to test your own programs and check you are getting desired outputs"
   ]
  },
  {
   "cell_type": "code",
   "execution_count": null,
   "id": "d2436c15",
   "metadata": {},
   "outputs": [],
   "source": []
  }
 ],
 "metadata": {
  "kernelspec": {
   "display_name": "Python 3 (ipykernel)",
   "language": "python",
   "name": "python3"
  },
  "language_info": {
   "codemirror_mode": {
    "name": "ipython",
    "version": 3
   },
   "file_extension": ".py",
   "mimetype": "text/x-python",
   "name": "python",
   "nbconvert_exporter": "python",
   "pygments_lexer": "ipython3",
   "version": "3.11.5"
  }
 },
 "nbformat": 4,
 "nbformat_minor": 5
}
