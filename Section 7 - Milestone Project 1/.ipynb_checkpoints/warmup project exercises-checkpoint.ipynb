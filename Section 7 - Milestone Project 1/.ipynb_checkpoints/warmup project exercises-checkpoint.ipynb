{
 "cells": [
  {
   "cell_type": "markdown",
   "id": "026c0ba4",
   "metadata": {},
   "source": [
    "# WARM UP PROJECT EXERCISES"
   ]
  },
  {
   "cell_type": "markdown",
   "id": "cd2eda3f",
   "metadata": {},
   "source": [
    "# DISPLAYING INFORMATION"
   ]
  },
  {
   "cell_type": "code",
   "execution_count": 18,
   "id": "20421053",
   "metadata": {},
   "outputs": [],
   "source": [
    "def display(row1, row2, row3):\n",
    "    print(row1)\n",
    "    print(row2)\n",
    "    print(row3)        "
   ]
  },
  {
   "cell_type": "code",
   "execution_count": 19,
   "id": "dd1cf925",
   "metadata": {},
   "outputs": [
    {
     "name": "stdout",
     "output_type": "stream",
     "text": [
      "[1, 2, 3]\n",
      "[1, 2, 3]\n",
      "[1, 2, 3]\n"
     ]
    }
   ],
   "source": [
    "example_row = [1,2,3]\n",
    "display(example_row,example_row,example_row)"
   ]
  },
  {
   "cell_type": "code",
   "execution_count": 20,
   "id": "01a69bff",
   "metadata": {},
   "outputs": [],
   "source": [
    "row1 = ['','','']\n",
    "row2 = ['','','']\n",
    "row3 = ['','','']"
   ]
  },
  {
   "cell_type": "code",
   "execution_count": 21,
   "id": "05e13fe9",
   "metadata": {},
   "outputs": [
    {
     "name": "stdout",
     "output_type": "stream",
     "text": [
      "['', '', '']\n",
      "['', '', '']\n",
      "['', '', '']\n"
     ]
    }
   ],
   "source": [
    "display(row1,row2,row3)"
   ]
  },
  {
   "cell_type": "code",
   "execution_count": 22,
   "id": "53077a4b",
   "metadata": {},
   "outputs": [
    {
     "name": "stdout",
     "output_type": "stream",
     "text": [
      "['', '', '']\n",
      "['', 'x', '']\n",
      "['', '', '']\n"
     ]
    }
   ],
   "source": [
    "row2[1] = 'x'\n",
    "display(row1,row2,row3)"
   ]
  },
  {
   "cell_type": "markdown",
   "id": "5a46165a",
   "metadata": {},
   "source": [
    "\n",
    "# Accepting the user input"
   ]
  },
  {
   "cell_type": "code",
   "execution_count": 26,
   "id": "84525c71",
   "metadata": {},
   "outputs": [
    {
     "name": "stdout",
     "output_type": "stream",
     "text": [
      "please enter a value: 2\n"
     ]
    },
    {
     "data": {
      "text/plain": [
       "'2'"
      ]
     },
     "execution_count": 26,
     "metadata": {},
     "output_type": "execute_result"
    }
   ],
   "source": [
    "input('please enter a value: ')"
   ]
  },
  {
   "cell_type": "code",
   "execution_count": 27,
   "id": "5d56ad0f",
   "metadata": {},
   "outputs": [
    {
     "name": "stdout",
     "output_type": "stream",
     "text": [
      "Enter a value: 3\n"
     ]
    }
   ],
   "source": [
    "result = input('Enter a value: ')"
   ]
  },
  {
   "cell_type": "code",
   "execution_count": 29,
   "id": "0eeb06bd",
   "metadata": {},
   "outputs": [
    {
     "data": {
      "text/plain": [
       "'3'"
      ]
     },
     "execution_count": 29,
     "metadata": {},
     "output_type": "execute_result"
    }
   ],
   "source": [
    "result"
   ]
  },
  {
   "cell_type": "code",
   "execution_count": 30,
   "id": "871ae58e",
   "metadata": {},
   "outputs": [
    {
     "data": {
      "text/plain": [
       "str"
      ]
     },
     "execution_count": 30,
     "metadata": {},
     "output_type": "execute_result"
    }
   ],
   "source": [
    "type(result)"
   ]
  },
  {
   "cell_type": "code",
   "execution_count": 31,
   "id": "3f3b1537",
   "metadata": {},
   "outputs": [
    {
     "data": {
      "text/plain": [
       "int"
      ]
     },
     "execution_count": 31,
     "metadata": {},
     "output_type": "execute_result"
    }
   ],
   "source": [
    "type(int(result))"
   ]
  },
  {
   "cell_type": "code",
   "execution_count": 34,
   "id": "bd387ee3",
   "metadata": {},
   "outputs": [
    {
     "name": "stdout",
     "output_type": "stream",
     "text": [
      "Enter a value: 10\n"
     ]
    }
   ],
   "source": [
    "result = input('Enter a value: ')"
   ]
  },
  {
   "cell_type": "code",
   "execution_count": 35,
   "id": "7edca4ab",
   "metadata": {},
   "outputs": [],
   "source": [
    "result_int = int(result)"
   ]
  },
  {
   "cell_type": "code",
   "execution_count": 36,
   "id": "f4e4a6e6",
   "metadata": {},
   "outputs": [
    {
     "data": {
      "text/plain": [
       "int"
      ]
     },
     "execution_count": 36,
     "metadata": {},
     "output_type": "execute_result"
    }
   ],
   "source": [
    "type(result_int)"
   ]
  },
  {
   "cell_type": "code",
   "execution_count": 41,
   "id": "0e34247f",
   "metadata": {},
   "outputs": [
    {
     "name": "stdout",
     "output_type": "stream",
     "text": [
      "choose an index position: 20\n"
     ]
    }
   ],
   "source": [
    "position_index = int(input('choose an index position: '))"
   ]
  },
  {
   "cell_type": "code",
   "execution_count": 42,
   "id": "65db2815",
   "metadata": {},
   "outputs": [
    {
     "data": {
      "text/plain": [
       "int"
      ]
     },
     "execution_count": 42,
     "metadata": {},
     "output_type": "execute_result"
    }
   ],
   "source": [
    "type(position_index)"
   ]
  },
  {
   "cell_type": "markdown",
   "id": "56d0f6d1",
   "metadata": {},
   "source": [
    "# VALIDATING USER INPUT"
   ]
  },
  {
   "cell_type": "code",
   "execution_count": 43,
   "id": "00df07ff",
   "metadata": {},
   "outputs": [],
   "source": [
    "def user_choice():\n",
    "    choice = int(input(\"Please enter a number (0-10): \"))        \n",
    "    return choice"
   ]
  },
  {
   "cell_type": "code",
   "execution_count": 44,
   "id": "fdcd48a1",
   "metadata": {},
   "outputs": [
    {
     "name": "stdout",
     "output_type": "stream",
     "text": [
      "Please enter a number (0-10): 5\n"
     ]
    },
    {
     "data": {
      "text/plain": [
       "5"
      ]
     },
     "execution_count": 44,
     "metadata": {},
     "output_type": "execute_result"
    }
   ],
   "source": [
    "user_choice()"
   ]
  },
  {
   "cell_type": "code",
   "execution_count": 69,
   "id": "e04bac56",
   "metadata": {},
   "outputs": [],
   "source": [
    "def user_choice():\n",
    "    \n",
    "    choice = 'WRONG'\n",
    "    while choice.isdigit() == False:#this condition is used to check whether the given input is an integer or not\n",
    "        choice = input(\"Please enter a number (0-10): \")\n",
    "        if choice.isdigit() == False:\n",
    "            print('Sorry, that is not a digit')\n",
    "    return choice"
   ]
  },
  {
   "cell_type": "code",
   "execution_count": 71,
   "id": "688a5a88",
   "metadata": {},
   "outputs": [
    {
     "name": "stdout",
     "output_type": "stream",
     "text": [
      "Please enter a number (0-10): 10\n"
     ]
    },
    {
     "data": {
      "text/plain": [
       "'10'"
      ]
     },
     "execution_count": 71,
     "metadata": {},
     "output_type": "execute_result"
    }
   ],
   "source": [
    "user_choice()"
   ]
  },
  {
   "cell_type": "code",
   "execution_count": 72,
   "id": "b384ea88",
   "metadata": {},
   "outputs": [],
   "source": [
    "result = 'WRONG VALUE'"
   ]
  },
  {
   "cell_type": "code",
   "execution_count": 73,
   "id": "d3e75332",
   "metadata": {},
   "outputs": [],
   "source": [
    "acceptable_value = [0,1,2]"
   ]
  },
  {
   "cell_type": "code",
   "execution_count": 74,
   "id": "87027093",
   "metadata": {},
   "outputs": [
    {
     "data": {
      "text/plain": [
       "False"
      ]
     },
     "execution_count": 74,
     "metadata": {},
     "output_type": "execute_result"
    }
   ],
   "source": [
    "result in acceptable_value"
   ]
  },
  {
   "cell_type": "code",
   "execution_count": 75,
   "id": "6268e786",
   "metadata": {},
   "outputs": [
    {
     "data": {
      "text/plain": [
       "True"
      ]
     },
     "execution_count": 75,
     "metadata": {},
     "output_type": "execute_result"
    }
   ],
   "source": [
    "result not in acceptable_value"
   ]
  },
  {
   "cell_type": "code",
   "execution_count": 95,
   "id": "915a89d3",
   "metadata": {},
   "outputs": [],
   "source": [
    "def user_choice():\n",
    "    #This original choice value can be anything that isn't an integer\n",
    "    choice = 'wrong'\n",
    "    acceptable_range = range(0,10)\n",
    "    #while the choice is not a digit and is not in range, keep asking for input.\n",
    "    while choice.isdigit() == False or within_range == False:\n",
    "        \n",
    "        #we shouldn't convert here, otherwise we get an error on a wrong input\n",
    "        choice = input(\"Choose a number (0-10): \")\n",
    "        \n",
    "        #Error message check\n",
    "        if choice.isdigit() == False:\n",
    "            print(\"Sorry, you did not enter a number. Please enter a digit (1-10)\")\n",
    "        \n",
    "        \n",
    "        #Range check\n",
    "        if choice.isdigit() == True:\n",
    "            if int(choice) in acceptable_range:\n",
    "                within_range = True\n",
    "            else:\n",
    "                print(\"Sorry, you are out of acceptable range ( 0-10)\")\n",
    "                within_range = False\n",
    "                \n",
    "    #We can convert once the while loop above has confirmed we have a digit\n",
    "    return int(choice)"
   ]
  },
  {
   "cell_type": "code",
   "execution_count": 97,
   "id": "22f62ace",
   "metadata": {},
   "outputs": [
    {
     "name": "stdout",
     "output_type": "stream",
     "text": [
      "Choose a number (0-10): 0\n"
     ]
    },
    {
     "data": {
      "text/plain": [
       "0"
      ]
     },
     "execution_count": 97,
     "metadata": {},
     "output_type": "execute_result"
    }
   ],
   "source": [
    "user_choice()"
   ]
  },
  {
   "cell_type": "code",
   "execution_count": null,
   "id": "dfb7216f",
   "metadata": {},
   "outputs": [],
   "source": []
  },
  {
   "cell_type": "markdown",
   "id": "37e2fd39",
   "metadata": {},
   "source": [
    "# SIMPLE USER INTERACTION"
   ]
  },
  {
   "cell_type": "code",
   "execution_count": 106,
   "id": "8c3ae833",
   "metadata": {},
   "outputs": [],
   "source": [
    "def user_choice():\n",
    "    \n",
    "    #choice and acceptable range\n",
    "    choice = 'wrong'\n",
    "    within_range = False\n",
    "    acceptable_range = range(0,11)\n",
    "    \n",
    "    \n",
    "    #check the type of input\n",
    "    while choice.isdigit() == False or within_range == False:\n",
    "        \n",
    "        choice = input(\"Please enter a number (0-10): \")\n",
    "        \n",
    "        if choice.isdigit() == False:\n",
    "            print(\"Sorry, you didn't enter a number, please enter an intger (0-10)\")\n",
    "            \n",
    "        \n",
    "        if choice.isdigit() == True:\n",
    "            if int(choice) in acceptable_range:\n",
    "                within_range = True #if choice is in acceptable range, then wihtin_range will be turned to true causing a break in loop\n",
    "            \n",
    "            else: #if the input is still not in the range, then it will ask the user to input the number again which is within the range\n",
    "                print(\"Sorry, you didn't enter a number, please enter an intger (0-10)\")  \n",
    "                \n",
    "    return int(choice)"
   ]
  },
  {
   "cell_type": "code",
   "execution_count": 107,
   "id": "ae850d55",
   "metadata": {},
   "outputs": [
    {
     "name": "stdout",
     "output_type": "stream",
     "text": [
      "Please enter a number (0-10): 100\n",
      "Sorry, you didn't enter a number, please enter an intger (0-10)\n",
      "Please enter a number (0-10): 300\n",
      "Sorry, you didn't enter a number, please enter an intger (0-10)\n",
      "Please enter a number (0-10): 10\n"
     ]
    },
    {
     "data": {
      "text/plain": [
       "10"
      ]
     },
     "execution_count": 107,
     "metadata": {},
     "output_type": "execute_result"
    }
   ],
   "source": [
    "user_choice()"
   ]
  },
  {
   "cell_type": "code",
   "execution_count": null,
   "id": "5c8df273",
   "metadata": {},
   "outputs": [],
   "source": []
  }
 ],
 "metadata": {
  "kernelspec": {
   "display_name": "Python 3 (ipykernel)",
   "language": "python",
   "name": "python3"
  },
  "language_info": {
   "codemirror_mode": {
    "name": "ipython",
    "version": 3
   },
   "file_extension": ".py",
   "mimetype": "text/x-python",
   "name": "python",
   "nbconvert_exporter": "python",
   "pygments_lexer": "ipython3",
   "version": "3.11.5"
  }
 },
 "nbformat": 4,
 "nbformat_minor": 5
}
