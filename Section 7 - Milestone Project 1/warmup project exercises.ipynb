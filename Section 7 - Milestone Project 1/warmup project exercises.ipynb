{
 "cells": [
  {
   "cell_type": "markdown",
   "id": "d55b767d",
   "metadata": {},
   "source": [
    "# WARM UP PROJECT EXERCISES"
   ]
  },
  {
   "cell_type": "markdown",
   "id": "8c1f6b4f",
   "metadata": {},
   "source": [
    "# DISPLAYING INFORMATION"
   ]
  },
  {
   "cell_type": "code",
   "execution_count": 18,
   "id": "0c2f96fa",
   "metadata": {},
   "outputs": [],
   "source": [
    "def display(row1, row2, row3):\n",
    "    print(row1)\n",
    "    print(row2)\n",
    "    print(row3)        "
   ]
  },
  {
   "cell_type": "code",
   "execution_count": 19,
   "id": "20323b82",
   "metadata": {},
   "outputs": [
    {
     "name": "stdout",
     "output_type": "stream",
     "text": [
      "[1, 2, 3]\n",
      "[1, 2, 3]\n",
      "[1, 2, 3]\n"
     ]
    }
   ],
   "source": [
    "example_row = [1,2,3]\n",
    "display(example_row,example_row,example_row)"
   ]
  },
  {
   "cell_type": "code",
   "execution_count": 20,
   "id": "340d0e57",
   "metadata": {},
   "outputs": [],
   "source": [
    "row1 = ['','','']\n",
    "row2 = ['','','']\n",
    "row3 = ['','','']"
   ]
  },
  {
   "cell_type": "code",
   "execution_count": 21,
   "id": "35d8876e",
   "metadata": {},
   "outputs": [
    {
     "name": "stdout",
     "output_type": "stream",
     "text": [
      "['', '', '']\n",
      "['', '', '']\n",
      "['', '', '']\n"
     ]
    }
   ],
   "source": [
    "display(row1,row2,row3)"
   ]
  },
  {
   "cell_type": "code",
   "execution_count": 22,
   "id": "d5dc1776",
   "metadata": {},
   "outputs": [
    {
     "name": "stdout",
     "output_type": "stream",
     "text": [
      "['', '', '']\n",
      "['', 'x', '']\n",
      "['', '', '']\n"
     ]
    }
   ],
   "source": [
    "row2[1] = 'x'\n",
    "display(row1,row2,row3)"
   ]
  },
  {
   "cell_type": "markdown",
   "id": "1780c7f7",
   "metadata": {},
   "source": [
    "\n",
    "# Accepting the user input"
   ]
  },
  {
   "cell_type": "code",
   "execution_count": 26,
   "id": "1aab6f8d",
   "metadata": {},
   "outputs": [
    {
     "name": "stdout",
     "output_type": "stream",
     "text": [
      "please enter a value: 2\n"
     ]
    },
    {
     "data": {
      "text/plain": [
       "'2'"
      ]
     },
     "execution_count": 26,
     "metadata": {},
     "output_type": "execute_result"
    }
   ],
   "source": [
    "input('please enter a value: ')"
   ]
  },
  {
   "cell_type": "code",
   "execution_count": 27,
   "id": "e479d775",
   "metadata": {},
   "outputs": [
    {
     "name": "stdout",
     "output_type": "stream",
     "text": [
      "Enter a value: 3\n"
     ]
    }
   ],
   "source": [
    "result = input('Enter a value: ')"
   ]
  },
  {
   "cell_type": "code",
   "execution_count": 29,
   "id": "03c9a747",
   "metadata": {},
   "outputs": [
    {
     "data": {
      "text/plain": [
       "'3'"
      ]
     },
     "execution_count": 29,
     "metadata": {},
     "output_type": "execute_result"
    }
   ],
   "source": [
    "result"
   ]
  },
  {
   "cell_type": "code",
   "execution_count": 30,
   "id": "b9483119",
   "metadata": {},
   "outputs": [
    {
     "data": {
      "text/plain": [
       "str"
      ]
     },
     "execution_count": 30,
     "metadata": {},
     "output_type": "execute_result"
    }
   ],
   "source": [
    "type(result)"
   ]
  },
  {
   "cell_type": "code",
   "execution_count": 31,
   "id": "9b012264",
   "metadata": {},
   "outputs": [
    {
     "data": {
      "text/plain": [
       "int"
      ]
     },
     "execution_count": 31,
     "metadata": {},
     "output_type": "execute_result"
    }
   ],
   "source": [
    "type(int(result))"
   ]
  },
  {
   "cell_type": "code",
   "execution_count": 34,
   "id": "46e84203",
   "metadata": {},
   "outputs": [
    {
     "name": "stdout",
     "output_type": "stream",
     "text": [
      "Enter a value: 10\n"
     ]
    }
   ],
   "source": [
    "result = input('Enter a value: ')"
   ]
  },
  {
   "cell_type": "code",
   "execution_count": 35,
   "id": "da3d6bde",
   "metadata": {},
   "outputs": [],
   "source": [
    "result_int = int(result)"
   ]
  },
  {
   "cell_type": "code",
   "execution_count": 36,
   "id": "ee9d3792",
   "metadata": {},
   "outputs": [
    {
     "data": {
      "text/plain": [
       "int"
      ]
     },
     "execution_count": 36,
     "metadata": {},
     "output_type": "execute_result"
    }
   ],
   "source": [
    "type(result_int)"
   ]
  },
  {
   "cell_type": "code",
   "execution_count": 41,
   "id": "eafea7dc",
   "metadata": {},
   "outputs": [
    {
     "name": "stdout",
     "output_type": "stream",
     "text": [
      "choose an index position: 20\n"
     ]
    }
   ],
   "source": [
    "position_index = int(input('choose an index position: '))"
   ]
  },
  {
   "cell_type": "code",
   "execution_count": 42,
   "id": "7626082f",
   "metadata": {},
   "outputs": [
    {
     "data": {
      "text/plain": [
       "int"
      ]
     },
     "execution_count": 42,
     "metadata": {},
     "output_type": "execute_result"
    }
   ],
   "source": [
    "type(position_index)"
   ]
  },
  {
   "cell_type": "markdown",
   "id": "eaccb751",
   "metadata": {},
   "source": [
    "# VALIDATING USER INPUT"
   ]
  },
  {
   "cell_type": "code",
   "execution_count": 43,
   "id": "f54e8c5b",
   "metadata": {},
   "outputs": [],
   "source": [
    "def user_choice():\n",
    "    choice = int(input(\"Please enter a number (0-10): \"))        \n",
    "    return choice"
   ]
  },
  {
   "cell_type": "code",
   "execution_count": 44,
   "id": "8e613944",
   "metadata": {},
   "outputs": [
    {
     "name": "stdout",
     "output_type": "stream",
     "text": [
      "Please enter a number (0-10): 5\n"
     ]
    },
    {
     "data": {
      "text/plain": [
       "5"
      ]
     },
     "execution_count": 44,
     "metadata": {},
     "output_type": "execute_result"
    }
   ],
   "source": [
    "user_choice()"
   ]
  },
  {
   "cell_type": "code",
   "execution_count": 69,
   "id": "618e405d",
   "metadata": {},
   "outputs": [],
   "source": [
    "def user_choice():\n",
    "    \n",
    "    choice = 'WRONG'\n",
    "    while choice.isdigit() == False:#this condition is used to check whether the given input is an integer or not\n",
    "        choice = input(\"Please enter a number (0-10): \")\n",
    "        if choice.isdigit() == False:\n",
    "            print('Sorry, that is not a digit')\n",
    "    return choice"
   ]
  },
  {
   "cell_type": "code",
   "execution_count": 71,
   "id": "a02ae3aa",
   "metadata": {},
   "outputs": [
    {
     "name": "stdout",
     "output_type": "stream",
     "text": [
      "Please enter a number (0-10): 10\n"
     ]
    },
    {
     "data": {
      "text/plain": [
       "'10'"
      ]
     },
     "execution_count": 71,
     "metadata": {},
     "output_type": "execute_result"
    }
   ],
   "source": [
    "user_choice()"
   ]
  },
  {
   "cell_type": "code",
   "execution_count": 72,
   "id": "31898da8",
   "metadata": {},
   "outputs": [],
   "source": [
    "result = 'WRONG VALUE'"
   ]
  },
  {
   "cell_type": "code",
   "execution_count": 73,
   "id": "98bcbd44",
   "metadata": {},
   "outputs": [],
   "source": [
    "acceptable_value = [0,1,2]"
   ]
  },
  {
   "cell_type": "code",
   "execution_count": 74,
   "id": "066aa186",
   "metadata": {},
   "outputs": [
    {
     "data": {
      "text/plain": [
       "False"
      ]
     },
     "execution_count": 74,
     "metadata": {},
     "output_type": "execute_result"
    }
   ],
   "source": [
    "result in acceptable_value"
   ]
  },
  {
   "cell_type": "code",
   "execution_count": 75,
   "id": "fb374c42",
   "metadata": {},
   "outputs": [
    {
     "data": {
      "text/plain": [
       "True"
      ]
     },
     "execution_count": 75,
     "metadata": {},
     "output_type": "execute_result"
    }
   ],
   "source": [
    "result not in acceptable_value"
   ]
  },
  {
   "cell_type": "code",
   "execution_count": 95,
   "id": "b53e7fac",
   "metadata": {},
   "outputs": [],
   "source": [
    "def user_choice():\n",
    "    #This original choice value can be anything that isn't an integer\n",
    "    choice = 'wrong'\n",
    "    acceptable_range = range(0,10)\n",
    "    #while the choice is not a digit and is not in range, keep asking for input.\n",
    "    while choice.isdigit() == False or within_range == False:\n",
    "        \n",
    "        #we shouldn't convert here, otherwise we get an error on a wrong input\n",
    "        choice = input(\"Choose a number (0-10): \")\n",
    "        \n",
    "        #Error message check\n",
    "        if choice.isdigit() == False:\n",
    "            print(\"Sorry, you did not enter a number. Please enter a digit (1-10)\")\n",
    "        \n",
    "        \n",
    "        #Range check\n",
    "        if choice.isdigit() == True:\n",
    "            if int(choice) in acceptable_range:\n",
    "                within_range = True\n",
    "            else:\n",
    "                print(\"Sorry, you are out of acceptable range ( 0-10)\")\n",
    "                within_range = False\n",
    "                \n",
    "    #We can convert once the while loop above has confirmed we have a digit\n",
    "    return int(choice)"
   ]
  },
  {
   "cell_type": "code",
   "execution_count": 97,
   "id": "bcb0d06e",
   "metadata": {},
   "outputs": [
    {
     "name": "stdout",
     "output_type": "stream",
     "text": [
      "Choose a number (0-10): 0\n"
     ]
    },
    {
     "data": {
      "text/plain": [
       "0"
      ]
     },
     "execution_count": 97,
     "metadata": {},
     "output_type": "execute_result"
    }
   ],
   "source": [
    "user_choice()"
   ]
  },
  {
   "cell_type": "code",
   "execution_count": 108,
   "id": "dc631653",
   "metadata": {},
   "outputs": [],
   "source": [
    "# Repeat"
   ]
  },
  {
   "cell_type": "code",
   "execution_count": 109,
   "id": "a207688f",
   "metadata": {},
   "outputs": [],
   "source": [
    "def user_choice():\n",
    "    \n",
    "    #choice and acceptable range\n",
    "    choice = 'wrong'\n",
    "    within_range = False\n",
    "    acceptable_range = range(0,11)\n",
    "    \n",
    "    \n",
    "    #check the type of input\n",
    "    while choice.isdigit() == False or within_range == False:\n",
    "        \n",
    "        choice = input(\"Please enter a number (0-10): \")\n",
    "        \n",
    "        if choice.isdigit() == False:\n",
    "            print(\"Sorry, you didn't enter a number, please enter an intger (0-10)\")\n",
    "            \n",
    "        \n",
    "        if choice.isdigit() == True:\n",
    "            if int(choice) in acceptable_range:\n",
    "                within_range = True #if choice is in acceptable range, then wihtin_range will be turned to true causing a break in loop\n",
    "            \n",
    "            else: #if the input is still not in the range, then it will ask the user to input the number again which is within the range\n",
    "                print(\"Sorry, you didn't enter a number, please enter an intger (0-10)\")  \n",
    "                \n",
    "    return int(choice)"
   ]
  },
  {
   "cell_type": "code",
   "execution_count": 110,
   "id": "eb423ef5",
   "metadata": {},
   "outputs": [
    {
     "name": "stdout",
     "output_type": "stream",
     "text": [
      "Please enter a number (0-10): 4\n"
     ]
    },
    {
     "data": {
      "text/plain": [
       "4"
      ]
     },
     "execution_count": 110,
     "metadata": {},
     "output_type": "execute_result"
    }
   ],
   "source": [
    "user_choice()"
   ]
  },
  {
   "cell_type": "markdown",
   "id": "fa857e73",
   "metadata": {},
   "source": [
    "# SIMPLE USER INTERACTION"
   ]
  },
  {
   "cell_type": "code",
   "execution_count": 111,
   "id": "a1fe745a",
   "metadata": {},
   "outputs": [],
   "source": [
    "game_list = [0,1,2]"
   ]
  },
  {
   "cell_type": "code",
   "execution_count": 112,
   "id": "62a2dde5",
   "metadata": {},
   "outputs": [],
   "source": [
    "def display_game(game_list):\n",
    "    print('Here is the current list: ')\n",
    "    print(game_list)"
   ]
  },
  {
   "cell_type": "code",
   "execution_count": 113,
   "id": "552872c8",
   "metadata": {},
   "outputs": [
    {
     "name": "stdout",
     "output_type": "stream",
     "text": [
      "Here is the current list: \n",
      "[0, 1, 2]\n"
     ]
    }
   ],
   "source": [
    "display_game(game_list)"
   ]
  },
  {
   "cell_type": "code",
   "execution_count": 115,
   "id": "c54568fa",
   "metadata": {},
   "outputs": [],
   "source": [
    "def position_choice():\n",
    "    choice = 'wrong'\n",
    "    while choice not in ['0','1','2']:\n",
    "        choice = input('pick a position (0,1,2): ')\n",
    "        \n",
    "        if choice not in ['0','1','2']:\n",
    "            print('Please enter the correct choice (0,1,2) ')\n",
    "            \n",
    "    return int(choice)"
   ]
  },
  {
   "cell_type": "code",
   "execution_count": 120,
   "id": "ba2a371c",
   "metadata": {},
   "outputs": [
    {
     "name": "stdout",
     "output_type": "stream",
     "text": [
      "pick a position (0,1,2): 3\n",
      "Please enter the correct choice (0,1,2) \n",
      "pick a position (0,1,2): 2\n"
     ]
    },
    {
     "data": {
      "text/plain": [
       "2"
      ]
     },
     "execution_count": 120,
     "metadata": {},
     "output_type": "execute_result"
    }
   ],
   "source": [
    "position_choice()"
   ]
  },
  {
   "cell_type": "code",
   "execution_count": 123,
   "id": "8c89a357",
   "metadata": {},
   "outputs": [],
   "source": [
    "def replacement_choice(game_list, position):\n",
    "    user_placement = input('type a string to place at position: ')\n",
    "    \n",
    "    game_list[position] = user_placement\n",
    "    \n",
    "    return game_list"
   ]
  },
  {
   "cell_type": "code",
   "execution_count": 124,
   "id": "8291d2a7",
   "metadata": {},
   "outputs": [
    {
     "name": "stdout",
     "output_type": "stream",
     "text": [
      "type a string to place at position: text\n"
     ]
    },
    {
     "data": {
      "text/plain": [
       "[0, 'text', 2]"
      ]
     },
     "execution_count": 124,
     "metadata": {},
     "output_type": "execute_result"
    }
   ],
   "source": [
    "replacement_choice(game_list, 1)"
   ]
  },
  {
   "cell_type": "code",
   "execution_count": 132,
   "id": "d1204165",
   "metadata": {},
   "outputs": [],
   "source": [
    "def gameone_choice():\n",
    "    choice = 'wrong'\n",
    "    while choice not in ['y','n']:\n",
    "        choice = input('Keep playing?')\n",
    "        \n",
    "        if choice not in ['y','n']:\n",
    "            print('wrong input')\n",
    "            \n",
    "            \n",
    "    if choice == 'y':\n",
    "        return True\n",
    "    else: \n",
    "        return False\n"
   ]
  },
  {
   "cell_type": "code",
   "execution_count": 133,
   "id": "8004c039",
   "metadata": {},
   "outputs": [
    {
     "name": "stdout",
     "output_type": "stream",
     "text": [
      "Keep playing?n\n"
     ]
    },
    {
     "data": {
      "text/plain": [
       "False"
      ]
     },
     "execution_count": 133,
     "metadata": {},
     "output_type": "execute_result"
    }
   ],
   "source": [
    "gameone_choice()"
   ]
  },
  {
   "cell_type": "code",
   "execution_count": 134,
   "id": "79a63b23",
   "metadata": {},
   "outputs": [
    {
     "name": "stdout",
     "output_type": "stream",
     "text": [
      "Here is the current list: \n",
      "[0, 1, 2]\n",
      "pick a position (0,1,2): 9\n",
      "Please enter the correct choice (0,1,2) \n",
      "pick a position (0,1,2): 2\n",
      "type a string to place at position: hello\n",
      "Here is the current list: \n",
      "[0, 1, 'hello']\n",
      "Keep playing?n\n"
     ]
    }
   ],
   "source": [
    "game_on = True\n",
    "game_list = [0,1,2]\n",
    "\n",
    "while game_on:\n",
    "    display_game(game_list)\n",
    "    \n",
    "    position = position_choice()\n",
    "    \n",
    "    game_list = replacement_choice(game_list, position)\n",
    "    \n",
    "    display_game(game_list)\n",
    "    \n",
    "    game_on = gameone_choice()"
   ]
  },
  {
   "cell_type": "code",
   "execution_count": null,
   "id": "c8426974",
   "metadata": {},
   "outputs": [],
   "source": []
  }
 ],
 "metadata": {
  "kernelspec": {
   "display_name": "Python 3 (ipykernel)",
   "language": "python",
   "name": "python3"
  },
  "language_info": {
   "codemirror_mode": {
    "name": "ipython",
    "version": 3
   },
   "file_extension": ".py",
   "mimetype": "text/x-python",
   "name": "python",
   "nbconvert_exporter": "python",
   "pygments_lexer": "ipython3",
   "version": "3.11.5"
  }
 },
 "nbformat": 4,
 "nbformat_minor": 5
}
