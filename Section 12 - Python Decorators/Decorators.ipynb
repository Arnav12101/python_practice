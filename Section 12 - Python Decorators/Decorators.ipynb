{
 "cells": [
  {
   "cell_type": "code",
   "execution_count": 2,
   "id": "f655258a",
   "metadata": {},
   "outputs": [],
   "source": [
    "#Advanced Python Topic : Decorators\n",
    "# Decorators allow you to 'decorate' a function"
   ]
  },
  {
   "cell_type": "code",
   "execution_count": 3,
   "id": "66bd235b",
   "metadata": {},
   "outputs": [],
   "source": [
    "#Python has decorators that allow you to tack on extra functionality to an already existing function\n",
    "# They use the @ operators and are then placed on top of the original function"
   ]
  },
  {
   "cell_type": "code",
   "execution_count": 4,
   "id": "c178406f",
   "metadata": {},
   "outputs": [],
   "source": [
    "# @some_decorator\n",
    "# def simple_func():\n",
    "#     #do simple stuff\n",
    "#     return something"
   ]
  },
  {
   "cell_type": "code",
   "execution_count": 5,
   "id": "20103d11",
   "metadata": {},
   "outputs": [],
   "source": [
    "def func():\n",
    "    return 1"
   ]
  },
  {
   "cell_type": "code",
   "execution_count": 6,
   "id": "d2e93c77",
   "metadata": {},
   "outputs": [
    {
     "data": {
      "text/plain": [
       "1"
      ]
     },
     "execution_count": 6,
     "metadata": {},
     "output_type": "execute_result"
    }
   ],
   "source": [
    "func()"
   ]
  },
  {
   "cell_type": "code",
   "execution_count": 7,
   "id": "2f0a9336",
   "metadata": {},
   "outputs": [
    {
     "data": {
      "text/plain": [
       "<function __main__.func()>"
      ]
     },
     "execution_count": 7,
     "metadata": {},
     "output_type": "execute_result"
    }
   ],
   "source": [
    "func"
   ]
  },
  {
   "cell_type": "code",
   "execution_count": 8,
   "id": "3bc73c6f",
   "metadata": {},
   "outputs": [],
   "source": [
    "def hello():\n",
    "    return \"hello\""
   ]
  },
  {
   "cell_type": "code",
   "execution_count": 9,
   "id": "bef45f29",
   "metadata": {},
   "outputs": [
    {
     "data": {
      "text/plain": [
       "'hello'"
      ]
     },
     "execution_count": 9,
     "metadata": {},
     "output_type": "execute_result"
    }
   ],
   "source": [
    "hello()"
   ]
  },
  {
   "cell_type": "code",
   "execution_count": 11,
   "id": "de73c809",
   "metadata": {},
   "outputs": [],
   "source": [
    "greet = hello #assigning a function to a variable"
   ]
  },
  {
   "cell_type": "code",
   "execution_count": 13,
   "id": "f83cb4ab",
   "metadata": {
    "scrolled": true
   },
   "outputs": [
    {
     "data": {
      "text/plain": [
       "'hello'"
      ]
     },
     "execution_count": 13,
     "metadata": {},
     "output_type": "execute_result"
    }
   ],
   "source": [
    "greet() #Notice the paranthesis next to greet\n",
    "#greet holds a copy of hello function"
   ]
  },
  {
   "cell_type": "code",
   "execution_count": 14,
   "id": "af3ff8be",
   "metadata": {},
   "outputs": [],
   "source": [
    "del hello"
   ]
  },
  {
   "cell_type": "code",
   "execution_count": 15,
   "id": "c7ff98e8",
   "metadata": {},
   "outputs": [
    {
     "ename": "NameError",
     "evalue": "name 'hello' is not defined",
     "output_type": "error",
     "traceback": [
      "\u001b[0;31m---------------------------------------------------------------------------\u001b[0m",
      "\u001b[0;31mNameError\u001b[0m                                 Traceback (most recent call last)",
      "Cell \u001b[0;32mIn[15], line 1\u001b[0m\n\u001b[0;32m----> 1\u001b[0m hello()\n",
      "\u001b[0;31mNameError\u001b[0m: name 'hello' is not defined"
     ]
    }
   ],
   "source": [
    "hello()"
   ]
  },
  {
   "cell_type": "code",
   "execution_count": 17,
   "id": "f7004adf",
   "metadata": {},
   "outputs": [
    {
     "data": {
      "text/plain": [
       "'hello'"
      ]
     },
     "execution_count": 17,
     "metadata": {},
     "output_type": "execute_result"
    }
   ],
   "source": [
    "greet() #despite deleting hello, we can still access the hello function through greet variable"
   ]
  },
  {
   "cell_type": "code",
   "execution_count": 18,
   "id": "6ae7f23f",
   "metadata": {},
   "outputs": [
    {
     "data": {
      "text/plain": [
       "<function __main__.hello()>"
      ]
     },
     "execution_count": 18,
     "metadata": {},
     "output_type": "execute_result"
    }
   ],
   "source": [
    "greet"
   ]
  },
  {
   "cell_type": "code",
   "execution_count": 19,
   "id": "b5169070",
   "metadata": {},
   "outputs": [],
   "source": [
    "#passing a function in another function"
   ]
  },
  {
   "cell_type": "code",
   "execution_count": 47,
   "id": "4a3eb3dd",
   "metadata": {},
   "outputs": [],
   "source": [
    "def hello(name = 'arnav'):\n",
    "#     print('The hello() function has been executed')\n",
    "    \n",
    "    \n",
    "    def greet():\n",
    "        return 'GREET FUNCTION'\n",
    "    \n",
    "    def welcome():\n",
    "        return 'WELCOME FUNCTION'\n",
    "\n",
    "    print(\"I am going to return a function\")\n",
    "    \n",
    "    if name == 'arnav':\n",
    "        return greet()\n",
    "    else:\n",
    "        return welcome()"
   ]
  },
  {
   "cell_type": "code",
   "execution_count": 54,
   "id": "0f3598d3",
   "metadata": {},
   "outputs": [
    {
     "name": "stdout",
     "output_type": "stream",
     "text": [
      "I am going to return a function\n"
     ]
    }
   ],
   "source": [
    "my_new_func = hello('arnav')"
   ]
  },
  {
   "cell_type": "code",
   "execution_count": 56,
   "id": "c198000c",
   "metadata": {},
   "outputs": [
    {
     "name": "stdout",
     "output_type": "stream",
     "text": [
      "GREET FUNCTION\n"
     ]
    }
   ],
   "source": [
    "print(my_new_func)"
   ]
  },
  {
   "cell_type": "code",
   "execution_count": null,
   "id": "7b2dfd35",
   "metadata": {},
   "outputs": [],
   "source": []
  },
  {
   "cell_type": "code",
   "execution_count": null,
   "id": "77b2af0f",
   "metadata": {},
   "outputs": [],
   "source": []
  },
  {
   "cell_type": "code",
   "execution_count": null,
   "id": "ade92daf",
   "metadata": {},
   "outputs": [],
   "source": []
  },
  {
   "cell_type": "code",
   "execution_count": 58,
   "id": "5a145f04",
   "metadata": {},
   "outputs": [],
   "source": [
    "def cool():\n",
    "    def super_cool():\n",
    "        return 'I am very cool'\n",
    "    \n",
    "    return super_cool()"
   ]
  },
  {
   "cell_type": "code",
   "execution_count": 59,
   "id": "45008df5",
   "metadata": {},
   "outputs": [
    {
     "name": "stdout",
     "output_type": "stream",
     "text": [
      "I am very cool\n"
     ]
    }
   ],
   "source": [
    "some_func = cool()\n",
    "print(some_func)"
   ]
  },
  {
   "cell_type": "code",
   "execution_count": null,
   "id": "adadbfe9",
   "metadata": {},
   "outputs": [],
   "source": []
  },
  {
   "cell_type": "code",
   "execution_count": null,
   "id": "1adc8a32",
   "metadata": {},
   "outputs": [],
   "source": []
  },
  {
   "cell_type": "code",
   "execution_count": null,
   "id": "96f12611",
   "metadata": {},
   "outputs": [],
   "source": []
  },
  {
   "cell_type": "code",
   "execution_count": 60,
   "id": "932d66b8",
   "metadata": {},
   "outputs": [],
   "source": [
    "# passing a funciton as an argument"
   ]
  },
  {
   "cell_type": "code",
   "execution_count": 62,
   "id": "c314bbc8",
   "metadata": {},
   "outputs": [],
   "source": [
    "def hello():\n",
    "    return 'hi arnav'"
   ]
  },
  {
   "cell_type": "code",
   "execution_count": 78,
   "id": "c52e726f",
   "metadata": {},
   "outputs": [],
   "source": [
    "def other(some_def_function):\n",
    "    print('Other code runs here!')\n",
    "#     return some_def_function()\n",
    "    print(some_def_function())"
   ]
  },
  {
   "cell_type": "code",
   "execution_count": 79,
   "id": "82536680",
   "metadata": {},
   "outputs": [
    {
     "name": "stdout",
     "output_type": "stream",
     "text": [
      "Other code runs here!\n",
      "hi arnav\n"
     ]
    }
   ],
   "source": [
    "other(hello) # passing hello() function in other() function"
   ]
  },
  {
   "cell_type": "code",
   "execution_count": null,
   "id": "2033cf31",
   "metadata": {},
   "outputs": [],
   "source": []
  },
  {
   "cell_type": "code",
   "execution_count": null,
   "id": "8f3425b2",
   "metadata": {},
   "outputs": [],
   "source": []
  },
  {
   "cell_type": "code",
   "execution_count": null,
   "id": "ad6e648e",
   "metadata": {},
   "outputs": [],
   "source": []
  },
  {
   "cell_type": "code",
   "execution_count": null,
   "id": "15b15ca6",
   "metadata": {},
   "outputs": [],
   "source": []
  },
  {
   "cell_type": "code",
   "execution_count": 92,
   "id": "d0c697a3",
   "metadata": {},
   "outputs": [],
   "source": [
    "#Creating a new decorator\n",
    "def new_decorator(original_func):\n",
    "    \n",
    "    def wrap_func():\n",
    "        print('some extra code before the original function')\n",
    "        \n",
    "        original_func()\n",
    "        \n",
    "        print('some extra code after the original function')\n",
    "        \n",
    "    return wrap_func"
   ]
  },
  {
   "cell_type": "code",
   "execution_count": 93,
   "id": "01267a4d",
   "metadata": {},
   "outputs": [],
   "source": [
    "def func_needs_decorator():\n",
    "    print(\"I want to be decorated\")"
   ]
  },
  {
   "cell_type": "code",
   "execution_count": 94,
   "id": "bb6c190e",
   "metadata": {},
   "outputs": [
    {
     "name": "stdout",
     "output_type": "stream",
     "text": [
      "I want to be decorated\n"
     ]
    }
   ],
   "source": [
    "func_needs_decorator()"
   ]
  },
  {
   "cell_type": "code",
   "execution_count": 95,
   "id": "16587f5d",
   "metadata": {},
   "outputs": [],
   "source": [
    "decorated_func = new_decorator(func_needs_decorator)"
   ]
  },
  {
   "cell_type": "code",
   "execution_count": 96,
   "id": "6718fc02",
   "metadata": {},
   "outputs": [
    {
     "name": "stdout",
     "output_type": "stream",
     "text": [
      "some extra code before the original function\n",
      "I want to be decorated\n",
      "some extra code after the original function\n"
     ]
    }
   ],
   "source": [
    "decorated_func()"
   ]
  },
  {
   "cell_type": "code",
   "execution_count": 103,
   "id": "8091146e",
   "metadata": {},
   "outputs": [],
   "source": [
    "@new_decorator \n",
    "#This annotation works like an on/ off switch\n",
    "def func_needs_decorator():\n",
    "    print(\"I want to be decorated\")"
   ]
  },
  {
   "cell_type": "code",
   "execution_count": 104,
   "id": "94d596a4",
   "metadata": {},
   "outputs": [
    {
     "name": "stdout",
     "output_type": "stream",
     "text": [
      "some extra code before the original function\n",
      "I want to be decorated\n",
      "some extra code after the original function\n"
     ]
    }
   ],
   "source": [
    "func_needs_decorator()"
   ]
  },
  {
   "cell_type": "code",
   "execution_count": null,
   "id": "1e4fdb6c",
   "metadata": {},
   "outputs": [],
   "source": []
  }
 ],
 "metadata": {
  "kernelspec": {
   "display_name": "Python 3 (ipykernel)",
   "language": "python",
   "name": "python3"
  },
  "language_info": {
   "codemirror_mode": {
    "name": "ipython",
    "version": 3
   },
   "file_extension": ".py",
   "mimetype": "text/x-python",
   "name": "python",
   "nbconvert_exporter": "python",
   "pygments_lexer": "ipython3",
   "version": "3.11.5"
  }
 },
 "nbformat": 4,
 "nbformat_minor": 5
}
