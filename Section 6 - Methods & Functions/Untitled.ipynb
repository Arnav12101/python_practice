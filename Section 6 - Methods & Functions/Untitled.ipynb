{
 "cells": [
  {
   "cell_type": "markdown",
   "id": "7616afbf",
   "metadata": {},
   "source": [
    "# Python Functions"
   ]
  },
  {
   "cell_type": "code",
   "execution_count": null,
   "id": "2b863649",
   "metadata": {},
   "outputs": [],
   "source": [
    "#Methods"
   ]
  },
  {
   "cell_type": "code",
   "execution_count": 1,
   "id": "8b96c2cc",
   "metadata": {},
   "outputs": [],
   "source": [
    "mylist = [1,2,3]\n",
    "mylist.append(4)\n"
   ]
  },
  {
   "cell_type": "code",
   "execution_count": 2,
   "id": "6b1f23d2",
   "metadata": {},
   "outputs": [
    {
     "data": {
      "text/plain": [
       "[1, 2, 3, 4]"
      ]
     },
     "execution_count": 2,
     "metadata": {},
     "output_type": "execute_result"
    }
   ],
   "source": [
    "mylist"
   ]
  },
  {
   "cell_type": "code",
   "execution_count": 3,
   "id": "886cd904",
   "metadata": {},
   "outputs": [
    {
     "data": {
      "text/plain": [
       "[1, 2, 3]"
      ]
     },
     "execution_count": 3,
     "metadata": {},
     "output_type": "execute_result"
    }
   ],
   "source": [
    "mylist.pop()\n",
    "mylist"
   ]
  },
  {
   "cell_type": "code",
   "execution_count": 4,
   "id": "2ad599db",
   "metadata": {},
   "outputs": [],
   "source": [
    "mylist.insert(3,4) #3 is the index\n"
   ]
  },
  {
   "cell_type": "code",
   "execution_count": 5,
   "id": "6b3d901a",
   "metadata": {},
   "outputs": [
    {
     "data": {
      "text/plain": [
       "[1, 2, 3, 4]"
      ]
     },
     "execution_count": 5,
     "metadata": {},
     "output_type": "execute_result"
    }
   ],
   "source": [
    "mylist"
   ]
  },
  {
   "cell_type": "code",
   "execution_count": 6,
   "id": "73df439f",
   "metadata": {},
   "outputs": [],
   "source": [
    "# Functions"
   ]
  },
  {
   "cell_type": "code",
   "execution_count": 7,
   "id": "40cb122d",
   "metadata": {},
   "outputs": [],
   "source": [
    "#function allow us to create block of code that can be easily executed many times, without needing to constantly reqrite the entire block of code"
   ]
  },
  {
   "cell_type": "code",
   "execution_count": 9,
   "id": "74dd5fd8",
   "metadata": {},
   "outputs": [
    {
     "name": "stdout",
     "output_type": "stream",
     "text": [
      "hello arnav\n"
     ]
    }
   ],
   "source": [
    "# def name_of_functio():\n",
    "\n",
    "def hello(name):\n",
    "    print(f\"hello {name}\")\n",
    "    \n",
    "hello('arnav')"
   ]
  },
  {
   "cell_type": "code",
   "execution_count": null,
   "id": "141c9075",
   "metadata": {},
   "outputs": [],
   "source": []
  }
 ],
 "metadata": {
  "kernelspec": {
   "display_name": "Python 3 (ipykernel)",
   "language": "python",
   "name": "python3"
  },
  "language_info": {
   "codemirror_mode": {
    "name": "ipython",
    "version": 3
   },
   "file_extension": ".py",
   "mimetype": "text/x-python",
   "name": "python",
   "nbconvert_exporter": "python",
   "pygments_lexer": "ipython3",
   "version": "3.11.5"
  }
 },
 "nbformat": 4,
 "nbformat_minor": 5
}
