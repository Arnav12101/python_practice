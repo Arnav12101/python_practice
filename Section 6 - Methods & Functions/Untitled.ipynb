{
 "cells": [
  {
   "cell_type": "markdown",
   "id": "4ffefb1a",
   "metadata": {},
   "source": [
    "# Python Functions"
   ]
  },
  {
   "cell_type": "code",
   "execution_count": 56,
   "id": "4354eecc",
   "metadata": {},
   "outputs": [],
   "source": [
    "#Methods"
   ]
  },
  {
   "cell_type": "code",
   "execution_count": 57,
   "id": "61578057",
   "metadata": {},
   "outputs": [],
   "source": [
    "mylist = [1,2,3]\n",
    "mylist.append(4)\n"
   ]
  },
  {
   "cell_type": "code",
   "execution_count": 58,
   "id": "dcc553fd",
   "metadata": {},
   "outputs": [
    {
     "data": {
      "text/plain": [
       "[1, 2, 3, 4]"
      ]
     },
     "execution_count": 58,
     "metadata": {},
     "output_type": "execute_result"
    }
   ],
   "source": [
    "mylist"
   ]
  },
  {
   "cell_type": "code",
   "execution_count": 59,
   "id": "0c64c717",
   "metadata": {},
   "outputs": [
    {
     "data": {
      "text/plain": [
       "[1, 2, 3]"
      ]
     },
     "execution_count": 59,
     "metadata": {},
     "output_type": "execute_result"
    }
   ],
   "source": [
    "mylist.pop()\n",
    "mylist"
   ]
  },
  {
   "cell_type": "code",
   "execution_count": 60,
   "id": "6ea6f0bc",
   "metadata": {},
   "outputs": [],
   "source": [
    "mylist.insert(3,4) #3 is the index\n"
   ]
  },
  {
   "cell_type": "code",
   "execution_count": 61,
   "id": "ece97dfd",
   "metadata": {},
   "outputs": [
    {
     "data": {
      "text/plain": [
       "[1, 2, 3, 4]"
      ]
     },
     "execution_count": 61,
     "metadata": {},
     "output_type": "execute_result"
    }
   ],
   "source": [
    "mylist"
   ]
  },
  {
   "cell_type": "code",
   "execution_count": 62,
   "id": "f28a972a",
   "metadata": {},
   "outputs": [],
   "source": [
    "# Functions"
   ]
  },
  {
   "cell_type": "code",
   "execution_count": 63,
   "id": "87b6c0da",
   "metadata": {},
   "outputs": [],
   "source": [
    "#function allow us to create block of code that can be easily executed many times, without needing to constantly reqrite the entire block of code"
   ]
  },
  {
   "cell_type": "code",
   "execution_count": 64,
   "id": "a0c638bf",
   "metadata": {},
   "outputs": [],
   "source": [
    "# def name_of_functio():\n",
    "#     docstring explain function\n",
    "#     print('hello')"
   ]
  },
  {
   "cell_type": "code",
   "execution_count": 65,
   "id": "11c8fab0",
   "metadata": {},
   "outputs": [
    {
     "name": "stdout",
     "output_type": "stream",
     "text": [
      "hello arnav\n"
     ]
    }
   ],
   "source": [
    "def hello(name = 'default value'):\n",
    "    print(f\"hello {name}\")\n",
    "    \n",
    "hello('arnav')"
   ]
  },
  {
   "cell_type": "code",
   "execution_count": 66,
   "id": "8656817e",
   "metadata": {},
   "outputs": [
    {
     "name": "stdout",
     "output_type": "stream",
     "text": [
      "hello default value\n"
     ]
    }
   ],
   "source": [
    "hello()"
   ]
  },
  {
   "cell_type": "code",
   "execution_count": 67,
   "id": "7d0ab5aa",
   "metadata": {},
   "outputs": [
    {
     "name": "stdout",
     "output_type": "stream",
     "text": [
      "3\n"
     ]
    }
   ],
   "source": [
    "def add_function(num1, num2):\n",
    "    return num1+num2\n",
    "\n",
    "res = add_function(1,2)\n",
    "print(res)"
   ]
  },
  {
   "cell_type": "code",
   "execution_count": 68,
   "id": "2ced5d06",
   "metadata": {},
   "outputs": [
    {
     "data": {
      "text/plain": [
       "False"
      ]
     },
     "execution_count": 68,
     "metadata": {},
     "output_type": "execute_result"
    }
   ],
   "source": [
    "def is_even(num):\n",
    "    if(num %2 == 0):\n",
    "        return True\n",
    "    else:\n",
    "        return False\n",
    "\n",
    "res = is_even(11)\n",
    "res"
   ]
  },
  {
   "cell_type": "code",
   "execution_count": 69,
   "id": "83d46b77",
   "metadata": {},
   "outputs": [
    {
     "data": {
      "text/plain": [
       "[2, 4, 6, 8]"
      ]
     },
     "execution_count": 69,
     "metadata": {},
     "output_type": "execute_result"
    }
   ],
   "source": [
    "# return true if any number is even inside a list\n",
    "\n",
    "mylist = [1,2,3,4,5,6,7,8]\n",
    "oddlist = [1,3,5]\n",
    "def is_even_list(mylist):\n",
    "    \n",
    "    \n",
    "    #return all the even numbers in a list\n",
    "    #placeholder variables\n",
    "    even_numbers = []\n",
    "    \n",
    "    for element in mylist:\n",
    "        \n",
    "        if element%2 == 0:\n",
    "            even_numbers.append(element)\n",
    "        else:\n",
    "            pass\n",
    "    return even_numbers\n",
    "        \n",
    "res = is_even_list(mylist)\n",
    "res"
   ]
  },
  {
   "cell_type": "code",
   "execution_count": 70,
   "id": "4c02b6cb",
   "metadata": {},
   "outputs": [],
   "source": [
    "stock_prices = [('apple',200), ('goog',400),('msft', 100)]"
   ]
  },
  {
   "cell_type": "code",
   "execution_count": 71,
   "id": "cddd2406",
   "metadata": {},
   "outputs": [
    {
     "name": "stdout",
     "output_type": "stream",
     "text": [
      "[('apple', 200), ('goog', 400), ('msft', 100)]\n",
      "[('apple', 200), ('goog', 400), ('msft', 100)]\n",
      "[('apple', 200), ('goog', 400), ('msft', 100)]\n"
     ]
    }
   ],
   "source": [
    "for items in stock_prices:\n",
    "    print(stock_prices)"
   ]
  },
  {
   "cell_type": "code",
   "execution_count": 72,
   "id": "edb2a212",
   "metadata": {},
   "outputs": [
    {
     "name": "stdout",
     "output_type": "stream",
     "text": [
      "220.0\n",
      "440.0\n",
      "110.0\n"
     ]
    }
   ],
   "source": [
    "for ticker, price in stock_prices:\n",
    "    print(price + (0.1*price))"
   ]
  },
  {
   "cell_type": "code",
   "execution_count": 73,
   "id": "8e7a49f5",
   "metadata": {},
   "outputs": [],
   "source": [
    "work_hours = [('abby',100),('billy', 4000), ('cassie', 800)]"
   ]
  },
  {
   "cell_type": "code",
   "execution_count": 74,
   "id": "dae5396c",
   "metadata": {},
   "outputs": [],
   "source": [
    "def employee_check(work_hours):\n",
    "    \n",
    "    current_max = 0\n",
    "    employee_of_month =''\n",
    "    \n",
    "    for employee, hours in work_hours:\n",
    "        if hours > current_max:\n",
    "            current_max = hours\n",
    "            employee_of_month = employee\n",
    "    else:\n",
    "        pass\n",
    "    \n",
    "    #return\n",
    "    return (employee_of_month, current_max)"
   ]
  },
  {
   "cell_type": "code",
   "execution_count": 75,
   "id": "fd085844",
   "metadata": {},
   "outputs": [
    {
     "name": "stdout",
     "output_type": "stream",
     "text": [
      "('billy', 4000)\n"
     ]
    }
   ],
   "source": [
    "res = employee_check(work_hours)\n",
    "print(res)"
   ]
  },
  {
   "cell_type": "code",
   "execution_count": 76,
   "id": "77b72c0d",
   "metadata": {},
   "outputs": [
    {
     "name": "stdout",
     "output_type": "stream",
     "text": [
      "billy\n",
      "4000\n"
     ]
    }
   ],
   "source": [
    "name, hours = employee_check(work_hours)\n",
    "print(name)\n",
    "print(hours)"
   ]
  },
  {
   "cell_type": "code",
   "execution_count": 77,
   "id": "c7cf702c",
   "metadata": {},
   "outputs": [
    {
     "data": {
      "text/plain": [
       "('billy', 4000)"
      ]
     },
     "execution_count": 77,
     "metadata": {},
     "output_type": "execute_result"
    }
   ],
   "source": [
    "item = employee_check(work_hours)\n",
    "item"
   ]
  },
  {
   "cell_type": "markdown",
   "id": "69e310f4",
   "metadata": {},
   "source": [
    "# Interaction between functions"
   ]
  },
  {
   "cell_type": "code",
   "execution_count": 78,
   "id": "a8ffce30",
   "metadata": {},
   "outputs": [],
   "source": [
    "from random import shuffle"
   ]
  },
  {
   "cell_type": "code",
   "execution_count": 79,
   "id": "9c682ebc",
   "metadata": {},
   "outputs": [
    {
     "data": {
      "text/plain": [
       "[5, 1, 6, 3, 4, 2, 7]"
      ]
     },
     "execution_count": 79,
     "metadata": {},
     "output_type": "execute_result"
    }
   ],
   "source": [
    "mylist = [1,2,3,4,5,6,7]\n",
    "shuffle(mylist)\n",
    "mylist"
   ]
  },
  {
   "cell_type": "code",
   "execution_count": 80,
   "id": "0210d68b",
   "metadata": {},
   "outputs": [],
   "source": [
    "def shuffle_list(mylist):\n",
    "    shuffle(mylist)\n",
    "    return mylist\n",
    "\n"
   ]
  },
  {
   "cell_type": "code",
   "execution_count": 81,
   "id": "c537ff5d",
   "metadata": {},
   "outputs": [
    {
     "data": {
      "text/plain": [
       "[1, 4, 3, 6, 7, 2, 5]"
      ]
     },
     "execution_count": 81,
     "metadata": {},
     "output_type": "execute_result"
    }
   ],
   "source": [
    "example = [1,2,3,4,5,6,7]\n",
    "result = shuffle_list(example)\n",
    "result"
   ]
  },
  {
   "cell_type": "code",
   "execution_count": 82,
   "id": "2aaaecda",
   "metadata": {},
   "outputs": [
    {
     "data": {
      "text/plain": [
       "['', '', 'O']"
      ]
     },
     "execution_count": 82,
     "metadata": {},
     "output_type": "execute_result"
    }
   ],
   "source": [
    "mylist = ['','O','']\n",
    "\n",
    "shuffle_list(mylist)"
   ]
  },
  {
   "cell_type": "code",
   "execution_count": 83,
   "id": "f1d6434e",
   "metadata": {},
   "outputs": [],
   "source": [
    "def playerguess():\n",
    "    guess = ''\n",
    "    while guess not in ['0','1','2']:\n",
    "        guess = input(\" pick a number : 0,1 or 2\")\n",
    "    \n",
    "    return int(guess)"
   ]
  },
  {
   "cell_type": "code",
   "execution_count": 84,
   "id": "508a237d",
   "metadata": {},
   "outputs": [
    {
     "name": "stdout",
     "output_type": "stream",
     "text": [
      " pick a number : 0,1 or 21\n"
     ]
    },
    {
     "data": {
      "text/plain": [
       "1"
      ]
     },
     "execution_count": 84,
     "metadata": {},
     "output_type": "execute_result"
    }
   ],
   "source": [
    "playerguess()"
   ]
  },
  {
   "cell_type": "code",
   "execution_count": 85,
   "id": "fe2e22ab",
   "metadata": {},
   "outputs": [
    {
     "name": "stdout",
     "output_type": "stream",
     "text": [
      " pick a number : 0,1 or 22\n"
     ]
    }
   ],
   "source": [
    "myindex = playerguess()"
   ]
  },
  {
   "cell_type": "code",
   "execution_count": 86,
   "id": "b551643e",
   "metadata": {},
   "outputs": [],
   "source": [
    "def check_guess(mylist, guess):\n",
    "    if mylist[guess] == 'O':\n",
    "        print('correct')\n",
    "        print(mylist)\n",
    "    else:\n",
    "        print(\"wrong guess\")\n",
    "        print(mylist)"
   ]
  },
  {
   "cell_type": "code",
   "execution_count": 88,
   "id": "e5730f66",
   "metadata": {},
   "outputs": [
    {
     "name": "stdout",
     "output_type": "stream",
     "text": [
      " pick a number : 0,1 or 20\n",
      "correct\n",
      "['O', '', '']\n"
     ]
    }
   ],
   "source": [
    "# Initial List\n",
    "mylist = ['','O','']\n",
    "# Shuffle List\n",
    "mixedup_list = shuffle_list(mylist)\n",
    "# User Guess\n",
    "guess = playerguess()\n",
    "# Check guess\n",
    "check_guess(mixedup_list, guess)\n"
   ]
  },
  {
   "cell_type": "code",
   "execution_count": null,
   "id": "05858bb3",
   "metadata": {},
   "outputs": [],
   "source": []
  },
  {
   "cell_type": "code",
   "execution_count": null,
   "id": "23e668ac",
   "metadata": {},
   "outputs": [],
   "source": []
  }
 ],
 "metadata": {
  "kernelspec": {
   "display_name": "Python 3 (ipykernel)",
   "language": "python",
   "name": "python3"
  },
  "language_info": {
   "codemirror_mode": {
    "name": "ipython",
    "version": 3
   },
   "file_extension": ".py",
   "mimetype": "text/x-python",
   "name": "python",
   "nbconvert_exporter": "python",
   "pygments_lexer": "ipython3",
   "version": "3.11.5"
  }
 },
 "nbformat": 4,
 "nbformat_minor": 5
}
