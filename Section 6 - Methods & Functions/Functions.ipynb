{
 "cells": [
  {
   "cell_type": "markdown",
   "id": "f093e912",
   "metadata": {},
   "source": [
    "# Python Functions"
   ]
  },
  {
   "cell_type": "code",
   "execution_count": 56,
   "id": "7aaf06b6",
   "metadata": {},
   "outputs": [],
   "source": [
    "#Methods"
   ]
  },
  {
   "cell_type": "code",
   "execution_count": 57,
   "id": "1682748a",
   "metadata": {},
   "outputs": [],
   "source": [
    "mylist = [1,2,3]\n",
    "mylist.append(4)\n"
   ]
  },
  {
   "cell_type": "code",
   "execution_count": 58,
   "id": "9daf1b13",
   "metadata": {},
   "outputs": [
    {
     "data": {
      "text/plain": [
       "[1, 2, 3, 4]"
      ]
     },
     "execution_count": 58,
     "metadata": {},
     "output_type": "execute_result"
    }
   ],
   "source": [
    "mylist"
   ]
  },
  {
   "cell_type": "code",
   "execution_count": 59,
   "id": "015b07e0",
   "metadata": {},
   "outputs": [
    {
     "data": {
      "text/plain": [
       "[1, 2, 3]"
      ]
     },
     "execution_count": 59,
     "metadata": {},
     "output_type": "execute_result"
    }
   ],
   "source": [
    "mylist.pop()\n",
    "mylist"
   ]
  },
  {
   "cell_type": "code",
   "execution_count": 60,
   "id": "a9405f40",
   "metadata": {},
   "outputs": [],
   "source": [
    "mylist.insert(3,4) #3 is the index\n"
   ]
  },
  {
   "cell_type": "code",
   "execution_count": 61,
   "id": "c86c3e2f",
   "metadata": {},
   "outputs": [
    {
     "data": {
      "text/plain": [
       "[1, 2, 3, 4]"
      ]
     },
     "execution_count": 61,
     "metadata": {},
     "output_type": "execute_result"
    }
   ],
   "source": [
    "mylist"
   ]
  },
  {
   "cell_type": "code",
   "execution_count": 62,
   "id": "ce86c003",
   "metadata": {},
   "outputs": [],
   "source": [
    "# Functions"
   ]
  },
  {
   "cell_type": "code",
   "execution_count": 63,
   "id": "d28dfe04",
   "metadata": {},
   "outputs": [],
   "source": [
    "#function allow us to create block of code that can be easily executed many times, without needing to constantly reqrite the entire block of code"
   ]
  },
  {
   "cell_type": "code",
   "execution_count": 64,
   "id": "2c840f80",
   "metadata": {},
   "outputs": [],
   "source": [
    "# def name_of_functio():\n",
    "#     docstring explain function\n",
    "#     print('hello')"
   ]
  },
  {
   "cell_type": "code",
   "execution_count": 65,
   "id": "e1edc20a",
   "metadata": {},
   "outputs": [
    {
     "name": "stdout",
     "output_type": "stream",
     "text": [
      "hello arnav\n"
     ]
    }
   ],
   "source": [
    "def hello(name = 'default value'):\n",
    "    print(f\"hello {name}\")\n",
    "    \n",
    "hello('arnav')"
   ]
  },
  {
   "cell_type": "code",
   "execution_count": 66,
   "id": "68d3999f",
   "metadata": {},
   "outputs": [
    {
     "name": "stdout",
     "output_type": "stream",
     "text": [
      "hello default value\n"
     ]
    }
   ],
   "source": [
    "hello()"
   ]
  },
  {
   "cell_type": "code",
   "execution_count": 67,
   "id": "4d85e860",
   "metadata": {},
   "outputs": [
    {
     "name": "stdout",
     "output_type": "stream",
     "text": [
      "3\n"
     ]
    }
   ],
   "source": [
    "def add_function(num1, num2):\n",
    "    return num1+num2\n",
    "\n",
    "res = add_function(1,2)\n",
    "print(res)"
   ]
  },
  {
   "cell_type": "code",
   "execution_count": 68,
   "id": "539aa860",
   "metadata": {},
   "outputs": [
    {
     "data": {
      "text/plain": [
       "False"
      ]
     },
     "execution_count": 68,
     "metadata": {},
     "output_type": "execute_result"
    }
   ],
   "source": [
    "def is_even(num):\n",
    "    if(num %2 == 0):\n",
    "        return True\n",
    "    else:\n",
    "        return False\n",
    "\n",
    "res = is_even(11)\n",
    "res"
   ]
  },
  {
   "cell_type": "code",
   "execution_count": 69,
   "id": "035b391d",
   "metadata": {},
   "outputs": [
    {
     "data": {
      "text/plain": [
       "[2, 4, 6, 8]"
      ]
     },
     "execution_count": 69,
     "metadata": {},
     "output_type": "execute_result"
    }
   ],
   "source": [
    "# return true if any number is even inside a list\n",
    "\n",
    "mylist = [1,2,3,4,5,6,7,8]\n",
    "oddlist = [1,3,5]\n",
    "def is_even_list(mylist):\n",
    "    \n",
    "    \n",
    "    #return all the even numbers in a list\n",
    "    #placeholder variables\n",
    "    even_numbers = []\n",
    "    \n",
    "    for element in mylist:\n",
    "        \n",
    "        if element%2 == 0:\n",
    "            even_numbers.append(element)\n",
    "        else:\n",
    "            pass\n",
    "    return even_numbers\n",
    "        \n",
    "res = is_even_list(mylist)\n",
    "res"
   ]
  },
  {
   "cell_type": "code",
   "execution_count": 70,
   "id": "11bf9650",
   "metadata": {},
   "outputs": [],
   "source": [
    "stock_prices = [('apple',200), ('goog',400),('msft', 100)]"
   ]
  },
  {
   "cell_type": "code",
   "execution_count": 71,
   "id": "fa82bb6e",
   "metadata": {},
   "outputs": [
    {
     "name": "stdout",
     "output_type": "stream",
     "text": [
      "[('apple', 200), ('goog', 400), ('msft', 100)]\n",
      "[('apple', 200), ('goog', 400), ('msft', 100)]\n",
      "[('apple', 200), ('goog', 400), ('msft', 100)]\n"
     ]
    }
   ],
   "source": [
    "for items in stock_prices:\n",
    "    print(stock_prices)"
   ]
  },
  {
   "cell_type": "code",
   "execution_count": 72,
   "id": "bd0abf96",
   "metadata": {},
   "outputs": [
    {
     "name": "stdout",
     "output_type": "stream",
     "text": [
      "220.0\n",
      "440.0\n",
      "110.0\n"
     ]
    }
   ],
   "source": [
    "for ticker, price in stock_prices:\n",
    "    print(price + (0.1*price))"
   ]
  },
  {
   "cell_type": "code",
   "execution_count": 73,
   "id": "c2d4ebfa",
   "metadata": {},
   "outputs": [],
   "source": [
    "work_hours = [('abby',100),('billy', 4000), ('cassie', 800)]"
   ]
  },
  {
   "cell_type": "code",
   "execution_count": 74,
   "id": "e34d4a14",
   "metadata": {},
   "outputs": [],
   "source": [
    "def employee_check(work_hours):\n",
    "    \n",
    "    current_max = 0\n",
    "    employee_of_month =''\n",
    "    \n",
    "    for employee, hours in work_hours:\n",
    "        if hours > current_max:\n",
    "            current_max = hours\n",
    "            employee_of_month = employee\n",
    "    else:\n",
    "        pass\n",
    "    \n",
    "    #return\n",
    "    return (employee_of_month, current_max)"
   ]
  },
  {
   "cell_type": "code",
   "execution_count": 75,
   "id": "04ca8bce",
   "metadata": {},
   "outputs": [
    {
     "name": "stdout",
     "output_type": "stream",
     "text": [
      "('billy', 4000)\n"
     ]
    }
   ],
   "source": [
    "res = employee_check(work_hours)\n",
    "print(res)"
   ]
  },
  {
   "cell_type": "code",
   "execution_count": 76,
   "id": "d7eaf9b9",
   "metadata": {},
   "outputs": [
    {
     "name": "stdout",
     "output_type": "stream",
     "text": [
      "billy\n",
      "4000\n"
     ]
    }
   ],
   "source": [
    "name, hours = employee_check(work_hours)\n",
    "print(name)\n",
    "print(hours)"
   ]
  },
  {
   "cell_type": "code",
   "execution_count": 77,
   "id": "5e3fab80",
   "metadata": {},
   "outputs": [
    {
     "data": {
      "text/plain": [
       "('billy', 4000)"
      ]
     },
     "execution_count": 77,
     "metadata": {},
     "output_type": "execute_result"
    }
   ],
   "source": [
    "item = employee_check(work_hours)\n",
    "item"
   ]
  },
  {
   "cell_type": "markdown",
   "id": "8a7c5737",
   "metadata": {},
   "source": [
    "# Interaction between functions"
   ]
  },
  {
   "cell_type": "code",
   "execution_count": 78,
   "id": "56c1ba27",
   "metadata": {},
   "outputs": [],
   "source": [
    "from random import shuffle"
   ]
  },
  {
   "cell_type": "code",
   "execution_count": 79,
   "id": "d9b4f691",
   "metadata": {},
   "outputs": [
    {
     "data": {
      "text/plain": [
       "[5, 1, 6, 3, 4, 2, 7]"
      ]
     },
     "execution_count": 79,
     "metadata": {},
     "output_type": "execute_result"
    }
   ],
   "source": [
    "mylist = [1,2,3,4,5,6,7]\n",
    "shuffle(mylist)\n",
    "mylist"
   ]
  },
  {
   "cell_type": "code",
   "execution_count": 80,
   "id": "5835bc42",
   "metadata": {},
   "outputs": [],
   "source": [
    "def shuffle_list(mylist):\n",
    "    shuffle(mylist)\n",
    "    return mylist\n",
    "\n"
   ]
  },
  {
   "cell_type": "code",
   "execution_count": 81,
   "id": "d62c8f51",
   "metadata": {},
   "outputs": [
    {
     "data": {
      "text/plain": [
       "[1, 4, 3, 6, 7, 2, 5]"
      ]
     },
     "execution_count": 81,
     "metadata": {},
     "output_type": "execute_result"
    }
   ],
   "source": [
    "example = [1,2,3,4,5,6,7]\n",
    "result = shuffle_list(example)\n",
    "result"
   ]
  },
  {
   "cell_type": "code",
   "execution_count": 82,
   "id": "05aa2fff",
   "metadata": {},
   "outputs": [
    {
     "data": {
      "text/plain": [
       "['', '', 'O']"
      ]
     },
     "execution_count": 82,
     "metadata": {},
     "output_type": "execute_result"
    }
   ],
   "source": [
    "mylist = ['','O','']\n",
    "\n",
    "shuffle_list(mylist)"
   ]
  },
  {
   "cell_type": "code",
   "execution_count": 83,
   "id": "545e0f91",
   "metadata": {},
   "outputs": [],
   "source": [
    "def playerguess():\n",
    "    guess = ''\n",
    "    while guess not in ['0','1','2']:\n",
    "        guess = input(\" pick a number : 0,1 or 2\")\n",
    "    \n",
    "    return int(guess)"
   ]
  },
  {
   "cell_type": "code",
   "execution_count": 84,
   "id": "faac28f3",
   "metadata": {},
   "outputs": [
    {
     "name": "stdout",
     "output_type": "stream",
     "text": [
      " pick a number : 0,1 or 21\n"
     ]
    },
    {
     "data": {
      "text/plain": [
       "1"
      ]
     },
     "execution_count": 84,
     "metadata": {},
     "output_type": "execute_result"
    }
   ],
   "source": [
    "playerguess()"
   ]
  },
  {
   "cell_type": "code",
   "execution_count": 85,
   "id": "46ee298b",
   "metadata": {},
   "outputs": [
    {
     "name": "stdout",
     "output_type": "stream",
     "text": [
      " pick a number : 0,1 or 22\n"
     ]
    }
   ],
   "source": [
    "myindex = playerguess()"
   ]
  },
  {
   "cell_type": "code",
   "execution_count": 86,
   "id": "e973bc5e",
   "metadata": {},
   "outputs": [],
   "source": [
    "def check_guess(mylist, guess):\n",
    "    if mylist[guess] == 'O':\n",
    "        print('correct')\n",
    "        print(mylist)\n",
    "    else:\n",
    "        print(\"wrong guess\")\n",
    "        print(mylist)"
   ]
  },
  {
   "cell_type": "code",
   "execution_count": 88,
   "id": "ca8ea249",
   "metadata": {},
   "outputs": [
    {
     "name": "stdout",
     "output_type": "stream",
     "text": [
      " pick a number : 0,1 or 20\n",
      "correct\n",
      "['O', '', '']\n"
     ]
    }
   ],
   "source": [
    "# Initial List\n",
    "mylist = ['','O','']\n",
    "# Shuffle List\n",
    "mixedup_list = shuffle_list(mylist)\n",
    "# User Guess\n",
    "guess = playerguess()\n",
    "# Check guess\n",
    "check_guess(mixedup_list, guess)\n"
   ]
  },
  {
   "cell_type": "markdown",
   "id": "5b795718",
   "metadata": {},
   "source": [
    "# *args & **kwargs"
   ]
  },
  {
   "cell_type": "code",
   "execution_count": 89,
   "id": "218c6e14",
   "metadata": {},
   "outputs": [],
   "source": [
    "# args - arguments\n",
    "# kwargs - Keyword arguments\n",
    "\n",
    "def my_func(a,b):\n",
    "    #returns 5% of the sum of a and b\n",
    "    return sum((a,b)) * 0.05"
   ]
  },
  {
   "cell_type": "code",
   "execution_count": 91,
   "id": "c3e588cc",
   "metadata": {},
   "outputs": [
    {
     "data": {
      "text/plain": [
       "5.0"
      ]
     },
     "execution_count": 91,
     "metadata": {},
     "output_type": "execute_result"
    }
   ],
   "source": [
    "my_func(40,60)\n"
   ]
  },
  {
   "cell_type": "code",
   "execution_count": 93,
   "id": "719c9b03",
   "metadata": {},
   "outputs": [
    {
     "data": {
      "text/plain": [
       "11.75"
      ]
     },
     "execution_count": 93,
     "metadata": {},
     "output_type": "execute_result"
    }
   ],
   "source": [
    "def myfunc(*args):  #infinite arguments\n",
    "    return sum(args) * 0.05\n",
    "\n",
    "myfunc(40,60, 100, 1, 34)"
   ]
  },
  {
   "cell_type": "code",
   "execution_count": 98,
   "id": "eb483da1",
   "metadata": {},
   "outputs": [],
   "source": [
    "#kwargs makes a dictionary of arguments\n",
    "\n",
    "def myfunc(**kwargs):\n",
    "    if 'fruit' in kwargs:\n",
    "        print('My fruit of choice is {}'.format(kwargs['fruit']))\n",
    "    else:\n",
    "        print('error')"
   ]
  },
  {
   "cell_type": "code",
   "execution_count": 99,
   "id": "f59ee119",
   "metadata": {},
   "outputs": [
    {
     "name": "stdout",
     "output_type": "stream",
     "text": [
      "My fruit of choice is apple\n"
     ]
    }
   ],
   "source": [
    "myfunc(fruit = 'apple', veggie = 'lettuce')"
   ]
  },
  {
   "cell_type": "code",
   "execution_count": 102,
   "id": "398e84d8",
   "metadata": {},
   "outputs": [
    {
     "name": "stdout",
     "output_type": "stream",
     "text": [
      "I would like 10 orange\n"
     ]
    }
   ],
   "source": [
    "def myfunc(*args, **kwargs):\n",
    "    print('I would like {} {}'.format(args[0], kwargs['fruit']))\n",
    "    \n",
    "myfunc(10,20,30, fruit= 'orange')"
   ]
  },
  {
   "cell_type": "markdown",
   "id": "b1e8429d",
   "metadata": {},
   "source": [
    "# Lambda Expressions Map and Filter"
   ]
  },
  {
   "cell_type": "code",
   "execution_count": 103,
   "id": "f2133fa6",
   "metadata": {},
   "outputs": [],
   "source": [
    "def square(num):\n",
    "    return num**2"
   ]
  },
  {
   "cell_type": "code",
   "execution_count": 104,
   "id": "9e87cc04",
   "metadata": {},
   "outputs": [],
   "source": [
    "my_nums = [1,2,3,4,5]"
   ]
  },
  {
   "cell_type": "code",
   "execution_count": 106,
   "id": "5db9fb43",
   "metadata": {},
   "outputs": [
    {
     "name": "stdout",
     "output_type": "stream",
     "text": [
      "1\n",
      "4\n",
      "9\n",
      "16\n",
      "25\n"
     ]
    }
   ],
   "source": [
    "for item in map(square, my_nums): #map will apply square function to every item of my_nums list\n",
    "    print(item)"
   ]
  },
  {
   "cell_type": "code",
   "execution_count": 108,
   "id": "d3cfc33d",
   "metadata": {},
   "outputs": [
    {
     "data": {
      "text/plain": [
       "[1, 4, 9, 16, 25]"
      ]
     },
     "execution_count": 108,
     "metadata": {},
     "output_type": "execute_result"
    }
   ],
   "source": [
    "list(map(square, my_nums))"
   ]
  },
  {
   "cell_type": "code",
   "execution_count": 110,
   "id": "dcf397ec",
   "metadata": {},
   "outputs": [],
   "source": [
    "def splicer(mystring):\n",
    "    if len(mystring) % 2 == 0:\n",
    "        return 'EVEN'\n",
    "    else:\n",
    "        return mystring[0]"
   ]
  },
  {
   "cell_type": "code",
   "execution_count": 112,
   "id": "d32909a7",
   "metadata": {},
   "outputs": [
    {
     "data": {
      "text/plain": [
       "['EVEN', 'e', 's']"
      ]
     },
     "execution_count": 112,
     "metadata": {},
     "output_type": "execute_result"
    }
   ],
   "source": [
    "names = ['andy', 'eve','sally']\n",
    "list(map(splicer,names))"
   ]
  },
  {
   "cell_type": "code",
   "execution_count": 113,
   "id": "7ecfbdfd",
   "metadata": {},
   "outputs": [],
   "source": [
    "def check_even(num):\n",
    "    return num % 2 == 0"
   ]
  },
  {
   "cell_type": "code",
   "execution_count": 114,
   "id": "646f61be",
   "metadata": {},
   "outputs": [
    {
     "data": {
      "text/plain": [
       "[False, True, False, True, False, True]"
      ]
     },
     "execution_count": 114,
     "metadata": {},
     "output_type": "execute_result"
    }
   ],
   "source": [
    "mynums = [1,2,3,4,5,6]\n",
    "\n",
    "list(map(check_even, mynums))\n"
   ]
  },
  {
   "cell_type": "code",
   "execution_count": 116,
   "id": "2bc89239",
   "metadata": {},
   "outputs": [
    {
     "data": {
      "text/plain": [
       "[2, 4, 6]"
      ]
     },
     "execution_count": 116,
     "metadata": {},
     "output_type": "execute_result"
    }
   ],
   "source": [
    "list(filter(check_even, mynums)) #filter function filters out the output of the function on the elements "
   ]
  },
  {
   "cell_type": "markdown",
   "id": "1610c790",
   "metadata": {},
   "source": [
    "# lambda expression"
   ]
  },
  {
   "cell_type": "code",
   "execution_count": 121,
   "id": "6eb21e45",
   "metadata": {},
   "outputs": [],
   "source": [
    "#this is the standard function template\n",
    "def square(num):\n",
    "    return num ** 2"
   ]
  },
  {
   "cell_type": "code",
   "execution_count": 122,
   "id": "d110d455",
   "metadata": {},
   "outputs": [
    {
     "data": {
      "text/plain": [
       "<function __main__.<lambda>(num)>"
      ]
     },
     "execution_count": 122,
     "metadata": {},
     "output_type": "execute_result"
    }
   ],
   "source": [
    "#this is what a lambda expression looks like\n",
    "lambda num : num ** 2 "
   ]
  },
  {
   "cell_type": "code",
   "execution_count": 123,
   "id": "0b512a33",
   "metadata": {},
   "outputs": [
    {
     "data": {
      "text/plain": [
       "9"
      ]
     },
     "execution_count": 123,
     "metadata": {},
     "output_type": "execute_result"
    }
   ],
   "source": [
    "square(3)"
   ]
  },
  {
   "cell_type": "code",
   "execution_count": 126,
   "id": "014dd0e4",
   "metadata": {},
   "outputs": [
    {
     "data": {
      "text/plain": [
       "[1, 8, 27, 64, 125, 216]"
      ]
     },
     "execution_count": 126,
     "metadata": {},
     "output_type": "execute_result"
    }
   ],
   "source": [
    "list(map (lambda num: num**3, mynums))"
   ]
  },
  {
   "cell_type": "code",
   "execution_count": 129,
   "id": "24eda315",
   "metadata": {},
   "outputs": [
    {
     "data": {
      "text/plain": [
       "[2, 4, 6]"
      ]
     },
     "execution_count": 129,
     "metadata": {},
     "output_type": "execute_result"
    }
   ],
   "source": [
    "list(filter(lambda num: num%2 == 0, mynums))"
   ]
  },
  {
   "cell_type": "code",
   "execution_count": 130,
   "id": "b0dc56b1",
   "metadata": {},
   "outputs": [
    {
     "data": {
      "text/plain": [
       "['a', 'e', 's']"
      ]
     },
     "execution_count": 130,
     "metadata": {},
     "output_type": "execute_result"
    }
   ],
   "source": [
    "list(map(lambda name: name[0],names))"
   ]
  },
  {
   "cell_type": "code",
   "execution_count": 131,
   "id": "548ab9f7",
   "metadata": {},
   "outputs": [],
   "source": [
    "# lambda expressions are best used with simple/ less complex function"
   ]
  },
  {
   "cell_type": "markdown",
   "id": "a4e22013",
   "metadata": {},
   "source": [
    "# Nested Statements and Scope"
   ]
  },
  {
   "cell_type": "code",
   "execution_count": 132,
   "id": "17ef8878",
   "metadata": {},
   "outputs": [],
   "source": [
    "x = 25\n",
    "def printer():\n",
    "    x = 50\n",
    "    return x"
   ]
  },
  {
   "cell_type": "code",
   "execution_count": 133,
   "id": "6a73374a",
   "metadata": {},
   "outputs": [
    {
     "data": {
      "text/plain": [
       "25"
      ]
     },
     "execution_count": 133,
     "metadata": {},
     "output_type": "execute_result"
    }
   ],
   "source": [
    "x #global variable"
   ]
  },
  {
   "cell_type": "code",
   "execution_count": 134,
   "id": "3eca4710",
   "metadata": {},
   "outputs": [
    {
     "data": {
      "text/plain": [
       "50"
      ]
     },
     "execution_count": 134,
     "metadata": {},
     "output_type": "execute_result"
    }
   ],
   "source": [
    "printer() #x is in a scope of the function,"
   ]
  },
  {
   "cell_type": "code",
   "execution_count": null,
   "id": "fa8ab4b5",
   "metadata": {},
   "outputs": [],
   "source": []
  }
 ],
 "metadata": {
  "kernelspec": {
   "display_name": "Python 3 (ipykernel)",
   "language": "python",
   "name": "python3"
  },
  "language_info": {
   "codemirror_mode": {
    "name": "ipython",
    "version": 3
   },
   "file_extension": ".py",
   "mimetype": "text/x-python",
   "name": "python",
   "nbconvert_exporter": "python",
   "pygments_lexer": "ipython3",
   "version": "3.11.5"
  }
 },
 "nbformat": 4,
 "nbformat_minor": 5
}
