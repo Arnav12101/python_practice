{
 "cells": [
  {
   "cell_type": "code",
   "execution_count": 1,
   "id": "dd12c412",
   "metadata": {},
   "outputs": [],
   "source": [
    "# Using PyPi and pip install"
   ]
  },
  {
   "cell_type": "code",
   "execution_count": 2,
   "id": "3192eb76",
   "metadata": {},
   "outputs": [],
   "source": [
    "# PyPi is a repository for open-source third-party Python packages.\n",
    "#It is similar to RubyGames in the ruby world, PHP packagist, CPAN for Perl, and NPM for Node.js"
   ]
  },
  {
   "cell_type": "code",
   "execution_count": 3,
   "id": "ab5bd98b",
   "metadata": {},
   "outputs": [],
   "source": [
    "# We can use pip install at command line to install these packages"
   ]
  },
  {
   "cell_type": "code",
   "execution_count": 1,
   "id": "dcb46227",
   "metadata": {},
   "outputs": [],
   "source": [
    "# Last login: Tue Feb 20 08:49:16 on ttys000\n",
    "\n",
    "# The default interactive shell is now zsh.\n",
    "# To update your account to use zsh, please run `chsh -s /bin/zsh`.\n",
    "# For more details, please visit https://support.apple.com/kb/HT208050.\n",
    "# (base) Arnavs-MacBook-Air:~ arnavparmar$ pip install requests \n",
    "# Requirement already satisfied: requests in ./anaconda3/lib/python3.11/site-packages (2.31.0)\n",
    "# Requirement already satisfied: charset-normalizer<4,>=2 in ./anaconda3/lib/python3.11/site-packages (from requests) (2.0.4)\n",
    "# Requirement already satisfied: idna<4,>=2.5 in ./anaconda3/lib/python3.11/site-packages (from requests) (3.4)\n",
    "# Requirement already satisfied: urllib3<3,>=1.21.1 in ./anaconda3/lib/python3.11/site-packages (from requests) (1.26.16)\n",
    "# Requirement already satisfied: certifi>=2017.4.17 in ./anaconda3/lib/python3.11/site-packages (from requests) (2024.2.2)\n",
    "# (base) Arnavs-MacBook-Air:~ arnavparmar$ pip install colorama\n",
    "# Requirement already satisfied: colorama in ./anaconda3/lib/python3.11/site-packages (0.4.6)\n",
    "# (base) Arnavs-MacBook-Air:~ arnavparmar$ python\n",
    "# Python 3.11.5 (main, Sep 11 2023, 08:31:25) [Clang 14.0.6 ] on darwin\n",
    "# Type \"help\", \"copyright\", \"credits\" or \"license\" for more information.\n",
    "# >>> from colorama import init\n",
    "# >>> init()\n",
    "# >>> from colorama import Fore\n",
    "# >>> print(Fore.RED + \"Some red text\")\n",
    "# Some red text\n",
    "# >>> print(Fore.GREEN + 'switch to gree\")\n",
    "#   File \"<stdin>\", line 1\n",
    "#     print(Fore.GREEN + 'switch to gree\")\n",
    "#                        ^\n",
    "# SyntaxError: unterminated string literal (detected at line 1)\n",
    "# >>> print(Fore.GREEN + 'switch to green')\n",
    "# switch to green\n",
    "# >>> print(Fore.BLUE + 'hello')\n",
    "# hello\n",
    "# >>> \n",
    "# KeyboardInterrupt\n",
    "# >>> exit()\n",
    "# (base) Arnavs-MacBook-Air:~ arnavparmar$ pip install openpyxl\n",
    "# Requirement already satisfied: openpyxl in ./anaconda3/lib/python3.11/site-packages (3.0.10)\n",
    "# Requirement already satisfied: et_xmlfile in ./anaconda3/lib/python3.11/site-packages (from openpyxl) (1.1.0)\n",
    "# (base) Arnavs-MacBook-Air:~ arnavparmar$ python\n",
    "# Python 3.11.5 (main, Sep 11 2023, 08:31:25) [Clang 14.0.6 ] on darwin\n",
    "# Type \"help\", \"copyright\", \"credits\" or \"license\" for more information.\n",
    "# >>> import openpyxl\n",
    "# >>> exit()\n",
    "# (base) Arnavs-MacBook-Air:~ arnavparmar$ \n"
   ]
  }
 ],
 "metadata": {
  "kernelspec": {
   "display_name": "Python 3 (ipykernel)",
   "language": "python",
   "name": "python3"
  },
  "language_info": {
   "codemirror_mode": {
    "name": "ipython",
    "version": 3
   },
   "file_extension": ".py",
   "mimetype": "text/x-python",
   "name": "python",
   "nbconvert_exporter": "python",
   "pygments_lexer": "ipython3",
   "version": "3.11.5"
  }
 },
 "nbformat": 4,
 "nbformat_minor": 5
}
