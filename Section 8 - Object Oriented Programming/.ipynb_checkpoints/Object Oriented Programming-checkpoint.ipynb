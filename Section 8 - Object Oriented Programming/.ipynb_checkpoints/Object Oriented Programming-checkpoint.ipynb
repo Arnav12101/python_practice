{
 "cells": [
  {
   "cell_type": "markdown",
   "id": "f044d5bc",
   "metadata": {},
   "source": [
    "# OOP"
   ]
  },
  {
   "cell_type": "code",
   "execution_count": 3,
   "id": "11206bb9",
   "metadata": {},
   "outputs": [],
   "source": [
    "# oop allows programmer to create their own objects that have methods and attributes\n",
    "#these methods act as functions that use information about the object, as well as the object itself to reutnr results, or change the currenct object\n",
    "#OOP allows user ot create their own objects"
   ]
  },
  {
   "cell_type": "code",
   "execution_count": 5,
   "id": "913895f9",
   "metadata": {},
   "outputs": [],
   "source": [
    "#Syntax\n",
    "#objects are also called class in python\n",
    "\n",
    "class NameOfClass():\n",
    "    \n",
    "    def _init_(self, pararm1, param2): #method which is invoked when an isntance of the class is created\n",
    "        self.param1 = param1\n",
    "        self.param2 = param2\n",
    "        \n",
    "    def some_method(self):\n",
    "        #perform some action\n",
    "        print(self.param)"
   ]
  },
  {
   "cell_type": "markdown",
   "id": "e41fa76d",
   "metadata": {},
   "source": [
    "# OOP-Part One (Attributes and Class Keyword)"
   ]
  },
  {
   "cell_type": "code",
   "execution_count": 6,
   "id": "1f2dcb40",
   "metadata": {},
   "outputs": [],
   "source": [
    "mylist = [1,2,3]"
   ]
  },
  {
   "cell_type": "code",
   "execution_count": 7,
   "id": "c30cb8b8",
   "metadata": {},
   "outputs": [],
   "source": [
    "mylist = set()"
   ]
  },
  {
   "cell_type": "code",
   "execution_count": 9,
   "id": "496abc25",
   "metadata": {},
   "outputs": [],
   "source": [
    "myset = set()"
   ]
  },
  {
   "cell_type": "code",
   "execution_count": 10,
   "id": "8fee24f6",
   "metadata": {},
   "outputs": [
    {
     "data": {
      "text/plain": [
       "set"
      ]
     },
     "execution_count": 10,
     "metadata": {},
     "output_type": "execute_result"
    }
   ],
   "source": [
    "type(myset)"
   ]
  },
  {
   "cell_type": "code",
   "execution_count": 30,
   "id": "9c70e54d",
   "metadata": {},
   "outputs": [],
   "source": [
    "#First class\n",
    "#init method is always called first whenever an instance of that object is created\n",
    "class Dog():\n",
    "    def __init__(self, breed, name, spots):\n",
    "        self.breed = breed\n",
    "        self.name = name\n",
    "        self.spots = spots\n",
    "        \n",
    "    def showattributes(self):\n",
    "        print(self.breed)\n",
    "        print(self.name)\n",
    "        print(self.spots)"
   ]
  },
  {
   "cell_type": "code",
   "execution_count": 31,
   "id": "ff840994",
   "metadata": {},
   "outputs": [],
   "source": [
    "my_dog = Dog(breed = 'labra', name = 'maxi', spots = '5')"
   ]
  },
  {
   "cell_type": "code",
   "execution_count": 32,
   "id": "ca1fe8f4",
   "metadata": {},
   "outputs": [
    {
     "data": {
      "text/plain": [
       "__main__.Dog"
      ]
     },
     "execution_count": 32,
     "metadata": {},
     "output_type": "execute_result"
    }
   ],
   "source": [
    "type(my_dog)"
   ]
  },
  {
   "cell_type": "code",
   "execution_count": 37,
   "id": "694b928c",
   "metadata": {},
   "outputs": [
    {
     "name": "stdout",
     "output_type": "stream",
     "text": [
      "labra\n",
      "maxi\n",
      "5\n"
     ]
    }
   ],
   "source": [
    "my_dog.showattributes()"
   ]
  },
  {
   "cell_type": "code",
   "execution_count": 38,
   "id": "8a618922",
   "metadata": {},
   "outputs": [
    {
     "name": "stdout",
     "output_type": "stream",
     "text": [
      "labra\n"
     ]
    }
   ],
   "source": [
    "print(my_dog.breed)"
   ]
  },
  {
   "cell_type": "code",
   "execution_count": 39,
   "id": "67743c08",
   "metadata": {},
   "outputs": [],
   "source": [
    "class Car():\n",
    "    def __init__(self, brand):\n",
    "        self.brand = brand\n",
    "        \n",
    "    def showbrand(self):\n",
    "        print(self.brand)"
   ]
  },
  {
   "cell_type": "code",
   "execution_count": 40,
   "id": "1ba69934",
   "metadata": {},
   "outputs": [
    {
     "name": "stdout",
     "output_type": "stream",
     "text": [
      "bmw\n"
     ]
    }
   ],
   "source": [
    "somecar = Car(brand = 'bmw') #somecar is the object of the class Car\n",
    "somecar.showbrand() #showcar is the function of that object"
   ]
  },
  {
   "cell_type": "markdown",
   "id": "2e4af2e1",
   "metadata": {},
   "source": [
    "# OOP - Part Two (Class object attributes and methods)"
   ]
  },
  {
   "cell_type": "code",
   "execution_count": 79,
   "id": "570492d3",
   "metadata": {},
   "outputs": [],
   "source": [
    "#First class\n",
    "#init method is always called first whenever an instance of that object is created\n",
    "class Dog():\n",
    "    \n",
    "    species = 'mammal' #this variable will be same for all the instances, thats why its outside the init function\n",
    "    \n",
    "    def __init__(self, breed, name):\n",
    "        self.breed = breed\n",
    "        self.name = name\n",
    "        \n",
    "    \n",
    "    \n",
    "    \n",
    "    #A method is a function which is inside a class that works with the object\n",
    "    \n",
    "    #Operations/ Actions ---> Methods\n",
    "    def bark(self, age):\n",
    "        print('WOOF! My name is {} and my age is {}'.format(self.name, age)) #Age is not related to the instance, so no need of writing self.age\n",
    "    \n",
    "    \n",
    "    "
   ]
  },
  {
   "cell_type": "code",
   "execution_count": 83,
   "id": "6ec5c52d",
   "metadata": {},
   "outputs": [],
   "source": [
    "mydog = Dog('lab','Minnuu')\n",
    "mydog1 = Dog('indie', 'motu')"
   ]
  },
  {
   "cell_type": "code",
   "execution_count": 84,
   "id": "06aed50b",
   "metadata": {},
   "outputs": [
    {
     "data": {
      "text/plain": [
       "'mammal'"
      ]
     },
     "execution_count": 84,
     "metadata": {},
     "output_type": "execute_result"
    }
   ],
   "source": [
    "mydog.species #Species is global, and will be same for all instances"
   ]
  },
  {
   "cell_type": "markdown",
   "id": "6f67f832",
   "metadata": {},
   "source": [
    "# Methods"
   ]
  },
  {
   "cell_type": "code",
   "execution_count": 86,
   "id": "be606142",
   "metadata": {},
   "outputs": [
    {
     "name": "stdout",
     "output_type": "stream",
     "text": [
      "WOOF! My name is Minnuu and my age is 6\n",
      "WOOF! My name is motu and my age is 2\n"
     ]
    }
   ],
   "source": [
    "mydog.bark(6)\n",
    "mydog1.bark(2)"
   ]
  },
  {
   "cell_type": "code",
   "execution_count": null,
   "id": "5d1a4cc9",
   "metadata": {},
   "outputs": [],
   "source": []
  },
  {
   "cell_type": "code",
   "execution_count": null,
   "id": "10575249",
   "metadata": {},
   "outputs": [],
   "source": []
  },
  {
   "cell_type": "code",
   "execution_count": 121,
   "id": "3b09fc79",
   "metadata": {},
   "outputs": [],
   "source": [
    "class Circle():\n",
    "    pi = 3.14 # pi is a class object attribute\n",
    "    \n",
    "    def __init__(self, radius=1):\n",
    "        self.radius = radius\n",
    "        self.area = self.radius ** 2  * self.pi\n",
    "        \n",
    "    def get_circumference(self):\n",
    "        return 2 * self.pi * self.radius"
   ]
  },
  {
   "cell_type": "code",
   "execution_count": 122,
   "id": "909523ab",
   "metadata": {},
   "outputs": [],
   "source": [
    "my_circle = Circle(30)"
   ]
  },
  {
   "cell_type": "code",
   "execution_count": 123,
   "id": "11c0fa47",
   "metadata": {},
   "outputs": [
    {
     "data": {
      "text/plain": [
       "188.4"
      ]
     },
     "execution_count": 123,
     "metadata": {},
     "output_type": "execute_result"
    }
   ],
   "source": [
    "my_circle.get_circumference()"
   ]
  },
  {
   "cell_type": "code",
   "execution_count": 124,
   "id": "5da8c94b",
   "metadata": {},
   "outputs": [
    {
     "data": {
      "text/plain": [
       "2826.0"
      ]
     },
     "execution_count": 124,
     "metadata": {},
     "output_type": "execute_result"
    }
   ],
   "source": [
    "my_circle.area"
   ]
  },
  {
   "cell_type": "code",
   "execution_count": null,
   "id": "7d899a99",
   "metadata": {},
   "outputs": [],
   "source": []
  },
  {
   "cell_type": "code",
   "execution_count": null,
   "id": "2e84bba9",
   "metadata": {},
   "outputs": [],
   "source": []
  },
  {
   "cell_type": "markdown",
   "id": "e3dd16c5",
   "metadata": {},
   "source": [
    "# Part Three - Inheritance & Polymorphism"
   ]
  },
  {
   "cell_type": "code",
   "execution_count": 140,
   "id": "a3150f99",
   "metadata": {},
   "outputs": [],
   "source": [
    "class Animal(): #Base Class\n",
    "    def __init__(self):\n",
    "        print('Animal Created')\n",
    "    \n",
    "    def who_am_i(self):\n",
    "        print('I am an animal')\n",
    "        \n",
    "    def eat(self):\n",
    "        print('I am eating')"
   ]
  },
  {
   "cell_type": "code",
   "execution_count": 162,
   "id": "6ac6a70b",
   "metadata": {},
   "outputs": [],
   "source": [
    "# Deriving dog from Animal\n",
    "class Dog(Animal):\n",
    "    def __init__(self):\n",
    "        Animal.__init__(self) #instance of animal class will be created when an instance of dog will be created\n",
    "        print('Dog Created')\n",
    "    \n",
    "    def eat(self):\n",
    "        print('i eat dog food')\n",
    "    def bark(self):\n",
    "        print('woof')"
   ]
  },
  {
   "cell_type": "code",
   "execution_count": 163,
   "id": "f95d4a81",
   "metadata": {},
   "outputs": [
    {
     "name": "stdout",
     "output_type": "stream",
     "text": [
      "Animal Created\n",
      "Dog Created\n"
     ]
    }
   ],
   "source": [
    "mydog = Dog()"
   ]
  },
  {
   "cell_type": "code",
   "execution_count": 164,
   "id": "d5684f52",
   "metadata": {},
   "outputs": [
    {
     "name": "stdout",
     "output_type": "stream",
     "text": [
      "I am an animal\n"
     ]
    }
   ],
   "source": [
    "mydog.who_am_i()"
   ]
  },
  {
   "cell_type": "code",
   "execution_count": 165,
   "id": "54b364d3",
   "metadata": {},
   "outputs": [
    {
     "name": "stdout",
     "output_type": "stream",
     "text": [
      "i eat dog food\n"
     ]
    }
   ],
   "source": [
    "mydog.eat()"
   ]
  },
  {
   "cell_type": "code",
   "execution_count": 166,
   "id": "801c014e",
   "metadata": {},
   "outputs": [
    {
     "name": "stdout",
     "output_type": "stream",
     "text": [
      "woof\n"
     ]
    }
   ],
   "source": [
    "mydog.bark()"
   ]
  },
  {
   "cell_type": "markdown",
   "id": "1a8752c6",
   "metadata": {},
   "source": [
    "# Polymorphism"
   ]
  },
  {
   "cell_type": "markdown",
   "id": "e3c5d64d",
   "metadata": {},
   "source": [
    "# Polymorphism -> ploymorphism refers to the way in which different objects classes can share the same method name, and then those same methods can be called from the same place even tho a variety of different objects may be passed in."
   ]
  },
  {
   "cell_type": "code",
   "execution_count": 168,
   "id": "eb44f106",
   "metadata": {},
   "outputs": [],
   "source": [
    "class Dog():\n",
    "    def __init__(self, name):\n",
    "        self.name = name\n",
    "    def speak(self):\n",
    "        return self.name + ' woof!'\n",
    "    \n",
    "class cat():\n",
    "    def __init__(self, name):\n",
    "        self.name = name\n",
    "    def speak(self):\n",
    "        return self.name + ' Meow ! :3'\n",
    "    \n"
   ]
  },
  {
   "cell_type": "code",
   "execution_count": 169,
   "id": "6e0ed3f2",
   "metadata": {},
   "outputs": [],
   "source": [
    "niko = Dog('Niko')\n",
    "felix = cat('felix')"
   ]
  },
  {
   "cell_type": "code",
   "execution_count": 170,
   "id": "c15df197",
   "metadata": {},
   "outputs": [
    {
     "name": "stdout",
     "output_type": "stream",
     "text": [
      "Niko woof!\n"
     ]
    }
   ],
   "source": [
    "print(niko.speak())"
   ]
  },
  {
   "cell_type": "code",
   "execution_count": 171,
   "id": "bf0190d3",
   "metadata": {},
   "outputs": [
    {
     "name": "stdout",
     "output_type": "stream",
     "text": [
      "felix Meow ! :3\n"
     ]
    }
   ],
   "source": [
    "print(felix.speak())"
   ]
  },
  {
   "cell_type": "code",
   "execution_count": 172,
   "id": "dd772d23",
   "metadata": {},
   "outputs": [
    {
     "name": "stdout",
     "output_type": "stream",
     "text": [
      "<class '__main__.Dog'>\n",
      "<class 'method'>\n",
      "<class '__main__.cat'>\n",
      "<class 'method'>\n"
     ]
    }
   ],
   "source": [
    "for pet in [niko, felix]:\n",
    "    print(type(pet))\n",
    "    print(type(pet.speak))"
   ]
  },
  {
   "cell_type": "code",
   "execution_count": 173,
   "id": "e2b16f1f",
   "metadata": {},
   "outputs": [],
   "source": [
    "def pet_speak(pet):\n",
    "    print(pet.speak())"
   ]
  },
  {
   "cell_type": "code",
   "execution_count": 174,
   "id": "e9e915c6",
   "metadata": {},
   "outputs": [
    {
     "name": "stdout",
     "output_type": "stream",
     "text": [
      "felix Meow ! :3\n"
     ]
    }
   ],
   "source": [
    "pet_speak(felix)"
   ]
  },
  {
   "cell_type": "code",
   "execution_count": 175,
   "id": "35d775eb",
   "metadata": {},
   "outputs": [
    {
     "name": "stdout",
     "output_type": "stream",
     "text": [
      "Niko woof!\n"
     ]
    }
   ],
   "source": [
    "pet_speak(niko)"
   ]
  },
  {
   "cell_type": "code",
   "execution_count": 176,
   "id": "521ed4db",
   "metadata": {},
   "outputs": [],
   "source": [
    "#Absctract class - the class which never expects to be instantiated"
   ]
  },
  {
   "cell_type": "code",
   "execution_count": 178,
   "id": "42c46807",
   "metadata": {},
   "outputs": [],
   "source": [
    "class Animal():\n",
    "    def __init__(self, name):\n",
    "        self.name = name\n",
    "        \n",
    "    def speak(self):\n",
    "        raise NotImplementedError('subclass must implement this abstract method')"
   ]
  },
  {
   "cell_type": "code",
   "execution_count": 197,
   "id": "ef045b88",
   "metadata": {},
   "outputs": [],
   "source": [
    "class Dog(Animal):\n",
    "    def speak(self):\n",
    "        return self.name + \" woof\""
   ]
  },
  {
   "cell_type": "code",
   "execution_count": 198,
   "id": "09aa69e0",
   "metadata": {},
   "outputs": [],
   "source": [
    "class cat(Animal):\n",
    "    def speak(self):\n",
    "        return self.name + \" meaow\""
   ]
  },
  {
   "cell_type": "code",
   "execution_count": 199,
   "id": "5fb650ef",
   "metadata": {},
   "outputs": [],
   "source": [
    "fido = Dog('fido')"
   ]
  },
  {
   "cell_type": "code",
   "execution_count": 200,
   "id": "bd2e6d78",
   "metadata": {},
   "outputs": [],
   "source": [
    "isi = cat('isi')"
   ]
  },
  {
   "cell_type": "code",
   "execution_count": 201,
   "id": "7ae2f01b",
   "metadata": {},
   "outputs": [
    {
     "name": "stdout",
     "output_type": "stream",
     "text": [
      "fido woof\n"
     ]
    }
   ],
   "source": [
    "print(fido.speak())"
   ]
  },
  {
   "cell_type": "code",
   "execution_count": 202,
   "id": "535100f3",
   "metadata": {},
   "outputs": [
    {
     "name": "stdout",
     "output_type": "stream",
     "text": [
      "isi meaow\n"
     ]
    }
   ],
   "source": [
    "print(isi.speak())"
   ]
  },
  {
   "cell_type": "markdown",
   "id": "6d4cc87e",
   "metadata": {},
   "source": [
    "# Special Methods"
   ]
  },
  {
   "cell_type": "code",
   "execution_count": 203,
   "id": "b69d5d9a",
   "metadata": {},
   "outputs": [
    {
     "data": {
      "text/plain": [
       "3"
      ]
     },
     "execution_count": 203,
     "metadata": {},
     "output_type": "execute_result"
    }
   ],
   "source": [
    "mylist = [1,2,3]\n",
    "len(mylist)"
   ]
  },
  {
   "cell_type": "code",
   "execution_count": 205,
   "id": "4ae301f6",
   "metadata": {},
   "outputs": [],
   "source": [
    "class Sample():\n",
    "    pass"
   ]
  },
  {
   "cell_type": "code",
   "execution_count": 206,
   "id": "cb29cceb",
   "metadata": {},
   "outputs": [],
   "source": [
    "mysample = Sample()"
   ]
  },
  {
   "cell_type": "code",
   "execution_count": 208,
   "id": "e6f7901e",
   "metadata": {},
   "outputs": [
    {
     "name": "stdout",
     "output_type": "stream",
     "text": [
      "<__main__.Sample object at 0x107fc0b10>\n"
     ]
    }
   ],
   "source": [
    "print(mysample)"
   ]
  },
  {
   "cell_type": "code",
   "execution_count": 209,
   "id": "e68ec308",
   "metadata": {},
   "outputs": [],
   "source": [
    "#Magic methods or dunder methods"
   ]
  },
  {
   "cell_type": "code",
   "execution_count": 247,
   "id": "3cc36398",
   "metadata": {},
   "outputs": [],
   "source": [
    "class Book():\n",
    "    def __init__(self, title, author, pages):\n",
    "        self.title = title\n",
    "        self.author = author\n",
    "        self.pages = pages\n",
    "    \n",
    "    \n",
    "    def __str__(self):\n",
    "        return f'{self.title} by {self.author}'\n",
    "    \n",
    "    def __len__(self):\n",
    "        return self.pages\n",
    "    \n",
    "    def __del__(self):\n",
    "        print(\"An object has been deleted\")"
   ]
  },
  {
   "cell_type": "code",
   "execution_count": 248,
   "id": "cb2a4e81",
   "metadata": {},
   "outputs": [],
   "source": [
    "b = Book('python', 'arnav', 200)"
   ]
  },
  {
   "cell_type": "code",
   "execution_count": 249,
   "id": "006d939f",
   "metadata": {},
   "outputs": [
    {
     "name": "stdout",
     "output_type": "stream",
     "text": [
      "python by arnav\n"
     ]
    }
   ],
   "source": [
    "print(b)"
   ]
  },
  {
   "cell_type": "code",
   "execution_count": 250,
   "id": "36fe33a3",
   "metadata": {},
   "outputs": [
    {
     "data": {
      "text/plain": [
       "'python by arnav'"
      ]
     },
     "execution_count": 250,
     "metadata": {},
     "output_type": "execute_result"
    }
   ],
   "source": [
    "str(b)"
   ]
  },
  {
   "cell_type": "code",
   "execution_count": 251,
   "id": "ebc77500",
   "metadata": {},
   "outputs": [
    {
     "data": {
      "text/plain": [
       "200"
      ]
     },
     "execution_count": 251,
     "metadata": {},
     "output_type": "execute_result"
    }
   ],
   "source": [
    "len(b)"
   ]
  },
  {
   "cell_type": "code",
   "execution_count": 252,
   "id": "c55cba5c",
   "metadata": {},
   "outputs": [
    {
     "name": "stdout",
     "output_type": "stream",
     "text": [
      "An object has been deleted\n"
     ]
    }
   ],
   "source": [
    "del b # way to delete variables in the system"
   ]
  },
  {
   "cell_type": "code",
   "execution_count": null,
   "id": "8b202c34",
   "metadata": {},
   "outputs": [],
   "source": []
  },
  {
   "cell_type": "code",
   "execution_count": null,
   "id": "a1067bc1",
   "metadata": {},
   "outputs": [],
   "source": []
  },
  {
   "cell_type": "code",
   "execution_count": null,
   "id": "9976db60",
   "metadata": {},
   "outputs": [],
   "source": []
  },
  {
   "cell_type": "code",
   "execution_count": null,
   "id": "0dd00786",
   "metadata": {},
   "outputs": [],
   "source": []
  },
  {
   "cell_type": "code",
   "execution_count": 264,
   "id": "21d7f974",
   "metadata": {},
   "outputs": [],
   "source": [
    "class some_abstract_class():\n",
    "    def __init__(self, name):\n",
    "        self.name = name\n",
    "        \n",
    "    def print_something(self):\n",
    "        raise NotImplementedError('subclass must implement this abstract method')"
   ]
  },
  {
   "cell_type": "code",
   "execution_count": 281,
   "id": "581a2439",
   "metadata": {},
   "outputs": [],
   "source": [
    "class child(some_abstract_class):\n",
    "    def __init__(self,name):\n",
    "        self.name = name\n",
    "    \n",
    "    def print_something(self, name):\n",
    "        return f'This is an overriden method from abstract class and the name is {self.name}'"
   ]
  },
  {
   "cell_type": "code",
   "execution_count": 282,
   "id": "5993798b",
   "metadata": {},
   "outputs": [],
   "source": [
    "chidobj = child('arnav')"
   ]
  },
  {
   "cell_type": "code",
   "execution_count": 284,
   "id": "7e0d9d60",
   "metadata": {},
   "outputs": [
    {
     "data": {
      "text/plain": [
       "'This is an overriden method from abstract class and the name is arnav'"
      ]
     },
     "execution_count": 284,
     "metadata": {},
     "output_type": "execute_result"
    }
   ],
   "source": [
    "chidobj.print_something('arnav')"
   ]
  },
  {
   "cell_type": "code",
   "execution_count": null,
   "id": "2bb911db",
   "metadata": {},
   "outputs": [],
   "source": []
  },
  {
   "cell_type": "code",
   "execution_count": null,
   "id": "5abbe9d4",
   "metadata": {},
   "outputs": [],
   "source": []
  }
 ],
 "metadata": {
  "kernelspec": {
   "display_name": "Python 3 (ipykernel)",
   "language": "python",
   "name": "python3"
  },
  "language_info": {
   "codemirror_mode": {
    "name": "ipython",
    "version": 3
   },
   "file_extension": ".py",
   "mimetype": "text/x-python",
   "name": "python",
   "nbconvert_exporter": "python",
   "pygments_lexer": "ipython3",
   "version": "3.11.5"
  }
 },
 "nbformat": 4,
 "nbformat_minor": 5
}
