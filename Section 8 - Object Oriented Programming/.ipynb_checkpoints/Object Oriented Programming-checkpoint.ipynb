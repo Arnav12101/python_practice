{
 "cells": [
  {
   "cell_type": "markdown",
   "id": "329a4b14",
   "metadata": {},
   "source": [
    "# OOP"
   ]
  },
  {
   "cell_type": "code",
   "execution_count": 3,
   "id": "a46b88d7",
   "metadata": {},
   "outputs": [],
   "source": [
    "# oop allows programmer to create their own objects that have methods and attributes\n",
    "#these methods act as functions that use information about the object, as well as the object itself to reutnr results, or change the currenct object\n",
    "#OOP allows user ot create their own objects"
   ]
  },
  {
   "cell_type": "code",
   "execution_count": 5,
   "id": "e4a7598c",
   "metadata": {},
   "outputs": [],
   "source": [
    "#Syntax\n",
    "#objects are also called class in python\n",
    "\n",
    "class NameOfClass():\n",
    "    \n",
    "    def _init_(self, pararm1, param2): #method which is invoked when an isntance of the class is created\n",
    "        self.param1 = param1\n",
    "        self.param2 = param2\n",
    "        \n",
    "    def some_method(self):\n",
    "        #perform some action\n",
    "        print(self.param)"
   ]
  },
  {
   "cell_type": "markdown",
   "id": "eabe1184",
   "metadata": {},
   "source": [
    "# OOP-Part One (Attributes and Class Keyword)"
   ]
  },
  {
   "cell_type": "code",
   "execution_count": 6,
   "id": "d339ca5d",
   "metadata": {},
   "outputs": [],
   "source": [
    "mylist = [1,2,3]"
   ]
  },
  {
   "cell_type": "code",
   "execution_count": 7,
   "id": "ebdb5532",
   "metadata": {},
   "outputs": [],
   "source": [
    "mylist = set()"
   ]
  },
  {
   "cell_type": "code",
   "execution_count": 9,
   "id": "07637bc1",
   "metadata": {},
   "outputs": [],
   "source": [
    "myset = set()"
   ]
  },
  {
   "cell_type": "code",
   "execution_count": 10,
   "id": "d7608242",
   "metadata": {},
   "outputs": [
    {
     "data": {
      "text/plain": [
       "set"
      ]
     },
     "execution_count": 10,
     "metadata": {},
     "output_type": "execute_result"
    }
   ],
   "source": [
    "type(myset)"
   ]
  },
  {
   "cell_type": "code",
   "execution_count": 30,
   "id": "95c4b7af",
   "metadata": {},
   "outputs": [],
   "source": [
    "#First class\n",
    "#init method is always called first whenever an instance of that object is created\n",
    "class Dog():\n",
    "    def __init__(self, breed, name, spots):\n",
    "        self.breed = breed\n",
    "        self.name = name\n",
    "        self.spots = spots\n",
    "        \n",
    "    def showattributes(self):\n",
    "        print(self.breed)\n",
    "        print(self.name)\n",
    "        print(self.spots)"
   ]
  },
  {
   "cell_type": "code",
   "execution_count": 31,
   "id": "884beed2",
   "metadata": {},
   "outputs": [],
   "source": [
    "my_dog = Dog(breed = 'labra', name = 'maxi', spots = '5')"
   ]
  },
  {
   "cell_type": "code",
   "execution_count": 32,
   "id": "71c3c39c",
   "metadata": {},
   "outputs": [
    {
     "data": {
      "text/plain": [
       "__main__.Dog"
      ]
     },
     "execution_count": 32,
     "metadata": {},
     "output_type": "execute_result"
    }
   ],
   "source": [
    "type(my_dog)"
   ]
  },
  {
   "cell_type": "code",
   "execution_count": 37,
   "id": "a44b6968",
   "metadata": {},
   "outputs": [
    {
     "name": "stdout",
     "output_type": "stream",
     "text": [
      "labra\n",
      "maxi\n",
      "5\n"
     ]
    }
   ],
   "source": [
    "my_dog.showattributes()"
   ]
  },
  {
   "cell_type": "code",
   "execution_count": 38,
   "id": "7914868c",
   "metadata": {},
   "outputs": [
    {
     "name": "stdout",
     "output_type": "stream",
     "text": [
      "labra\n"
     ]
    }
   ],
   "source": [
    "print(my_dog.breed)"
   ]
  },
  {
   "cell_type": "code",
   "execution_count": 39,
   "id": "9067999c",
   "metadata": {},
   "outputs": [],
   "source": [
    "class Car():\n",
    "    def __init__(self, brand):\n",
    "        self.brand = brand\n",
    "        \n",
    "    def showbrand(self):\n",
    "        print(self.brand)"
   ]
  },
  {
   "cell_type": "code",
   "execution_count": 40,
   "id": "e5c22dd5",
   "metadata": {},
   "outputs": [
    {
     "name": "stdout",
     "output_type": "stream",
     "text": [
      "bmw\n"
     ]
    }
   ],
   "source": [
    "somecar = Car(brand = 'bmw') #somecar is the object of the class Car\n",
    "somecar.showbrand() #showcar is the function of that object"
   ]
  },
  {
   "cell_type": "markdown",
   "id": "edb847ba",
   "metadata": {},
   "source": [
    "# OOP - Part Two (Class object attributes and methods)"
   ]
  },
  {
   "cell_type": "code",
   "execution_count": 79,
   "id": "5a12b1fd",
   "metadata": {},
   "outputs": [],
   "source": [
    "#First class\n",
    "#init method is always called first whenever an instance of that object is created\n",
    "class Dog():\n",
    "    \n",
    "    species = 'mammal' #this variable will be same for all the instances, thats why its outside the init function\n",
    "    \n",
    "    def __init__(self, breed, name):\n",
    "        self.breed = breed\n",
    "        self.name = name\n",
    "        \n",
    "    \n",
    "    \n",
    "    \n",
    "    #A method is a function which is inside a class that works with the object\n",
    "    \n",
    "    #Operations/ Actions ---> Methods\n",
    "    def bark(self, age):\n",
    "        print('WOOF! My name is {} and my age is {}'.format(self.name, age)) #Age is not related to the instance, so no need of writing self.age\n",
    "    \n",
    "    \n",
    "    "
   ]
  },
  {
   "cell_type": "code",
   "execution_count": 83,
   "id": "df1956dd",
   "metadata": {},
   "outputs": [],
   "source": [
    "mydog = Dog('lab','Minnuu')\n",
    "mydog1 = Dog('indie', 'motu')"
   ]
  },
  {
   "cell_type": "code",
   "execution_count": 84,
   "id": "7b322ce5",
   "metadata": {},
   "outputs": [
    {
     "data": {
      "text/plain": [
       "'mammal'"
      ]
     },
     "execution_count": 84,
     "metadata": {},
     "output_type": "execute_result"
    }
   ],
   "source": [
    "mydog.species #Species is global, and will be same for all instances"
   ]
  },
  {
   "cell_type": "markdown",
   "id": "8726ea7f",
   "metadata": {},
   "source": [
    "# Methods"
   ]
  },
  {
   "cell_type": "code",
   "execution_count": 86,
   "id": "4a0b591a",
   "metadata": {},
   "outputs": [
    {
     "name": "stdout",
     "output_type": "stream",
     "text": [
      "WOOF! My name is Minnuu and my age is 6\n",
      "WOOF! My name is motu and my age is 2\n"
     ]
    }
   ],
   "source": [
    "mydog.bark(6)\n",
    "mydog1.bark(2)"
   ]
  },
  {
   "cell_type": "code",
   "execution_count": null,
   "id": "6fb01006",
   "metadata": {},
   "outputs": [],
   "source": []
  },
  {
   "cell_type": "code",
   "execution_count": null,
   "id": "4c974277",
   "metadata": {},
   "outputs": [],
   "source": []
  },
  {
   "cell_type": "code",
   "execution_count": 121,
   "id": "f910351e",
   "metadata": {},
   "outputs": [],
   "source": [
    "class Circle():\n",
    "    pi = 3.14 # pi is a class object attribute\n",
    "    \n",
    "    def __init__(self, radius=1):\n",
    "        self.radius = radius\n",
    "        self.area = self.radius ** 2  * self.pi\n",
    "        \n",
    "    def get_circumference(self):\n",
    "        return 2 * self.pi * self.radius"
   ]
  },
  {
   "cell_type": "code",
   "execution_count": 122,
   "id": "9cdd1259",
   "metadata": {},
   "outputs": [],
   "source": [
    "my_circle = Circle(30)"
   ]
  },
  {
   "cell_type": "code",
   "execution_count": 123,
   "id": "be8a2ba9",
   "metadata": {},
   "outputs": [
    {
     "data": {
      "text/plain": [
       "188.4"
      ]
     },
     "execution_count": 123,
     "metadata": {},
     "output_type": "execute_result"
    }
   ],
   "source": [
    "my_circle.get_circumference()"
   ]
  },
  {
   "cell_type": "code",
   "execution_count": 124,
   "id": "04ab0274",
   "metadata": {},
   "outputs": [
    {
     "data": {
      "text/plain": [
       "2826.0"
      ]
     },
     "execution_count": 124,
     "metadata": {},
     "output_type": "execute_result"
    }
   ],
   "source": [
    "my_circle.area"
   ]
  },
  {
   "cell_type": "code",
   "execution_count": null,
   "id": "12434ae2",
   "metadata": {},
   "outputs": [],
   "source": []
  },
  {
   "cell_type": "code",
   "execution_count": null,
   "id": "25aa09a5",
   "metadata": {},
   "outputs": [],
   "source": []
  },
  {
   "cell_type": "markdown",
   "id": "4c40bb90",
   "metadata": {},
   "source": [
    "# Part Three - Inheritance & Polymorphism"
   ]
  },
  {
   "cell_type": "code",
   "execution_count": 140,
   "id": "17343e62",
   "metadata": {},
   "outputs": [],
   "source": [
    "class Animal(): #Base Class\n",
    "    def __init__(self):\n",
    "        print('Animal Created')\n",
    "    \n",
    "    def who_am_i(self):\n",
    "        print('I am an animal')\n",
    "        \n",
    "    def eat(self):\n",
    "        print('I am eating')"
   ]
  },
  {
   "cell_type": "code",
   "execution_count": 149,
   "id": "bc20bc37",
   "metadata": {},
   "outputs": [],
   "source": [
    "# Deriving dog from Animal\n",
    "class Dog(Animal):\n",
    "    def __init__(self):\n",
    "        Animal.__init__(self) #instance of animal class will be created when an instance of dog will be created\n",
    "        print('Dog Created')\n",
    "        "
   ]
  },
  {
   "cell_type": "code",
   "execution_count": 150,
   "id": "87328fb9",
   "metadata": {},
   "outputs": [
    {
     "name": "stdout",
     "output_type": "stream",
     "text": [
      "Animal Created\n",
      "Dog Created\n"
     ]
    }
   ],
   "source": [
    "mydog = Dog()"
   ]
  },
  {
   "cell_type": "code",
   "execution_count": 151,
   "id": "b1e19f3a",
   "metadata": {},
   "outputs": [
    {
     "name": "stdout",
     "output_type": "stream",
     "text": [
      "I am an animal\n"
     ]
    }
   ],
   "source": [
    "mydog.who_am_i()"
   ]
  },
  {
   "cell_type": "code",
   "execution_count": 152,
   "id": "9272a3fc",
   "metadata": {},
   "outputs": [
    {
     "name": "stdout",
     "output_type": "stream",
     "text": [
      "I am eating\n"
     ]
    }
   ],
   "source": [
    "mydog.eat()"
   ]
  },
  {
   "cell_type": "code",
   "execution_count": null,
   "id": "8dec8a4e",
   "metadata": {},
   "outputs": [],
   "source": []
  },
  {
   "cell_type": "code",
   "execution_count": 136,
   "id": "17cb62d2",
   "metadata": {},
   "outputs": [
    {
     "name": "stdout",
     "output_type": "stream",
     "text": [
      "Animal Created\n"
     ]
    }
   ],
   "source": [
    "myanimal = Animal()"
   ]
  },
  {
   "cell_type": "code",
   "execution_count": 137,
   "id": "3da93ea0",
   "metadata": {},
   "outputs": [
    {
     "name": "stdout",
     "output_type": "stream",
     "text": [
      "I am an animal\n"
     ]
    }
   ],
   "source": [
    "myanimal.who_am_i()"
   ]
  },
  {
   "cell_type": "code",
   "execution_count": 138,
   "id": "396d66b6",
   "metadata": {},
   "outputs": [
    {
     "name": "stdout",
     "output_type": "stream",
     "text": [
      "I am eating\n"
     ]
    }
   ],
   "source": [
    "myanimal.eat()"
   ]
  },
  {
   "cell_type": "code",
   "execution_count": null,
   "id": "2e7b03ef",
   "metadata": {},
   "outputs": [],
   "source": []
  }
 ],
 "metadata": {
  "kernelspec": {
   "display_name": "Python 3 (ipykernel)",
   "language": "python",
   "name": "python3"
  },
  "language_info": {
   "codemirror_mode": {
    "name": "ipython",
    "version": 3
   },
   "file_extension": ".py",
   "mimetype": "text/x-python",
   "name": "python",
   "nbconvert_exporter": "python",
   "pygments_lexer": "ipython3",
   "version": "3.11.5"
  }
 },
 "nbformat": 4,
 "nbformat_minor": 5
}
