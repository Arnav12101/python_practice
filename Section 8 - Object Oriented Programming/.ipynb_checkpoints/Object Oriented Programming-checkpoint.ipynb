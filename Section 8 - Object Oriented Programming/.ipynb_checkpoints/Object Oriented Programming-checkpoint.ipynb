{
 "cells": [
  {
   "cell_type": "markdown",
   "id": "17291f57",
   "metadata": {},
   "source": [
    "# OOP"
   ]
  },
  {
   "cell_type": "code",
   "execution_count": 3,
   "id": "0cd3b07f",
   "metadata": {},
   "outputs": [],
   "source": [
    "# oop allows programmer to create their own objects that have methods and attributes\n",
    "#these methods act as functions that use information about the object, as well as the object itself to reutnr results, or change the currenct object\n",
    "#OOP allows user ot create their own objects"
   ]
  },
  {
   "cell_type": "code",
   "execution_count": 5,
   "id": "b6d1a6ed",
   "metadata": {},
   "outputs": [],
   "source": [
    "#Syntax\n",
    "#objects are also called class in python\n",
    "\n",
    "class NameOfClass():\n",
    "    \n",
    "    def _init_(self, pararm1, param2): #method which is invoked when an isntance of the class is created\n",
    "        self.param1 = param1\n",
    "        self.param2 = param2\n",
    "        \n",
    "    def some_method(self):\n",
    "        #perform some action\n",
    "        print(self.param)"
   ]
  },
  {
   "cell_type": "markdown",
   "id": "e2302040",
   "metadata": {},
   "source": [
    "# OOP-Part One (Attributes and Class Keyword)"
   ]
  },
  {
   "cell_type": "code",
   "execution_count": 6,
   "id": "5f9eeb17",
   "metadata": {},
   "outputs": [],
   "source": [
    "mylist = [1,2,3]"
   ]
  },
  {
   "cell_type": "code",
   "execution_count": 7,
   "id": "39a66d10",
   "metadata": {},
   "outputs": [],
   "source": [
    "mylist = set()"
   ]
  },
  {
   "cell_type": "code",
   "execution_count": 9,
   "id": "bdd6fbb2",
   "metadata": {},
   "outputs": [],
   "source": [
    "myset = set()"
   ]
  },
  {
   "cell_type": "code",
   "execution_count": 10,
   "id": "d491442f",
   "metadata": {},
   "outputs": [
    {
     "data": {
      "text/plain": [
       "set"
      ]
     },
     "execution_count": 10,
     "metadata": {},
     "output_type": "execute_result"
    }
   ],
   "source": [
    "type(myset)"
   ]
  },
  {
   "cell_type": "code",
   "execution_count": 30,
   "id": "71abcfc6",
   "metadata": {},
   "outputs": [],
   "source": [
    "#First class\n",
    "#init method is always called first whenever an instance of that object is created\n",
    "class Dog():\n",
    "    def __init__(self, breed, name, spots):\n",
    "        self.breed = breed\n",
    "        self.name = name\n",
    "        self.spots = spots\n",
    "        \n",
    "    def showattributes(self):\n",
    "        print(self.breed)\n",
    "        print(self.name)\n",
    "        print(self.spots)"
   ]
  },
  {
   "cell_type": "code",
   "execution_count": 31,
   "id": "054f6620",
   "metadata": {},
   "outputs": [],
   "source": [
    "my_dog = Dog(breed = 'labra', name = 'maxi', spots = '5')"
   ]
  },
  {
   "cell_type": "code",
   "execution_count": 32,
   "id": "098b5162",
   "metadata": {},
   "outputs": [
    {
     "data": {
      "text/plain": [
       "__main__.Dog"
      ]
     },
     "execution_count": 32,
     "metadata": {},
     "output_type": "execute_result"
    }
   ],
   "source": [
    "type(my_dog)"
   ]
  },
  {
   "cell_type": "code",
   "execution_count": 37,
   "id": "22d4d472",
   "metadata": {},
   "outputs": [
    {
     "name": "stdout",
     "output_type": "stream",
     "text": [
      "labra\n",
      "maxi\n",
      "5\n"
     ]
    }
   ],
   "source": [
    "my_dog.showattributes()"
   ]
  },
  {
   "cell_type": "code",
   "execution_count": 38,
   "id": "eaeb2189",
   "metadata": {},
   "outputs": [
    {
     "name": "stdout",
     "output_type": "stream",
     "text": [
      "labra\n"
     ]
    }
   ],
   "source": [
    "print(my_dog.breed)"
   ]
  },
  {
   "cell_type": "code",
   "execution_count": 39,
   "id": "c997ccad",
   "metadata": {},
   "outputs": [],
   "source": [
    "class Car():\n",
    "    def __init__(self, brand):\n",
    "        self.brand = brand\n",
    "        \n",
    "    def showbrand(self):\n",
    "        print(self.brand)"
   ]
  },
  {
   "cell_type": "code",
   "execution_count": 40,
   "id": "70cfe5e4",
   "metadata": {},
   "outputs": [
    {
     "name": "stdout",
     "output_type": "stream",
     "text": [
      "bmw\n"
     ]
    }
   ],
   "source": [
    "somecar = Car(brand = 'bmw') #somecar is the object of the class Car\n",
    "somecar.showbrand() #showcar is the function of that object"
   ]
  },
  {
   "cell_type": "markdown",
   "id": "b32df447",
   "metadata": {},
   "source": [
    "# OOP - Part Two (Class object attributes and methods)"
   ]
  },
  {
   "cell_type": "code",
   "execution_count": 79,
   "id": "03e85e4c",
   "metadata": {},
   "outputs": [],
   "source": [
    "#First class\n",
    "#init method is always called first whenever an instance of that object is created\n",
    "class Dog():\n",
    "    \n",
    "    species = 'mammal' #this variable will be same for all the instances, thats why its outside the init function\n",
    "    \n",
    "    def __init__(self, breed, name):\n",
    "        self.breed = breed\n",
    "        self.name = name\n",
    "        \n",
    "    \n",
    "    \n",
    "    \n",
    "    #A method is a function which is inside a class that works with the object\n",
    "    \n",
    "    #Operations/ Actions ---> Methods\n",
    "    def bark(self, age):\n",
    "        print('WOOF! My name is {} and my age is {}'.format(self.name, age)) #Age is not related to the instance, so no need of writing self.age\n",
    "    \n",
    "    \n",
    "    "
   ]
  },
  {
   "cell_type": "code",
   "execution_count": 83,
   "id": "e5b49aca",
   "metadata": {},
   "outputs": [],
   "source": [
    "mydog = Dog('lab','Minnuu')\n",
    "mydog1 = Dog('indie', 'motu')"
   ]
  },
  {
   "cell_type": "code",
   "execution_count": 84,
   "id": "1882faa7",
   "metadata": {},
   "outputs": [
    {
     "data": {
      "text/plain": [
       "'mammal'"
      ]
     },
     "execution_count": 84,
     "metadata": {},
     "output_type": "execute_result"
    }
   ],
   "source": [
    "mydog.species #Species is global, and will be same for all instances"
   ]
  },
  {
   "cell_type": "markdown",
   "id": "70f6f03b",
   "metadata": {},
   "source": [
    "# Methods"
   ]
  },
  {
   "cell_type": "code",
   "execution_count": 86,
   "id": "22aa2559",
   "metadata": {},
   "outputs": [
    {
     "name": "stdout",
     "output_type": "stream",
     "text": [
      "WOOF! My name is Minnuu and my age is 6\n",
      "WOOF! My name is motu and my age is 2\n"
     ]
    }
   ],
   "source": [
    "mydog.bark(6)\n",
    "mydog1.bark(2)"
   ]
  },
  {
   "cell_type": "code",
   "execution_count": null,
   "id": "6f80b9dc",
   "metadata": {},
   "outputs": [],
   "source": []
  },
  {
   "cell_type": "code",
   "execution_count": null,
   "id": "726fee25",
   "metadata": {},
   "outputs": [],
   "source": []
  },
  {
   "cell_type": "code",
   "execution_count": 113,
   "id": "b4ac66e1",
   "metadata": {},
   "outputs": [],
   "source": [
    "class Circle():\n",
    "    pi = 3.14 # pi is a class object attribute\n",
    "    \n",
    "    def __init__(self, radius=1):\n",
    "        self.radius = radius\n",
    "        self.area = self.radius * self.radius * self.pi\n",
    "        \n",
    "    def get_circumference(self):\n",
    "        return 2 * self.pi * self.radius"
   ]
  },
  {
   "cell_type": "code",
   "execution_count": 114,
   "id": "e88ae3b3",
   "metadata": {},
   "outputs": [],
   "source": [
    "my_circle = Circle(30)"
   ]
  },
  {
   "cell_type": "code",
   "execution_count": 115,
   "id": "bb873081",
   "metadata": {},
   "outputs": [
    {
     "data": {
      "text/plain": [
       "188.4"
      ]
     },
     "execution_count": 115,
     "metadata": {},
     "output_type": "execute_result"
    }
   ],
   "source": [
    "my_circle.get_circumference()"
   ]
  },
  {
   "cell_type": "code",
   "execution_count": 116,
   "id": "53c1f562",
   "metadata": {},
   "outputs": [
    {
     "data": {
      "text/plain": [
       "2826.0"
      ]
     },
     "execution_count": 116,
     "metadata": {},
     "output_type": "execute_result"
    }
   ],
   "source": [
    "my_circle.area"
   ]
  },
  {
   "cell_type": "code",
   "execution_count": null,
   "id": "c08d869c",
   "metadata": {},
   "outputs": [],
   "source": []
  }
 ],
 "metadata": {
  "kernelspec": {
   "display_name": "Python 3 (ipykernel)",
   "language": "python",
   "name": "python3"
  },
  "language_info": {
   "codemirror_mode": {
    "name": "ipython",
    "version": 3
   },
   "file_extension": ".py",
   "mimetype": "text/x-python",
   "name": "python",
   "nbconvert_exporter": "python",
   "pygments_lexer": "ipython3",
   "version": "3.11.5"
  }
 },
 "nbformat": 4,
 "nbformat_minor": 5
}
