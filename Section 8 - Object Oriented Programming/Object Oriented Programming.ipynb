{
 "cells": [
  {
   "cell_type": "markdown",
   "id": "798f67fd",
   "metadata": {},
   "source": [
    "# OOP"
   ]
  },
  {
   "cell_type": "code",
   "execution_count": 3,
   "id": "432d5f25",
   "metadata": {},
   "outputs": [],
   "source": [
    "# oop allows programmer to create their own objects that have methods and attributes\n",
    "#these methods act as functions that use information about the object, as well as the object itself to reutnr results, or change the currenct object\n",
    "#OOP allows user ot create their own objects"
   ]
  },
  {
   "cell_type": "code",
   "execution_count": 5,
   "id": "793e4517",
   "metadata": {},
   "outputs": [],
   "source": [
    "#Syntax\n",
    "#objects are also called class in python\n",
    "\n",
    "class NameOfClass():\n",
    "    \n",
    "    def _init_(self, pararm1, param2): #method which is invoked when an isntance of the class is created\n",
    "        self.param1 = param1\n",
    "        self.param2 = param2\n",
    "        \n",
    "    def some_method(self):\n",
    "        #perform some action\n",
    "        print(self.param)"
   ]
  },
  {
   "cell_type": "markdown",
   "id": "256688ce",
   "metadata": {},
   "source": [
    "# OOP-Part One (Attributes and Class Keyword)"
   ]
  },
  {
   "cell_type": "code",
   "execution_count": null,
   "id": "bd2e1a8e",
   "metadata": {},
   "outputs": [],
   "source": []
  }
 ],
 "metadata": {
  "kernelspec": {
   "display_name": "Python 3 (ipykernel)",
   "language": "python",
   "name": "python3"
  },
  "language_info": {
   "codemirror_mode": {
    "name": "ipython",
    "version": 3
   },
   "file_extension": ".py",
   "mimetype": "text/x-python",
   "name": "python",
   "nbconvert_exporter": "python",
   "pygments_lexer": "ipython3",
   "version": "3.11.5"
  }
 },
 "nbformat": 4,
 "nbformat_minor": 5
}
