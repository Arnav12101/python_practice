{
 "cells": [
  {
   "cell_type": "markdown",
   "id": "eae62d0d",
   "metadata": {},
   "source": [
    "# OOP"
   ]
  },
  {
   "cell_type": "code",
   "execution_count": 3,
   "id": "e559dd56",
   "metadata": {},
   "outputs": [],
   "source": [
    "# oop allows programmer to create their own objects that have methods and attributes\n",
    "#these methods act as functions that use information about the object, as well as the object itself to reutnr results, or change the currenct object\n",
    "#OOP allows user ot create their own objects"
   ]
  },
  {
   "cell_type": "code",
   "execution_count": 5,
   "id": "48d7f15e",
   "metadata": {},
   "outputs": [],
   "source": [
    "#Syntax\n",
    "#objects are also called class in python\n",
    "\n",
    "class NameOfClass():\n",
    "    \n",
    "    def _init_(self, pararm1, param2): #method which is invoked when an isntance of the class is created\n",
    "        self.param1 = param1\n",
    "        self.param2 = param2\n",
    "        \n",
    "    def some_method(self):\n",
    "        #perform some action\n",
    "        print(self.param)"
   ]
  },
  {
   "cell_type": "markdown",
   "id": "171cec83",
   "metadata": {},
   "source": [
    "# OOP-Part One (Attributes and Class Keyword)"
   ]
  },
  {
   "cell_type": "code",
   "execution_count": 6,
   "id": "8eb45730",
   "metadata": {},
   "outputs": [],
   "source": [
    "mylist = [1,2,3]"
   ]
  },
  {
   "cell_type": "code",
   "execution_count": 7,
   "id": "15ad1a33",
   "metadata": {},
   "outputs": [],
   "source": [
    "mylist = set()"
   ]
  },
  {
   "cell_type": "code",
   "execution_count": 9,
   "id": "16ecf1cb",
   "metadata": {},
   "outputs": [],
   "source": [
    "myset = set()"
   ]
  },
  {
   "cell_type": "code",
   "execution_count": 10,
   "id": "25c5e7d4",
   "metadata": {},
   "outputs": [
    {
     "data": {
      "text/plain": [
       "set"
      ]
     },
     "execution_count": 10,
     "metadata": {},
     "output_type": "execute_result"
    }
   ],
   "source": [
    "type(myset)"
   ]
  },
  {
   "cell_type": "code",
   "execution_count": 30,
   "id": "afb41504",
   "metadata": {},
   "outputs": [],
   "source": [
    "#First class\n",
    "#init method is always called first whenever an instance of that object is created\n",
    "class Dog():\n",
    "    def __init__(self, breed, name, spots):\n",
    "        self.breed = breed\n",
    "        self.name = name\n",
    "        self.spots = spots\n",
    "        \n",
    "    def showattributes(self):\n",
    "        print(self.breed)\n",
    "        print(self.name)\n",
    "        print(self.spots)"
   ]
  },
  {
   "cell_type": "code",
   "execution_count": 31,
   "id": "6ea31fac",
   "metadata": {},
   "outputs": [],
   "source": [
    "my_dog = Dog(breed = 'labra', name = 'maxi', spots = '5')"
   ]
  },
  {
   "cell_type": "code",
   "execution_count": 32,
   "id": "acf0735b",
   "metadata": {},
   "outputs": [
    {
     "data": {
      "text/plain": [
       "__main__.Dog"
      ]
     },
     "execution_count": 32,
     "metadata": {},
     "output_type": "execute_result"
    }
   ],
   "source": [
    "type(my_dog)"
   ]
  },
  {
   "cell_type": "code",
   "execution_count": 37,
   "id": "0b322018",
   "metadata": {},
   "outputs": [
    {
     "name": "stdout",
     "output_type": "stream",
     "text": [
      "labra\n",
      "maxi\n",
      "5\n"
     ]
    }
   ],
   "source": [
    "my_dog.showattributes()"
   ]
  },
  {
   "cell_type": "code",
   "execution_count": 38,
   "id": "8e48f776",
   "metadata": {},
   "outputs": [
    {
     "name": "stdout",
     "output_type": "stream",
     "text": [
      "labra\n"
     ]
    }
   ],
   "source": [
    "print(my_dog.breed)"
   ]
  },
  {
   "cell_type": "code",
   "execution_count": 39,
   "id": "dfa0a34f",
   "metadata": {},
   "outputs": [],
   "source": [
    "class Car():\n",
    "    def __init__(self, brand):\n",
    "        self.brand = brand\n",
    "        \n",
    "    def showbrand(self):\n",
    "        print(self.brand)"
   ]
  },
  {
   "cell_type": "code",
   "execution_count": 40,
   "id": "06a396f0",
   "metadata": {},
   "outputs": [
    {
     "name": "stdout",
     "output_type": "stream",
     "text": [
      "bmw\n"
     ]
    }
   ],
   "source": [
    "somecar = Car(brand = 'bmw') #somecar is the object of the class Car\n",
    "somecar.showbrand() #showcar is the function of that object"
   ]
  },
  {
   "cell_type": "markdown",
   "id": "9eac599f",
   "metadata": {},
   "source": [
    "# OOP - Part Two (Class object attributes and methods)"
   ]
  },
  {
   "cell_type": "code",
   "execution_count": 79,
   "id": "c1cc11dd",
   "metadata": {},
   "outputs": [],
   "source": [
    "#First class\n",
    "#init method is always called first whenever an instance of that object is created\n",
    "class Dog():\n",
    "    \n",
    "    species = 'mammal' #this variable will be same for all the instances, thats why its outside the init function\n",
    "    \n",
    "    def __init__(self, breed, name):\n",
    "        self.breed = breed\n",
    "        self.name = name\n",
    "        \n",
    "    \n",
    "    \n",
    "    \n",
    "    #A method is a function which is inside a class that works with the object\n",
    "    \n",
    "    #Operations/ Actions ---> Methods\n",
    "    def bark(self, age):\n",
    "        print('WOOF! My name is {} and my age is {}'.format(self.name, age)) #Age is not related to the instance, so no need of writing self.age\n",
    "    \n",
    "    \n",
    "    "
   ]
  },
  {
   "cell_type": "code",
   "execution_count": 83,
   "id": "add922b7",
   "metadata": {},
   "outputs": [],
   "source": [
    "mydog = Dog('lab','Minnuu')\n",
    "mydog1 = Dog('indie', 'motu')"
   ]
  },
  {
   "cell_type": "code",
   "execution_count": 84,
   "id": "faaaf0f6",
   "metadata": {},
   "outputs": [
    {
     "data": {
      "text/plain": [
       "'mammal'"
      ]
     },
     "execution_count": 84,
     "metadata": {},
     "output_type": "execute_result"
    }
   ],
   "source": [
    "mydog.species #Species is global, and will be same for all instances"
   ]
  },
  {
   "cell_type": "markdown",
   "id": "e865a04e",
   "metadata": {},
   "source": [
    "# Methods"
   ]
  },
  {
   "cell_type": "code",
   "execution_count": 86,
   "id": "a6c2ff48",
   "metadata": {},
   "outputs": [
    {
     "name": "stdout",
     "output_type": "stream",
     "text": [
      "WOOF! My name is Minnuu and my age is 6\n",
      "WOOF! My name is motu and my age is 2\n"
     ]
    }
   ],
   "source": [
    "mydog.bark(6)\n",
    "mydog1.bark(2)"
   ]
  },
  {
   "cell_type": "code",
   "execution_count": null,
   "id": "4e81303d",
   "metadata": {},
   "outputs": [],
   "source": []
  },
  {
   "cell_type": "code",
   "execution_count": null,
   "id": "58fc5b1e",
   "metadata": {},
   "outputs": [],
   "source": []
  },
  {
   "cell_type": "code",
   "execution_count": 121,
   "id": "3ec3a85f",
   "metadata": {},
   "outputs": [],
   "source": [
    "class Circle():\n",
    "    pi = 3.14 # pi is a class object attribute\n",
    "    \n",
    "    def __init__(self, radius=1):\n",
    "        self.radius = radius\n",
    "        self.area = self.radius ** 2  * self.pi\n",
    "        \n",
    "    def get_circumference(self):\n",
    "        return 2 * self.pi * self.radius"
   ]
  },
  {
   "cell_type": "code",
   "execution_count": 122,
   "id": "c0409637",
   "metadata": {},
   "outputs": [],
   "source": [
    "my_circle = Circle(30)"
   ]
  },
  {
   "cell_type": "code",
   "execution_count": 123,
   "id": "66550542",
   "metadata": {},
   "outputs": [
    {
     "data": {
      "text/plain": [
       "188.4"
      ]
     },
     "execution_count": 123,
     "metadata": {},
     "output_type": "execute_result"
    }
   ],
   "source": [
    "my_circle.get_circumference()"
   ]
  },
  {
   "cell_type": "code",
   "execution_count": 124,
   "id": "c63ff906",
   "metadata": {},
   "outputs": [
    {
     "data": {
      "text/plain": [
       "2826.0"
      ]
     },
     "execution_count": 124,
     "metadata": {},
     "output_type": "execute_result"
    }
   ],
   "source": [
    "my_circle.area"
   ]
  },
  {
   "cell_type": "code",
   "execution_count": null,
   "id": "5922a852",
   "metadata": {},
   "outputs": [],
   "source": []
  },
  {
   "cell_type": "code",
   "execution_count": null,
   "id": "cb8c412e",
   "metadata": {},
   "outputs": [],
   "source": []
  },
  {
   "cell_type": "markdown",
   "id": "b7cde947",
   "metadata": {},
   "source": [
    "# Part Three - Inheritance & Polymorphism"
   ]
  },
  {
   "cell_type": "code",
   "execution_count": 140,
   "id": "83d482d2",
   "metadata": {},
   "outputs": [],
   "source": [
    "class Animal(): #Base Class\n",
    "    def __init__(self):\n",
    "        print('Animal Created')\n",
    "    \n",
    "    def who_am_i(self):\n",
    "        print('I am an animal')\n",
    "        \n",
    "    def eat(self):\n",
    "        print('I am eating')"
   ]
  },
  {
   "cell_type": "code",
   "execution_count": 162,
   "id": "10c5a6a5",
   "metadata": {},
   "outputs": [],
   "source": [
    "# Deriving dog from Animal\n",
    "class Dog(Animal):\n",
    "    def __init__(self):\n",
    "        Animal.__init__(self) #instance of animal class will be created when an instance of dog will be created\n",
    "        print('Dog Created')\n",
    "    \n",
    "    def eat(self):\n",
    "        print('i eat dog food')\n",
    "    def bark(self):\n",
    "        print('woof')"
   ]
  },
  {
   "cell_type": "code",
   "execution_count": 163,
   "id": "d87a5332",
   "metadata": {},
   "outputs": [
    {
     "name": "stdout",
     "output_type": "stream",
     "text": [
      "Animal Created\n",
      "Dog Created\n"
     ]
    }
   ],
   "source": [
    "mydog = Dog()"
   ]
  },
  {
   "cell_type": "code",
   "execution_count": 164,
   "id": "4d8fe9be",
   "metadata": {},
   "outputs": [
    {
     "name": "stdout",
     "output_type": "stream",
     "text": [
      "I am an animal\n"
     ]
    }
   ],
   "source": [
    "mydog.who_am_i()"
   ]
  },
  {
   "cell_type": "code",
   "execution_count": 165,
   "id": "6cb1c7e3",
   "metadata": {},
   "outputs": [
    {
     "name": "stdout",
     "output_type": "stream",
     "text": [
      "i eat dog food\n"
     ]
    }
   ],
   "source": [
    "mydog.eat()"
   ]
  },
  {
   "cell_type": "code",
   "execution_count": 166,
   "id": "1bb1717b",
   "metadata": {},
   "outputs": [
    {
     "name": "stdout",
     "output_type": "stream",
     "text": [
      "woof\n"
     ]
    }
   ],
   "source": [
    "mydog.bark()"
   ]
  },
  {
   "cell_type": "markdown",
   "id": "3b940a17",
   "metadata": {},
   "source": [
    "# Polymorphism"
   ]
  },
  {
   "cell_type": "markdown",
   "id": "1bb4c57f",
   "metadata": {},
   "source": [
    "# Polymorphism -> ploymorphism refers to the way in which different objects classes can share the same method name, and then those same methods can be called from the same place even tho a variety of different objects may be passed in."
   ]
  },
  {
   "cell_type": "code",
   "execution_count": 168,
   "id": "ba0fe6b0",
   "metadata": {},
   "outputs": [],
   "source": [
    "class Dog():\n",
    "    def __init__(self, name):\n",
    "        self.name = name\n",
    "    def speak(self):\n",
    "        return self.name + ' woof!'\n",
    "    \n",
    "class cat():\n",
    "    def __init__(self, name):\n",
    "        self.name = name\n",
    "    def speak(self):\n",
    "        return self.name + ' Meow ! :3'\n",
    "    \n"
   ]
  },
  {
   "cell_type": "code",
   "execution_count": 169,
   "id": "ce122f5c",
   "metadata": {},
   "outputs": [],
   "source": [
    "niko = Dog('Niko')\n",
    "felix = cat('felix')"
   ]
  },
  {
   "cell_type": "code",
   "execution_count": 170,
   "id": "297decc6",
   "metadata": {},
   "outputs": [
    {
     "name": "stdout",
     "output_type": "stream",
     "text": [
      "Niko woof!\n"
     ]
    }
   ],
   "source": [
    "print(niko.speak())"
   ]
  },
  {
   "cell_type": "code",
   "execution_count": 171,
   "id": "03120da7",
   "metadata": {},
   "outputs": [
    {
     "name": "stdout",
     "output_type": "stream",
     "text": [
      "felix Meow ! :3\n"
     ]
    }
   ],
   "source": [
    "print(felix.speak())"
   ]
  },
  {
   "cell_type": "code",
   "execution_count": 172,
   "id": "beb7ec70",
   "metadata": {},
   "outputs": [
    {
     "name": "stdout",
     "output_type": "stream",
     "text": [
      "<class '__main__.Dog'>\n",
      "<class 'method'>\n",
      "<class '__main__.cat'>\n",
      "<class 'method'>\n"
     ]
    }
   ],
   "source": [
    "for pet in [niko, felix]:\n",
    "    print(type(pet))\n",
    "    print(type(pet.speak))"
   ]
  },
  {
   "cell_type": "code",
   "execution_count": 173,
   "id": "771c3ba4",
   "metadata": {},
   "outputs": [],
   "source": [
    "def pet_speak(pet):\n",
    "    print(pet.speak())"
   ]
  },
  {
   "cell_type": "code",
   "execution_count": 174,
   "id": "af06010b",
   "metadata": {},
   "outputs": [
    {
     "name": "stdout",
     "output_type": "stream",
     "text": [
      "felix Meow ! :3\n"
     ]
    }
   ],
   "source": [
    "pet_speak(felix)"
   ]
  },
  {
   "cell_type": "code",
   "execution_count": 175,
   "id": "a79efe35",
   "metadata": {},
   "outputs": [
    {
     "name": "stdout",
     "output_type": "stream",
     "text": [
      "Niko woof!\n"
     ]
    }
   ],
   "source": [
    "pet_speak(niko)"
   ]
  },
  {
   "cell_type": "code",
   "execution_count": 176,
   "id": "4e7b1996",
   "metadata": {},
   "outputs": [],
   "source": [
    "#Absctract class - the class which never expects to be instantiated"
   ]
  },
  {
   "cell_type": "code",
   "execution_count": 178,
   "id": "b739ca2d",
   "metadata": {},
   "outputs": [],
   "source": [
    "class Animal():\n",
    "    def __init__(self, name):\n",
    "        self.name = name\n",
    "        \n",
    "    def speak(self):\n",
    "        raise NotImplementedError('subclass must implement this abstract method')"
   ]
  },
  {
   "cell_type": "code",
   "execution_count": 197,
   "id": "613d02d6",
   "metadata": {},
   "outputs": [],
   "source": [
    "class Dog(Animal):\n",
    "    def speak(self):\n",
    "        return self.name + \" woof\""
   ]
  },
  {
   "cell_type": "code",
   "execution_count": 198,
   "id": "90ca8971",
   "metadata": {},
   "outputs": [],
   "source": [
    "class cat(Animal):\n",
    "    def speak(self):\n",
    "        return self.name + \" meaow\""
   ]
  },
  {
   "cell_type": "code",
   "execution_count": 199,
   "id": "ad320a1d",
   "metadata": {},
   "outputs": [],
   "source": [
    "fido = Dog('fido')"
   ]
  },
  {
   "cell_type": "code",
   "execution_count": 200,
   "id": "193137df",
   "metadata": {},
   "outputs": [],
   "source": [
    "isi = cat('isi')"
   ]
  },
  {
   "cell_type": "code",
   "execution_count": 201,
   "id": "6b233067",
   "metadata": {},
   "outputs": [
    {
     "name": "stdout",
     "output_type": "stream",
     "text": [
      "fido woof\n"
     ]
    }
   ],
   "source": [
    "print(fido.speak())"
   ]
  },
  {
   "cell_type": "code",
   "execution_count": 202,
   "id": "a9c21b61",
   "metadata": {},
   "outputs": [
    {
     "name": "stdout",
     "output_type": "stream",
     "text": [
      "isi meaow\n"
     ]
    }
   ],
   "source": [
    "print(isi.speak())"
   ]
  },
  {
   "cell_type": "markdown",
   "id": "6a7b06d9",
   "metadata": {},
   "source": [
    "# Special Methods"
   ]
  },
  {
   "cell_type": "code",
   "execution_count": 203,
   "id": "231af836",
   "metadata": {},
   "outputs": [
    {
     "data": {
      "text/plain": [
       "3"
      ]
     },
     "execution_count": 203,
     "metadata": {},
     "output_type": "execute_result"
    }
   ],
   "source": [
    "mylist = [1,2,3]\n",
    "len(mylist)"
   ]
  },
  {
   "cell_type": "code",
   "execution_count": 205,
   "id": "3a76fe35",
   "metadata": {},
   "outputs": [],
   "source": [
    "class Sample():\n",
    "    pass"
   ]
  },
  {
   "cell_type": "code",
   "execution_count": 206,
   "id": "182e2f74",
   "metadata": {},
   "outputs": [],
   "source": [
    "mysample = Sample()"
   ]
  },
  {
   "cell_type": "code",
   "execution_count": 208,
   "id": "11b0ba2c",
   "metadata": {},
   "outputs": [
    {
     "name": "stdout",
     "output_type": "stream",
     "text": [
      "<__main__.Sample object at 0x107fc0b10>\n"
     ]
    }
   ],
   "source": [
    "print(mysample)"
   ]
  },
  {
   "cell_type": "code",
   "execution_count": 209,
   "id": "39715ac6",
   "metadata": {},
   "outputs": [],
   "source": [
    "#Magic methods or dunder methods"
   ]
  },
  {
   "cell_type": "code",
   "execution_count": 247,
   "id": "d33b6680",
   "metadata": {},
   "outputs": [],
   "source": [
    "class Book():\n",
    "    def __init__(self, title, author, pages):\n",
    "        self.title = title\n",
    "        self.author = author\n",
    "        self.pages = pages\n",
    "    \n",
    "    \n",
    "    def __str__(self):\n",
    "        return f'{self.title} by {self.author}'\n",
    "    \n",
    "    def __len__(self):\n",
    "        return self.pages\n",
    "    \n",
    "    def __del__(self):\n",
    "        print(\"An object has been deleted\")"
   ]
  },
  {
   "cell_type": "code",
   "execution_count": 248,
   "id": "40ca276d",
   "metadata": {},
   "outputs": [],
   "source": [
    "b = Book('python', 'arnav', 200)"
   ]
  },
  {
   "cell_type": "code",
   "execution_count": 249,
   "id": "3fd84045",
   "metadata": {},
   "outputs": [
    {
     "name": "stdout",
     "output_type": "stream",
     "text": [
      "python by arnav\n"
     ]
    }
   ],
   "source": [
    "print(b)"
   ]
  },
  {
   "cell_type": "code",
   "execution_count": 250,
   "id": "954f2653",
   "metadata": {},
   "outputs": [
    {
     "data": {
      "text/plain": [
       "'python by arnav'"
      ]
     },
     "execution_count": 250,
     "metadata": {},
     "output_type": "execute_result"
    }
   ],
   "source": [
    "str(b)"
   ]
  },
  {
   "cell_type": "code",
   "execution_count": 251,
   "id": "2c1037ab",
   "metadata": {},
   "outputs": [
    {
     "data": {
      "text/plain": [
       "200"
      ]
     },
     "execution_count": 251,
     "metadata": {},
     "output_type": "execute_result"
    }
   ],
   "source": [
    "len(b)"
   ]
  },
  {
   "cell_type": "code",
   "execution_count": 252,
   "id": "5d20f7d2",
   "metadata": {},
   "outputs": [
    {
     "name": "stdout",
     "output_type": "stream",
     "text": [
      "An object has been deleted\n"
     ]
    }
   ],
   "source": [
    "del b # way to delete variables in the system"
   ]
  },
  {
   "cell_type": "code",
   "execution_count": null,
   "id": "377ef04c",
   "metadata": {},
   "outputs": [],
   "source": []
  },
  {
   "cell_type": "code",
   "execution_count": null,
   "id": "88fca445",
   "metadata": {},
   "outputs": [],
   "source": []
  },
  {
   "cell_type": "code",
   "execution_count": null,
   "id": "2327627e",
   "metadata": {},
   "outputs": [],
   "source": []
  },
  {
   "cell_type": "code",
   "execution_count": null,
   "id": "59b86a58",
   "metadata": {},
   "outputs": [],
   "source": []
  },
  {
   "cell_type": "code",
   "execution_count": 264,
   "id": "df771b4d",
   "metadata": {},
   "outputs": [],
   "source": [
    "class some_abstract_class():\n",
    "    def __init__(self, name):\n",
    "        self.name = name\n",
    "        \n",
    "    def print_something(self):\n",
    "        raise NotImplementedError('subclass must implement this abstract method')"
   ]
  },
  {
   "cell_type": "code",
   "execution_count": 287,
   "id": "d0c60c08",
   "metadata": {},
   "outputs": [],
   "source": [
    "class child(some_abstract_class):\n",
    "    def __init__(self,name):\n",
    "        self.name = name\n",
    "    \n",
    "    def print_something(self, name):\n",
    "        return f'This is an overriden method from abstract class and the name is {self.name}'"
   ]
  },
  {
   "cell_type": "code",
   "execution_count": 288,
   "id": "2f3fd3fb",
   "metadata": {},
   "outputs": [],
   "source": [
    "chidobj = child('arnav')"
   ]
  },
  {
   "cell_type": "code",
   "execution_count": 289,
   "id": "b8ef2394",
   "metadata": {
    "scrolled": true
   },
   "outputs": [
    {
     "data": {
      "text/plain": [
       "'This is an overriden method from abstract class and the name is arnav'"
      ]
     },
     "execution_count": 289,
     "metadata": {},
     "output_type": "execute_result"
    }
   ],
   "source": [
    "chidobj.print_something('arnav')"
   ]
  },
  {
   "cell_type": "markdown",
   "id": "5e271a2c",
   "metadata": {},
   "source": [
    "# OOPS - by telusko"
   ]
  },
  {
   "cell_type": "code",
   "execution_count": 298,
   "id": "81cf2058",
   "metadata": {},
   "outputs": [],
   "source": [
    "class computer():\n",
    "    def __init__(self, name):\n",
    "        self.name = name\n",
    "    \n",
    "    def config(self):\n",
    "        print('i5', '16gb', '1TB', self.name)"
   ]
  },
  {
   "cell_type": "code",
   "execution_count": 299,
   "id": "ee8ffc57",
   "metadata": {},
   "outputs": [],
   "source": [
    "obj1 = computer('first')\n",
    "obj2 = computer('second')"
   ]
  },
  {
   "cell_type": "code",
   "execution_count": 300,
   "id": "918d4475",
   "metadata": {},
   "outputs": [
    {
     "name": "stdout",
     "output_type": "stream",
     "text": [
      "i5 16gb 1TB first\n"
     ]
    }
   ],
   "source": [
    "computer.config(obj1)"
   ]
  },
  {
   "cell_type": "code",
   "execution_count": 301,
   "id": "7cf7e3b6",
   "metadata": {},
   "outputs": [
    {
     "name": "stdout",
     "output_type": "stream",
     "text": [
      "i5 16gb 1TB second\n"
     ]
    }
   ],
   "source": [
    "computer.config(obj2)"
   ]
  },
  {
   "cell_type": "code",
   "execution_count": 302,
   "id": "89b27b38",
   "metadata": {},
   "outputs": [],
   "source": [
    "#everytime, you create an object, it takes up some space in the heap memory"
   ]
  },
  {
   "cell_type": "code",
   "execution_count": 303,
   "id": "75c09b0f",
   "metadata": {},
   "outputs": [],
   "source": [
    "# who allocates size to the objects - constructor"
   ]
  },
  {
   "cell_type": "code",
   "execution_count": 305,
   "id": "0aeb1ed9",
   "metadata": {},
   "outputs": [],
   "source": [
    "# you can use get and set methods in python which works the same way as getters and setters"
   ]
  },
  {
   "cell_type": "code",
   "execution_count": 306,
   "id": "13f61412",
   "metadata": {},
   "outputs": [],
   "source": [
    "#Inner classes"
   ]
  },
  {
   "cell_type": "code",
   "execution_count": 328,
   "id": "ff1fe91b",
   "metadata": {},
   "outputs": [],
   "source": [
    "class student:#Outer Class\n",
    "    def __init__(self, name, rollno):\n",
    "        self.name = name\n",
    "        self.rollno = rollno\n",
    "#         self.obj_lap = self.laptop() #1st way of creating an object of the inner class\n",
    "        \n",
    "    def show(self):\n",
    "        print(self.name, self.rollno)\n",
    "        \n",
    "    \n",
    "    class laptop(): #Inner class\n",
    "        def __init__(self):\n",
    "            self.model = 'apple'\n",
    "            self.ram = 12\n",
    "            \n",
    "        def show(self):\n",
    "            print(self.model)\n",
    "            print(self.ram)"
   ]
  },
  {
   "cell_type": "code",
   "execution_count": 329,
   "id": "8dbdc146",
   "metadata": {},
   "outputs": [],
   "source": [
    "s1 = student('arnav', 12)"
   ]
  },
  {
   "cell_type": "code",
   "execution_count": 330,
   "id": "ddbcd744",
   "metadata": {},
   "outputs": [],
   "source": [
    "lap = student.laptop() #2nd way of creating an object of inner class"
   ]
  },
  {
   "cell_type": "code",
   "execution_count": 331,
   "id": "c538f981",
   "metadata": {},
   "outputs": [
    {
     "data": {
      "text/plain": [
       "'apple'"
      ]
     },
     "execution_count": 331,
     "metadata": {},
     "output_type": "execute_result"
    }
   ],
   "source": [
    "lap.model"
   ]
  },
  {
   "cell_type": "code",
   "execution_count": 332,
   "id": "55f763aa",
   "metadata": {},
   "outputs": [
    {
     "name": "stdout",
     "output_type": "stream",
     "text": [
      "apple\n",
      "12\n"
     ]
    }
   ],
   "source": [
    "lap.show()"
   ]
  },
  {
   "cell_type": "code",
   "execution_count": 333,
   "id": "700703ea",
   "metadata": {},
   "outputs": [],
   "source": [
    "# Inheritance"
   ]
  },
  {
   "cell_type": "code",
   "execution_count": 396,
   "id": "376e3709",
   "metadata": {},
   "outputs": [],
   "source": [
    "class A():\n",
    "    def feature1(self):\n",
    "        print(f'feature 1 is working')\n",
    "        \n",
    "    def feature2(self):\n",
    "        print('Feature 2 is working')\n",
    "\n",
    "        \n",
    "# a1 = A()\n",
    "# a1.feature1()\n",
    "# a1.feature2()"
   ]
  },
  {
   "cell_type": "code",
   "execution_count": 397,
   "id": "b632719a",
   "metadata": {},
   "outputs": [],
   "source": [
    "class B(A): #child class\n",
    "    def feature3(self):\n",
    "        print('Feature 3 is working')\n",
    "    def feature4(self):\n",
    "        print('Feature 4 is working')"
   ]
  },
  {
   "cell_type": "code",
   "execution_count": 401,
   "id": "73aec214",
   "metadata": {
    "scrolled": true
   },
   "outputs": [
    {
     "ename": "TypeError",
     "evalue": "Cannot create a consistent method resolution\norder (MRO) for bases A, B",
     "output_type": "error",
     "traceback": [
      "\u001b[0;31m---------------------------------------------------------------------------\u001b[0m",
      "\u001b[0;31mTypeError\u001b[0m                                 Traceback (most recent call last)",
      "Cell \u001b[0;32mIn[401], line 1\u001b[0m\n\u001b[0;32m----> 1\u001b[0m \u001b[38;5;28;01mclass\u001b[39;00m \u001b[38;5;21;01mc\u001b[39;00m(A,B):\n\u001b[1;32m      2\u001b[0m     \u001b[38;5;28;01mdef\u001b[39;00m \u001b[38;5;21m__init__\u001b[39m(\u001b[38;5;28mself\u001b[39m):\n\u001b[1;32m      3\u001b[0m         \u001b[38;5;28msuper\u001b[39m()\u001b[38;5;241m.\u001b[39m\u001b[38;5;21m__init__\u001b[39m()\n",
      "\u001b[0;31mTypeError\u001b[0m: Cannot create a consistent method resolution\norder (MRO) for bases A, B"
     ]
    }
   ],
   "source": [
    "class c(A,B):\n",
    "    def __init__(self):\n",
    "        super().__init__()\n",
    "        print('In C init')\n",
    "        \n",
    "obj = c()"
   ]
  },
  {
   "cell_type": "code",
   "execution_count": 375,
   "id": "3a76d44d",
   "metadata": {},
   "outputs": [],
   "source": [
    "# Class a -> Class b -> Class c (This is called multi level inheritance)\n",
    "#class A -> Class B (single inheritance)\n",
    "# c inheriting from A and B (This is called as multiple inheritence)"
   ]
  },
  {
   "cell_type": "code",
   "execution_count": 379,
   "id": "6f824f20",
   "metadata": {},
   "outputs": [
    {
     "name": "stdout",
     "output_type": "stream",
     "text": [
      "Platypus sound: Mumble mumble\n",
      "Live birth\n",
      "Laying eggs\n"
     ]
    }
   ],
   "source": [
    "# Parent class 1\n",
    "class Animal:\n",
    "    def __init__(self, name):\n",
    "        self.name = name\n",
    "\n",
    "    def speak(self):\n",
    "        pass  # Abstract method, to be overridden by subclasses\n",
    "\n",
    "\n",
    "# Parent class 2\n",
    "class Mammal:\n",
    "    def give_birth(self):\n",
    "        print(\"Live birth\")\n",
    "\n",
    "\n",
    "# Parent class 3\n",
    "class Bird:\n",
    "    def lay_eggs(self):\n",
    "        print(\"Laying eggs\")\n",
    "\n",
    "\n",
    "# Child class inheriting from multiple parents\n",
    "class Platypus(Animal, Mammal, Bird):\n",
    "    def __init__(self, name):\n",
    "        super().__init__(name)\n",
    "\n",
    "    def speak(self):\n",
    "        print(\"Platypus sound: Mumble mumble\")\n",
    "\n",
    "\n",
    "# Create an instance of Platypus\n",
    "perry = Platypus(\"Perry\")\n",
    "\n",
    "# Demonstrate inherited methods\n",
    "perry.speak()  # Inherited from Animal\n",
    "perry.give_birth()  # Inherited from Mammal\n",
    "perry.lay_eggs()  # Inherited from Bird\n"
   ]
  },
  {
   "cell_type": "code",
   "execution_count": 388,
   "id": "e0607e6e",
   "metadata": {},
   "outputs": [],
   "source": [
    "class brand:\n",
    "    def __init__(self, name):\n",
    "        self.name = name\n",
    "        \n",
    "class bmw:\n",
    "    def showinfo1(self):\n",
    "        print(f'bmw Brand Name:- {self.name}')\n",
    "        \n",
    "class lambo:\n",
    "    def showinfo2(self):\n",
    "        print(f'lambo Brand Name: - {self.name}')\n",
    "        \n",
    "        \n",
    "class child(brand, bmw, lambo):\n",
    "    def __init__(self, name):\n",
    "        super().__init__(name)\n",
    "            \n",
    "    def showinfo3(self):\n",
    "        print(f'name- {self.name}')"
   ]
  },
  {
   "cell_type": "code",
   "execution_count": 391,
   "id": "bd3c350b",
   "metadata": {},
   "outputs": [
    {
     "name": "stdout",
     "output_type": "stream",
     "text": [
      "name- somename\n"
     ]
    }
   ],
   "source": [
    "childobj = child('somename')\n",
    "childobj.showinfo3()"
   ]
  },
  {
   "cell_type": "code",
   "execution_count": null,
   "id": "95eecc0b",
   "metadata": {},
   "outputs": [],
   "source": []
  },
  {
   "cell_type": "code",
   "execution_count": null,
   "id": "49b00813",
   "metadata": {},
   "outputs": [],
   "source": []
  }
 ],
 "metadata": {
  "kernelspec": {
   "display_name": "Python 3 (ipykernel)",
   "language": "python",
   "name": "python3"
  },
  "language_info": {
   "codemirror_mode": {
    "name": "ipython",
    "version": 3
   },
   "file_extension": ".py",
   "mimetype": "text/x-python",
   "name": "python",
   "nbconvert_exporter": "python",
   "pygments_lexer": "ipython3",
   "version": "3.11.5"
  }
 },
 "nbformat": 4,
 "nbformat_minor": 5
}
