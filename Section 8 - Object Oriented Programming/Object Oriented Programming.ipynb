{
 "cells": [
  {
   "cell_type": "markdown",
   "id": "57d938be",
   "metadata": {},
   "source": [
    "# OOP"
   ]
  },
  {
   "cell_type": "code",
   "execution_count": 3,
   "id": "1edff3c6",
   "metadata": {},
   "outputs": [],
   "source": [
    "# oop allows programmer to create their own objects that have methods and attributes\n",
    "#these methods act as functions that use information about the object, as well as the object itself to reutnr results, or change the currenct object\n",
    "#OOP allows user ot create their own objects"
   ]
  },
  {
   "cell_type": "code",
   "execution_count": 5,
   "id": "e42fbc74",
   "metadata": {},
   "outputs": [],
   "source": [
    "#Syntax\n",
    "#objects are also called class in python\n",
    "\n",
    "class NameOfClass():\n",
    "    \n",
    "    def _init_(self, pararm1, param2): #method which is invoked when an isntance of the class is created\n",
    "        self.param1 = param1\n",
    "        self.param2 = param2\n",
    "        \n",
    "    def some_method(self):\n",
    "        #perform some action\n",
    "        print(self.param)"
   ]
  },
  {
   "cell_type": "markdown",
   "id": "81ec3cb4",
   "metadata": {},
   "source": [
    "# OOP-Part One (Attributes and Class Keyword)"
   ]
  },
  {
   "cell_type": "code",
   "execution_count": 6,
   "id": "f282f50a",
   "metadata": {},
   "outputs": [],
   "source": [
    "mylist = [1,2,3]"
   ]
  },
  {
   "cell_type": "code",
   "execution_count": 7,
   "id": "69ee6e47",
   "metadata": {},
   "outputs": [],
   "source": [
    "mylist = set()"
   ]
  },
  {
   "cell_type": "code",
   "execution_count": 9,
   "id": "3078c0dc",
   "metadata": {},
   "outputs": [],
   "source": [
    "myset = set()"
   ]
  },
  {
   "cell_type": "code",
   "execution_count": 10,
   "id": "b3115e3a",
   "metadata": {},
   "outputs": [
    {
     "data": {
      "text/plain": [
       "set"
      ]
     },
     "execution_count": 10,
     "metadata": {},
     "output_type": "execute_result"
    }
   ],
   "source": [
    "type(myset)"
   ]
  },
  {
   "cell_type": "code",
   "execution_count": 30,
   "id": "eece4772",
   "metadata": {},
   "outputs": [],
   "source": [
    "#First class\n",
    "#init method is always called first whenever an instance of that object is created\n",
    "class Dog():\n",
    "    def __init__(self, breed, name, spots):\n",
    "        self.breed = breed\n",
    "        self.name = name\n",
    "        self.spots = spots\n",
    "        \n",
    "    def showattributes(self):\n",
    "        print(self.breed)\n",
    "        print(self.name)\n",
    "        print(self.spots)"
   ]
  },
  {
   "cell_type": "code",
   "execution_count": 31,
   "id": "704940cf",
   "metadata": {},
   "outputs": [],
   "source": [
    "my_dog = Dog(breed = 'labra', name = 'maxi', spots = '5')"
   ]
  },
  {
   "cell_type": "code",
   "execution_count": 32,
   "id": "644e53cc",
   "metadata": {},
   "outputs": [
    {
     "data": {
      "text/plain": [
       "__main__.Dog"
      ]
     },
     "execution_count": 32,
     "metadata": {},
     "output_type": "execute_result"
    }
   ],
   "source": [
    "type(my_dog)"
   ]
  },
  {
   "cell_type": "code",
   "execution_count": 37,
   "id": "f158d5ba",
   "metadata": {},
   "outputs": [
    {
     "name": "stdout",
     "output_type": "stream",
     "text": [
      "labra\n",
      "maxi\n",
      "5\n"
     ]
    }
   ],
   "source": [
    "my_dog.showattributes()"
   ]
  },
  {
   "cell_type": "code",
   "execution_count": 38,
   "id": "444b344b",
   "metadata": {},
   "outputs": [
    {
     "name": "stdout",
     "output_type": "stream",
     "text": [
      "labra\n"
     ]
    }
   ],
   "source": [
    "print(my_dog.breed)"
   ]
  },
  {
   "cell_type": "code",
   "execution_count": 39,
   "id": "0e379753",
   "metadata": {},
   "outputs": [],
   "source": [
    "class Car():\n",
    "    def __init__(self, brand):\n",
    "        self.brand = brand\n",
    "        \n",
    "    def showbrand(self):\n",
    "        print(self.brand)"
   ]
  },
  {
   "cell_type": "code",
   "execution_count": 40,
   "id": "f0292bc1",
   "metadata": {},
   "outputs": [
    {
     "name": "stdout",
     "output_type": "stream",
     "text": [
      "bmw\n"
     ]
    }
   ],
   "source": [
    "somecar = Car(brand = 'bmw') #somecar is the object of the class Car\n",
    "somecar.showbrand() #showcar is the function of that object"
   ]
  },
  {
   "cell_type": "markdown",
   "id": "edd31abe",
   "metadata": {},
   "source": [
    "# OOP - Part Two (Class object attributes and methods)"
   ]
  },
  {
   "cell_type": "code",
   "execution_count": 79,
   "id": "c6ed0fc1",
   "metadata": {},
   "outputs": [],
   "source": [
    "#First class\n",
    "#init method is always called first whenever an instance of that object is created\n",
    "class Dog():\n",
    "    \n",
    "    species = 'mammal' #this variable will be same for all the instances, thats why its outside the init function\n",
    "    \n",
    "    def __init__(self, breed, name):\n",
    "        self.breed = breed\n",
    "        self.name = name\n",
    "        \n",
    "    \n",
    "    \n",
    "    \n",
    "    #A method is a function which is inside a class that works with the object\n",
    "    \n",
    "    #Operations/ Actions ---> Methods\n",
    "    def bark(self, age):\n",
    "        print('WOOF! My name is {} and my age is {}'.format(self.name, age)) #Age is not related to the instance, so no need of writing self.age\n",
    "    \n",
    "    \n",
    "    "
   ]
  },
  {
   "cell_type": "code",
   "execution_count": 83,
   "id": "90a0d932",
   "metadata": {},
   "outputs": [],
   "source": [
    "mydog = Dog('lab','Minnuu')\n",
    "mydog1 = Dog('indie', 'motu')"
   ]
  },
  {
   "cell_type": "code",
   "execution_count": 84,
   "id": "851e981f",
   "metadata": {},
   "outputs": [
    {
     "data": {
      "text/plain": [
       "'mammal'"
      ]
     },
     "execution_count": 84,
     "metadata": {},
     "output_type": "execute_result"
    }
   ],
   "source": [
    "mydog.species #Species is global, and will be same for all instances"
   ]
  },
  {
   "cell_type": "markdown",
   "id": "90de1d58",
   "metadata": {},
   "source": [
    "# Methods"
   ]
  },
  {
   "cell_type": "code",
   "execution_count": 86,
   "id": "ad4aec4d",
   "metadata": {},
   "outputs": [
    {
     "name": "stdout",
     "output_type": "stream",
     "text": [
      "WOOF! My name is Minnuu and my age is 6\n",
      "WOOF! My name is motu and my age is 2\n"
     ]
    }
   ],
   "source": [
    "mydog.bark(6)\n",
    "mydog1.bark(2)"
   ]
  },
  {
   "cell_type": "code",
   "execution_count": null,
   "id": "443c9d5f",
   "metadata": {},
   "outputs": [],
   "source": []
  },
  {
   "cell_type": "code",
   "execution_count": null,
   "id": "45b206ae",
   "metadata": {},
   "outputs": [],
   "source": []
  },
  {
   "cell_type": "code",
   "execution_count": 121,
   "id": "4bcafbbd",
   "metadata": {},
   "outputs": [],
   "source": [
    "class Circle():\n",
    "    pi = 3.14 # pi is a class object attribute\n",
    "    \n",
    "    def __init__(self, radius=1):\n",
    "        self.radius = radius\n",
    "        self.area = self.radius ** 2  * self.pi\n",
    "        \n",
    "    def get_circumference(self):\n",
    "        return 2 * self.pi * self.radius"
   ]
  },
  {
   "cell_type": "code",
   "execution_count": 122,
   "id": "72b2e808",
   "metadata": {},
   "outputs": [],
   "source": [
    "my_circle = Circle(30)"
   ]
  },
  {
   "cell_type": "code",
   "execution_count": 123,
   "id": "fbf02099",
   "metadata": {},
   "outputs": [
    {
     "data": {
      "text/plain": [
       "188.4"
      ]
     },
     "execution_count": 123,
     "metadata": {},
     "output_type": "execute_result"
    }
   ],
   "source": [
    "my_circle.get_circumference()"
   ]
  },
  {
   "cell_type": "code",
   "execution_count": 124,
   "id": "b5e4b138",
   "metadata": {},
   "outputs": [
    {
     "data": {
      "text/plain": [
       "2826.0"
      ]
     },
     "execution_count": 124,
     "metadata": {},
     "output_type": "execute_result"
    }
   ],
   "source": [
    "my_circle.area"
   ]
  },
  {
   "cell_type": "code",
   "execution_count": null,
   "id": "c424102c",
   "metadata": {},
   "outputs": [],
   "source": []
  },
  {
   "cell_type": "code",
   "execution_count": null,
   "id": "20d67dca",
   "metadata": {},
   "outputs": [],
   "source": []
  },
  {
   "cell_type": "markdown",
   "id": "4a4eb8ff",
   "metadata": {},
   "source": [
    "# Part Three - Inheritance & Polymorphism"
   ]
  },
  {
   "cell_type": "code",
   "execution_count": 140,
   "id": "a0691329",
   "metadata": {},
   "outputs": [],
   "source": [
    "class Animal(): #Base Class\n",
    "    def __init__(self):\n",
    "        print('Animal Created')\n",
    "    \n",
    "    def who_am_i(self):\n",
    "        print('I am an animal')\n",
    "        \n",
    "    def eat(self):\n",
    "        print('I am eating')"
   ]
  },
  {
   "cell_type": "code",
   "execution_count": 162,
   "id": "8de193d6",
   "metadata": {},
   "outputs": [],
   "source": [
    "# Deriving dog from Animal\n",
    "class Dog(Animal):\n",
    "    def __init__(self):\n",
    "        Animal.__init__(self) #instance of animal class will be created when an instance of dog will be created\n",
    "        print('Dog Created')\n",
    "    \n",
    "    def eat(self):\n",
    "        print('i eat dog food')\n",
    "    def bark(self):\n",
    "        print('woof')"
   ]
  },
  {
   "cell_type": "code",
   "execution_count": 163,
   "id": "da9c2fbb",
   "metadata": {},
   "outputs": [
    {
     "name": "stdout",
     "output_type": "stream",
     "text": [
      "Animal Created\n",
      "Dog Created\n"
     ]
    }
   ],
   "source": [
    "mydog = Dog()"
   ]
  },
  {
   "cell_type": "code",
   "execution_count": 164,
   "id": "7fb6a784",
   "metadata": {},
   "outputs": [
    {
     "name": "stdout",
     "output_type": "stream",
     "text": [
      "I am an animal\n"
     ]
    }
   ],
   "source": [
    "mydog.who_am_i()"
   ]
  },
  {
   "cell_type": "code",
   "execution_count": 165,
   "id": "f1d82f73",
   "metadata": {},
   "outputs": [
    {
     "name": "stdout",
     "output_type": "stream",
     "text": [
      "i eat dog food\n"
     ]
    }
   ],
   "source": [
    "mydog.eat()"
   ]
  },
  {
   "cell_type": "code",
   "execution_count": 166,
   "id": "0fbd0c73",
   "metadata": {},
   "outputs": [
    {
     "name": "stdout",
     "output_type": "stream",
     "text": [
      "woof\n"
     ]
    }
   ],
   "source": [
    "mydog.bark()"
   ]
  },
  {
   "cell_type": "markdown",
   "id": "00ce568e",
   "metadata": {},
   "source": [
    "# Polymorphism"
   ]
  },
  {
   "cell_type": "markdown",
   "id": "4f12bcef",
   "metadata": {},
   "source": [
    "# Polymorphism -> ploymorphism refers to the way in which different objects classes can share the same method name, and then those same methods can be called from the same place even tho a variety of different objects may be passed in."
   ]
  },
  {
   "cell_type": "code",
   "execution_count": 168,
   "id": "e7064592",
   "metadata": {},
   "outputs": [],
   "source": [
    "class Dog():\n",
    "    def __init__(self, name):\n",
    "        self.name = name\n",
    "    def speak(self):\n",
    "        return self.name + ' woof!'\n",
    "    \n",
    "class cat():\n",
    "    def __init__(self, name):\n",
    "        self.name = name\n",
    "    def speak(self):\n",
    "        return self.name + ' Meow ! :3'\n",
    "    \n"
   ]
  },
  {
   "cell_type": "code",
   "execution_count": 169,
   "id": "7c10ad8e",
   "metadata": {},
   "outputs": [],
   "source": [
    "niko = Dog('Niko')\n",
    "felix = cat('felix')"
   ]
  },
  {
   "cell_type": "code",
   "execution_count": 170,
   "id": "b2da40c1",
   "metadata": {},
   "outputs": [
    {
     "name": "stdout",
     "output_type": "stream",
     "text": [
      "Niko woof!\n"
     ]
    }
   ],
   "source": [
    "print(niko.speak())"
   ]
  },
  {
   "cell_type": "code",
   "execution_count": 171,
   "id": "eafb8901",
   "metadata": {},
   "outputs": [
    {
     "name": "stdout",
     "output_type": "stream",
     "text": [
      "felix Meow ! :3\n"
     ]
    }
   ],
   "source": [
    "print(felix.speak())"
   ]
  },
  {
   "cell_type": "code",
   "execution_count": 172,
   "id": "3930ffcc",
   "metadata": {},
   "outputs": [
    {
     "name": "stdout",
     "output_type": "stream",
     "text": [
      "<class '__main__.Dog'>\n",
      "<class 'method'>\n",
      "<class '__main__.cat'>\n",
      "<class 'method'>\n"
     ]
    }
   ],
   "source": [
    "for pet in [niko, felix]:\n",
    "    print(type(pet))\n",
    "    print(type(pet.speak))"
   ]
  },
  {
   "cell_type": "code",
   "execution_count": 173,
   "id": "ff3cf0af",
   "metadata": {},
   "outputs": [],
   "source": [
    "def pet_speak(pet):\n",
    "    print(pet.speak())"
   ]
  },
  {
   "cell_type": "code",
   "execution_count": 174,
   "id": "f7fa24b7",
   "metadata": {},
   "outputs": [
    {
     "name": "stdout",
     "output_type": "stream",
     "text": [
      "felix Meow ! :3\n"
     ]
    }
   ],
   "source": [
    "pet_speak(felix)"
   ]
  },
  {
   "cell_type": "code",
   "execution_count": 175,
   "id": "563ec197",
   "metadata": {},
   "outputs": [
    {
     "name": "stdout",
     "output_type": "stream",
     "text": [
      "Niko woof!\n"
     ]
    }
   ],
   "source": [
    "pet_speak(niko)"
   ]
  },
  {
   "cell_type": "code",
   "execution_count": 176,
   "id": "9a0ce878",
   "metadata": {},
   "outputs": [],
   "source": [
    "#Absctract class - the class which never expects to be instantiated"
   ]
  },
  {
   "cell_type": "code",
   "execution_count": 178,
   "id": "4134aa91",
   "metadata": {},
   "outputs": [],
   "source": [
    "class Animal():\n",
    "    def __init__(self, name):\n",
    "        self.name = name\n",
    "        \n",
    "    def speak(self):\n",
    "        raise NotImplementedError('subclass must implement this abstract method')"
   ]
  },
  {
   "cell_type": "code",
   "execution_count": 197,
   "id": "bd92b686",
   "metadata": {},
   "outputs": [],
   "source": [
    "class Dog(Animal):\n",
    "    def speak(self):\n",
    "        return self.name + \" woof\""
   ]
  },
  {
   "cell_type": "code",
   "execution_count": 198,
   "id": "c15d29f5",
   "metadata": {},
   "outputs": [],
   "source": [
    "class cat(Animal):\n",
    "    def speak(self):\n",
    "        return self.name + \" meaow\""
   ]
  },
  {
   "cell_type": "code",
   "execution_count": 199,
   "id": "f8067e14",
   "metadata": {},
   "outputs": [],
   "source": [
    "fido = Dog('fido')"
   ]
  },
  {
   "cell_type": "code",
   "execution_count": 200,
   "id": "5f45cae0",
   "metadata": {},
   "outputs": [],
   "source": [
    "isi = cat('isi')"
   ]
  },
  {
   "cell_type": "code",
   "execution_count": 201,
   "id": "e36de45b",
   "metadata": {},
   "outputs": [
    {
     "name": "stdout",
     "output_type": "stream",
     "text": [
      "fido woof\n"
     ]
    }
   ],
   "source": [
    "print(fido.speak())"
   ]
  },
  {
   "cell_type": "code",
   "execution_count": 202,
   "id": "bb53dc62",
   "metadata": {},
   "outputs": [
    {
     "name": "stdout",
     "output_type": "stream",
     "text": [
      "isi meaow\n"
     ]
    }
   ],
   "source": [
    "print(isi.speak())"
   ]
  },
  {
   "cell_type": "markdown",
   "id": "15b03b64",
   "metadata": {},
   "source": [
    "# Special Methods"
   ]
  },
  {
   "cell_type": "code",
   "execution_count": 203,
   "id": "c9f037ca",
   "metadata": {},
   "outputs": [
    {
     "data": {
      "text/plain": [
       "3"
      ]
     },
     "execution_count": 203,
     "metadata": {},
     "output_type": "execute_result"
    }
   ],
   "source": [
    "mylist = [1,2,3]\n",
    "len(mylist)"
   ]
  },
  {
   "cell_type": "code",
   "execution_count": 205,
   "id": "972bbf62",
   "metadata": {},
   "outputs": [],
   "source": [
    "class Sample():\n",
    "    pass"
   ]
  },
  {
   "cell_type": "code",
   "execution_count": 206,
   "id": "130deb77",
   "metadata": {},
   "outputs": [],
   "source": [
    "mysample = Sample()"
   ]
  },
  {
   "cell_type": "code",
   "execution_count": 208,
   "id": "b6c825ac",
   "metadata": {},
   "outputs": [
    {
     "name": "stdout",
     "output_type": "stream",
     "text": [
      "<__main__.Sample object at 0x107fc0b10>\n"
     ]
    }
   ],
   "source": [
    "print(mysample)"
   ]
  },
  {
   "cell_type": "code",
   "execution_count": 209,
   "id": "7d259734",
   "metadata": {},
   "outputs": [],
   "source": [
    "#Magic methods or dunder methods"
   ]
  },
  {
   "cell_type": "code",
   "execution_count": 247,
   "id": "c5467055",
   "metadata": {},
   "outputs": [],
   "source": [
    "class Book():\n",
    "    def __init__(self, title, author, pages):\n",
    "        self.title = title\n",
    "        self.author = author\n",
    "        self.pages = pages\n",
    "    \n",
    "    \n",
    "    def __str__(self):\n",
    "        return f'{self.title} by {self.author}'\n",
    "    \n",
    "    def __len__(self):\n",
    "        return self.pages\n",
    "    \n",
    "    def __del__(self):\n",
    "        print(\"An object has been deleted\")"
   ]
  },
  {
   "cell_type": "code",
   "execution_count": 248,
   "id": "c8fb6059",
   "metadata": {},
   "outputs": [],
   "source": [
    "b = Book('python', 'arnav', 200)"
   ]
  },
  {
   "cell_type": "code",
   "execution_count": 249,
   "id": "033a3a03",
   "metadata": {},
   "outputs": [
    {
     "name": "stdout",
     "output_type": "stream",
     "text": [
      "python by arnav\n"
     ]
    }
   ],
   "source": [
    "print(b)"
   ]
  },
  {
   "cell_type": "code",
   "execution_count": 250,
   "id": "16c0cc18",
   "metadata": {},
   "outputs": [
    {
     "data": {
      "text/plain": [
       "'python by arnav'"
      ]
     },
     "execution_count": 250,
     "metadata": {},
     "output_type": "execute_result"
    }
   ],
   "source": [
    "str(b)"
   ]
  },
  {
   "cell_type": "code",
   "execution_count": 251,
   "id": "ad0e5fcd",
   "metadata": {},
   "outputs": [
    {
     "data": {
      "text/plain": [
       "200"
      ]
     },
     "execution_count": 251,
     "metadata": {},
     "output_type": "execute_result"
    }
   ],
   "source": [
    "len(b)"
   ]
  },
  {
   "cell_type": "code",
   "execution_count": 252,
   "id": "e64fe6f3",
   "metadata": {},
   "outputs": [
    {
     "name": "stdout",
     "output_type": "stream",
     "text": [
      "An object has been deleted\n"
     ]
    }
   ],
   "source": [
    "del b # way to delete variables in the system"
   ]
  },
  {
   "cell_type": "code",
   "execution_count": null,
   "id": "fd3bb136",
   "metadata": {},
   "outputs": [],
   "source": []
  },
  {
   "cell_type": "code",
   "execution_count": null,
   "id": "ec66772a",
   "metadata": {},
   "outputs": [],
   "source": []
  },
  {
   "cell_type": "code",
   "execution_count": null,
   "id": "fdaad5b6",
   "metadata": {},
   "outputs": [],
   "source": []
  },
  {
   "cell_type": "code",
   "execution_count": null,
   "id": "014eb749",
   "metadata": {},
   "outputs": [],
   "source": []
  },
  {
   "cell_type": "code",
   "execution_count": 264,
   "id": "fcf3d8aa",
   "metadata": {},
   "outputs": [],
   "source": [
    "class some_abstract_class():\n",
    "    def __init__(self, name):\n",
    "        self.name = name\n",
    "        \n",
    "    def print_something(self):\n",
    "        raise NotImplementedError('subclass must implement this abstract method')"
   ]
  },
  {
   "cell_type": "code",
   "execution_count": 287,
   "id": "3740186a",
   "metadata": {},
   "outputs": [],
   "source": [
    "class child(some_abstract_class):\n",
    "    def __init__(self,name):\n",
    "        self.name = name\n",
    "    \n",
    "    def print_something(self, name):\n",
    "        return f'This is an overriden method from abstract class and the name is {self.name}'"
   ]
  },
  {
   "cell_type": "code",
   "execution_count": 288,
   "id": "dbab9e10",
   "metadata": {},
   "outputs": [],
   "source": [
    "chidobj = child('arnav')"
   ]
  },
  {
   "cell_type": "code",
   "execution_count": 289,
   "id": "ef2416d5",
   "metadata": {
    "scrolled": true
   },
   "outputs": [
    {
     "data": {
      "text/plain": [
       "'This is an overriden method from abstract class and the name is arnav'"
      ]
     },
     "execution_count": 289,
     "metadata": {},
     "output_type": "execute_result"
    }
   ],
   "source": [
    "chidobj.print_something('arnav')"
   ]
  },
  {
   "cell_type": "markdown",
   "id": "26730295",
   "metadata": {},
   "source": [
    "# OOPS - by telusko"
   ]
  },
  {
   "cell_type": "code",
   "execution_count": 298,
   "id": "859cec7f",
   "metadata": {},
   "outputs": [],
   "source": [
    "class computer():\n",
    "    def __init__(self, name):\n",
    "        self.name = name\n",
    "    \n",
    "    def config(self):\n",
    "        print('i5', '16gb', '1TB', self.name)"
   ]
  },
  {
   "cell_type": "code",
   "execution_count": 299,
   "id": "f6c46c39",
   "metadata": {},
   "outputs": [],
   "source": [
    "obj1 = computer('first')\n",
    "obj2 = computer('second')"
   ]
  },
  {
   "cell_type": "code",
   "execution_count": 300,
   "id": "cc03c6e1",
   "metadata": {},
   "outputs": [
    {
     "name": "stdout",
     "output_type": "stream",
     "text": [
      "i5 16gb 1TB first\n"
     ]
    }
   ],
   "source": [
    "computer.config(obj1)"
   ]
  },
  {
   "cell_type": "code",
   "execution_count": 301,
   "id": "860e6ee6",
   "metadata": {},
   "outputs": [
    {
     "name": "stdout",
     "output_type": "stream",
     "text": [
      "i5 16gb 1TB second\n"
     ]
    }
   ],
   "source": [
    "computer.config(obj2)"
   ]
  },
  {
   "cell_type": "code",
   "execution_count": 302,
   "id": "15f35e24",
   "metadata": {},
   "outputs": [],
   "source": [
    "#everytime, you create an object, it takes up some space in the heap memory"
   ]
  },
  {
   "cell_type": "code",
   "execution_count": 303,
   "id": "b2aa62ec",
   "metadata": {},
   "outputs": [],
   "source": [
    "# who allocates size to the objects - constructor"
   ]
  },
  {
   "cell_type": "code",
   "execution_count": 305,
   "id": "bccfaed7",
   "metadata": {},
   "outputs": [],
   "source": [
    "# you can use get and set methods in python which works the same way as getters and setters"
   ]
  },
  {
   "cell_type": "code",
   "execution_count": 306,
   "id": "94b54363",
   "metadata": {},
   "outputs": [],
   "source": [
    "#Inner classes"
   ]
  },
  {
   "cell_type": "code",
   "execution_count": 328,
   "id": "ac7a17f0",
   "metadata": {},
   "outputs": [],
   "source": [
    "class student:#Outer Class\n",
    "    def __init__(self, name, rollno):\n",
    "        self.name = name\n",
    "        self.rollno = rollno\n",
    "#         self.obj_lap = self.laptop() #1st way of creating an object of the inner class\n",
    "        \n",
    "    def show(self):\n",
    "        print(self.name, self.rollno)\n",
    "        \n",
    "    \n",
    "    class laptop(): #Inner class\n",
    "        def __init__(self):\n",
    "            self.model = 'apple'\n",
    "            self.ram = 12\n",
    "            \n",
    "        def show(self):\n",
    "            print(self.model)\n",
    "            print(self.ram)"
   ]
  },
  {
   "cell_type": "code",
   "execution_count": 329,
   "id": "f66189f6",
   "metadata": {},
   "outputs": [],
   "source": [
    "s1 = student('arnav', 12)"
   ]
  },
  {
   "cell_type": "code",
   "execution_count": 330,
   "id": "f0794785",
   "metadata": {},
   "outputs": [],
   "source": [
    "lap = student.laptop() #2nd way of creating an object of inner class"
   ]
  },
  {
   "cell_type": "code",
   "execution_count": 331,
   "id": "0ef6a923",
   "metadata": {},
   "outputs": [
    {
     "data": {
      "text/plain": [
       "'apple'"
      ]
     },
     "execution_count": 331,
     "metadata": {},
     "output_type": "execute_result"
    }
   ],
   "source": [
    "lap.model"
   ]
  },
  {
   "cell_type": "code",
   "execution_count": 332,
   "id": "8b3e1b2a",
   "metadata": {},
   "outputs": [
    {
     "name": "stdout",
     "output_type": "stream",
     "text": [
      "apple\n",
      "12\n"
     ]
    }
   ],
   "source": [
    "lap.show()"
   ]
  },
  {
   "cell_type": "code",
   "execution_count": 333,
   "id": "8421726d",
   "metadata": {},
   "outputs": [],
   "source": [
    "# Inheritance"
   ]
  },
  {
   "cell_type": "code",
   "execution_count": 396,
   "id": "ed605d91",
   "metadata": {},
   "outputs": [],
   "source": [
    "class A():\n",
    "    def feature1(self):\n",
    "        print(f'feature 1 is working')\n",
    "        \n",
    "    def feature2(self):\n",
    "        print('Feature 2 is working')\n",
    "\n",
    "        \n",
    "# a1 = A()\n",
    "# a1.feature1()\n",
    "# a1.feature2()"
   ]
  },
  {
   "cell_type": "code",
   "execution_count": 397,
   "id": "59073d95",
   "metadata": {},
   "outputs": [],
   "source": [
    "class B(A): #child class\n",
    "    def feature3(self):\n",
    "        print('Feature 3 is working')\n",
    "    def feature4(self):\n",
    "        print('Feature 4 is working')"
   ]
  },
  {
   "cell_type": "code",
   "execution_count": 401,
   "id": "5cbfc143",
   "metadata": {
    "scrolled": true
   },
   "outputs": [
    {
     "ename": "TypeError",
     "evalue": "Cannot create a consistent method resolution\norder (MRO) for bases A, B",
     "output_type": "error",
     "traceback": [
      "\u001b[0;31m---------------------------------------------------------------------------\u001b[0m",
      "\u001b[0;31mTypeError\u001b[0m                                 Traceback (most recent call last)",
      "Cell \u001b[0;32mIn[401], line 1\u001b[0m\n\u001b[0;32m----> 1\u001b[0m \u001b[38;5;28;01mclass\u001b[39;00m \u001b[38;5;21;01mc\u001b[39;00m(A,B):\n\u001b[1;32m      2\u001b[0m     \u001b[38;5;28;01mdef\u001b[39;00m \u001b[38;5;21m__init__\u001b[39m(\u001b[38;5;28mself\u001b[39m):\n\u001b[1;32m      3\u001b[0m         \u001b[38;5;28msuper\u001b[39m()\u001b[38;5;241m.\u001b[39m\u001b[38;5;21m__init__\u001b[39m()\n",
      "\u001b[0;31mTypeError\u001b[0m: Cannot create a consistent method resolution\norder (MRO) for bases A, B"
     ]
    }
   ],
   "source": [
    "class c(A,B):\n",
    "    def __init__(self):\n",
    "        super().__init__()\n",
    "        print('In C init')\n",
    "        \n",
    "obj = c()"
   ]
  },
  {
   "cell_type": "code",
   "execution_count": 375,
   "id": "2d78e64a",
   "metadata": {},
   "outputs": [],
   "source": [
    "# Class a -> Class b -> Class c (This is called multi level inheritance)\n",
    "#class A -> Class B (single inheritance)\n",
    "# c inheriting from A and B (This is called as multiple inheritence)"
   ]
  },
  {
   "cell_type": "code",
   "execution_count": 379,
   "id": "7c57f444",
   "metadata": {},
   "outputs": [
    {
     "name": "stdout",
     "output_type": "stream",
     "text": [
      "Platypus sound: Mumble mumble\n",
      "Live birth\n",
      "Laying eggs\n"
     ]
    }
   ],
   "source": [
    "# Parent class 1\n",
    "class Animal:\n",
    "    def __init__(self, name):\n",
    "        self.name = name\n",
    "\n",
    "    def speak(self):\n",
    "        pass  # Abstract method, to be overridden by subclasses\n",
    "\n",
    "\n",
    "# Parent class 2\n",
    "class Mammal:\n",
    "    def give_birth(self):\n",
    "        print(\"Live birth\")\n",
    "\n",
    "\n",
    "# Parent class 3\n",
    "class Bird:\n",
    "    def lay_eggs(self):\n",
    "        print(\"Laying eggs\")\n",
    "\n",
    "\n",
    "# Child class inheriting from multiple parents\n",
    "class Platypus(Animal, Mammal, Bird):\n",
    "    def __init__(self, name):\n",
    "        super().__init__(name)\n",
    "\n",
    "    def speak(self):\n",
    "        print(\"Platypus sound: Mumble mumble\")\n",
    "\n",
    "\n",
    "# Create an instance of Platypus\n",
    "perry = Platypus(\"Perry\")\n",
    "\n",
    "# Demonstrate inherited methods\n",
    "perry.speak()  # Inherited from Animal\n",
    "perry.give_birth()  # Inherited from Mammal\n",
    "perry.lay_eggs()  # Inherited from Bird\n"
   ]
  },
  {
   "cell_type": "code",
   "execution_count": 388,
   "id": "e4fa2f5c",
   "metadata": {},
   "outputs": [],
   "source": [
    "class brand:\n",
    "    def __init__(self, name):\n",
    "        self.name = name\n",
    "        \n",
    "class bmw:\n",
    "    def showinfo1(self):\n",
    "        print(f'bmw Brand Name:- {self.name}')\n",
    "        \n",
    "class lambo:\n",
    "    def showinfo2(self):\n",
    "        print(f'lambo Brand Name: - {self.name}')\n",
    "        \n",
    "        \n",
    "class child(brand, bmw, lambo):\n",
    "    def __init__(self, name):\n",
    "        super().__init__(name)\n",
    "            \n",
    "    def showinfo3(self):\n",
    "        print(f'name- {self.name}')"
   ]
  },
  {
   "cell_type": "code",
   "execution_count": 391,
   "id": "c99167b4",
   "metadata": {},
   "outputs": [
    {
     "name": "stdout",
     "output_type": "stream",
     "text": [
      "name- somename\n"
     ]
    }
   ],
   "source": [
    "childobj = child('somename')\n",
    "childobj.showinfo3()"
   ]
  },
  {
   "cell_type": "code",
   "execution_count": null,
   "id": "140988d9",
   "metadata": {},
   "outputs": [],
   "source": []
  },
  {
   "cell_type": "code",
   "execution_count": null,
   "id": "e8ae48c4",
   "metadata": {},
   "outputs": [],
   "source": []
  }
 ],
 "metadata": {
  "kernelspec": {
   "display_name": "Python 3 (ipykernel)",
   "language": "python",
   "name": "python3"
  },
  "language_info": {
   "codemirror_mode": {
    "name": "ipython",
    "version": 3
   },
   "file_extension": ".py",
   "mimetype": "text/x-python",
   "name": "python",
   "nbconvert_exporter": "python",
   "pygments_lexer": "ipython3",
   "version": "3.11.5"
  }
 },
 "nbformat": 4,
 "nbformat_minor": 5
}
